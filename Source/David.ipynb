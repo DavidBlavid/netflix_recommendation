{
 "cells": [
  {
   "attachments": {},
   "cell_type": "markdown",
   "metadata": {},
   "source": [
    "# Netflix recommendation engine\n",
    "\n",
    "Based on the [netflix prize dataset](https://www.kaggle.com/datasets/netflix-inc/netflix-prize-data). Our\n",
    "goal is to build a recommendation engine.\n",
    "\n",
    "## Importing the libraries"
   ]
  },
  {
   "cell_type": "code",
   "execution_count": 1,
   "metadata": {},
   "outputs": [],
   "source": [
    "import polars as pl\n",
    "import sqlite3"
   ]
  },
  {
   "attachments": {},
   "cell_type": "markdown",
   "metadata": {},
   "source": [
    "## Connect to database\n",
    "\n",
    "Here we connect to the database `netflix_dev.db`. Currently, we are using a small portion of the whole dataset, around 100.000 / 100.000.000 Entries. This is due to the fact that the whole dataset is too big to be processed on a normal computer. We are using a sample of 100.000 entries to test our code and to get a first impression of the data. The sample is randomly chosen, so it is representative for the whole dataset."
   ]
  },
  {
   "attachments": {},
   "cell_type": "markdown",
   "metadata": {},
   "source": [
    "- `netflix_data` contains the ratings from the netflix prize challenge.\n",
    "- `movie_titles` contains the titles corresponding to the `film` column in `netflix_data`\n",
    "- `combined` is a join of `netflix_data` and `movie_titles` over the `film` column."
   ]
  },
  {
   "cell_type": "code",
   "execution_count": 4,
   "metadata": {},
   "outputs": [],
   "source": [
    "db_path = 'netflix_dev.db'\n",
    "db_conn = 'sqlite://' + db_path"
   ]
  },
  {
   "cell_type": "code",
   "execution_count": 6,
   "metadata": {},
   "outputs": [],
   "source": [
    "netflix_data = pl.read_database(\"SELECT * FROM netflix_data\", db_conn)\n",
    "movie_titles = pl.read_database(\"SELECT * FROM movie_titles\", db_conn)\n",
    "combined     = pl.read_database(\"SELECT * FROM netflix_data, movie_titles \\\n",
    "                                  WHERE netflix_data.film = movie_titles.film\", db_conn)"
   ]
  },
  {
   "cell_type": "code",
   "execution_count": 7,
   "metadata": {},
   "outputs": [
    {
     "data": {
      "text/html": [
       "<div><style>\n",
       ".dataframe > thead > tr > th,\n",
       ".dataframe > tbody > tr > td {\n",
       "  text-align: right;\n",
       "}\n",
       "</style>\n",
       "<small>shape: (100_000, 6)</small><table border=\"1\" class=\"dataframe\"><thead><tr><th>film</th><th>user</th><th>rating</th><th>date</th><th>year</th><th>title</th></tr><tr><td>i64</td><td>i64</td><td>i64</td><td>str</td><td>str</td><td>str</td></tr></thead><tbody><tr><td>12401</td><td>993438</td><td>2</td><td>&quot;2005-04-15\n",
       "&quot;</td><td>&quot;2000&quot;</td><td>&quot;Nico and Dani&quot;</td></tr><tr><td>14103</td><td>328402</td><td>4</td><td>&quot;2005-04-17\n",
       "&quot;</td><td>&quot;2004&quot;</td><td>&quot;The Notebook&quot;</td></tr><tr><td>13691</td><td>1555660</td><td>4</td><td>&quot;2004-11-15\n",
       "&quot;</td><td>&quot;1949&quot;</td><td>&quot;The Adventures…</td></tr><tr><td>11607</td><td>1281112</td><td>5</td><td>&quot;2005-05-05\n",
       "&quot;</td><td>&quot;2005&quot;</td><td>&quot;Hotel Rwanda&quot;</td></tr><tr><td>11047</td><td>713840</td><td>4</td><td>&quot;2005-12-17\n",
       "&quot;</td><td>&quot;1995&quot;</td><td>&quot;Outbreak&quot;</td></tr><tr><td>9188</td><td>2038403</td><td>4</td><td>&quot;2003-09-24\n",
       "&quot;</td><td>&quot;1988&quot;</td><td>&quot;Cocktail&quot;</td></tr><tr><td>788</td><td>2574115</td><td>3</td><td>&quot;2005-02-04\n",
       "&quot;</td><td>&quot;1994&quot;</td><td>&quot;Clerks&quot;</td></tr><tr><td>2905</td><td>2510444</td><td>4</td><td>&quot;2004-01-27\n",
       "&quot;</td><td>&quot;1998&quot;</td><td>&quot;Croupier&quot;</td></tr><tr><td>12293</td><td>2269486</td><td>4</td><td>&quot;2003-09-10\n",
       "&quot;</td><td>&quot;1972&quot;</td><td>&quot;The Godfather&quot;</td></tr><tr><td>16377</td><td>2000183</td><td>5</td><td>&quot;2000-12-26\n",
       "&quot;</td><td>&quot;1999&quot;</td><td>&quot;The Green Mile…</td></tr><tr><td>11013</td><td>115937</td><td>3</td><td>&quot;2005-06-22\n",
       "&quot;</td><td>&quot;2001&quot;</td><td>&quot;The Mexican&quot;</td></tr><tr><td>13074</td><td>2151740</td><td>3</td><td>&quot;2003-10-17\n",
       "&quot;</td><td>&quot;2002&quot;</td><td>&quot;The Transporte…</td></tr><tr><td>&hellip;</td><td>&hellip;</td><td>&hellip;</td><td>&hellip;</td><td>&hellip;</td><td>&hellip;</td></tr><tr><td>16108</td><td>1022452</td><td>3</td><td>&quot;2005-02-27\n",
       "&quot;</td><td>&quot;2002&quot;</td><td>&quot;Con Man&quot;</td></tr><tr><td>7812</td><td>555069</td><td>5</td><td>&quot;2004-11-14\n",
       "&quot;</td><td>&quot;1932&quot;</td><td>&quot;Freaks&quot;</td></tr><tr><td>2186</td><td>1828744</td><td>3</td><td>&quot;2004-08-13\n",
       "&quot;</td><td>&quot;1995&quot;</td><td>&quot;Bad Boys&quot;</td></tr><tr><td>11337</td><td>1900617</td><td>5</td><td>&quot;2000-01-08\n",
       "&quot;</td><td>&quot;1999&quot;</td><td>&quot;American Pie&quot;</td></tr><tr><td>17355</td><td>1131397</td><td>3</td><td>&quot;2005-11-03\n",
       "&quot;</td><td>&quot;2004&quot;</td><td>&quot;The Terminal&quot;</td></tr><tr><td>7331</td><td>1499412</td><td>3</td><td>&quot;2004-11-15\n",
       "&quot;</td><td>&quot;2004&quot;</td><td>&quot;Secret Window&quot;</td></tr><tr><td>5181</td><td>891798</td><td>3</td><td>&quot;2004-10-06\n",
       "&quot;</td><td>&quot;2003&quot;</td><td>&quot;Under the Tusc…</td></tr><tr><td>4306</td><td>1999723</td><td>4</td><td>&quot;2005-10-10\n",
       "&quot;</td><td>&quot;1999&quot;</td><td>&quot;The Sixth Sens…</td></tr><tr><td>13748</td><td>536263</td><td>5</td><td>&quot;2005-05-18\n",
       "&quot;</td><td>&quot;1996&quot;</td><td>&quot;The First Wive…</td></tr><tr><td>13517</td><td>21823</td><td>3</td><td>&quot;2003-09-25\n",
       "&quot;</td><td>&quot;2000&quot;</td><td>&quot;Happenstance&quot;</td></tr><tr><td>5894</td><td>1107428</td><td>4</td><td>&quot;2005-03-01\n",
       "&quot;</td><td>&quot;1993&quot;</td><td>&quot;Hard Target&quot;</td></tr><tr><td>15205</td><td>749553</td><td>5</td><td>&quot;2005-05-24\n",
       "&quot;</td><td>&quot;2004&quot;</td><td>&quot;The Day After …</td></tr></tbody></table></div>"
      ],
      "text/plain": [
       "shape: (100_000, 6)\n",
       "┌───────┬─────────┬────────┬────────────┬──────┬───────────────────────────────────┐\n",
       "│ film  ┆ user    ┆ rating ┆ date       ┆ year ┆ title                             │\n",
       "│ ---   ┆ ---     ┆ ---    ┆ ---        ┆ ---  ┆ ---                               │\n",
       "│ i64   ┆ i64     ┆ i64    ┆ str        ┆ str  ┆ str                               │\n",
       "╞═══════╪═════════╪════════╪════════════╪══════╪═══════════════════════════════════╡\n",
       "│ 12401 ┆ 993438  ┆ 2      ┆ 2005-04-15 ┆ 2000 ┆ Nico and Dani                     │\n",
       "│       ┆         ┆        ┆            ┆      ┆                                   │\n",
       "│ 14103 ┆ 328402  ┆ 4      ┆ 2005-04-17 ┆ 2004 ┆ The Notebook                      │\n",
       "│       ┆         ┆        ┆            ┆      ┆                                   │\n",
       "│ 13691 ┆ 1555660 ┆ 4      ┆ 2004-11-15 ┆ 1949 ┆ The Adventures of Ichabod and Mr… │\n",
       "│       ┆         ┆        ┆            ┆      ┆                                   │\n",
       "│ 11607 ┆ 1281112 ┆ 5      ┆ 2005-05-05 ┆ 2005 ┆ Hotel Rwanda                      │\n",
       "│       ┆         ┆        ┆            ┆      ┆                                   │\n",
       "│ …     ┆ …       ┆ …      ┆ …          ┆ …    ┆ …                                 │\n",
       "│ 13748 ┆ 536263  ┆ 5      ┆ 2005-05-18 ┆ 1996 ┆ The First Wives Club              │\n",
       "│       ┆         ┆        ┆            ┆      ┆                                   │\n",
       "│ 13517 ┆ 21823   ┆ 3      ┆ 2003-09-25 ┆ 2000 ┆ Happenstance                      │\n",
       "│       ┆         ┆        ┆            ┆      ┆                                   │\n",
       "│ 5894  ┆ 1107428 ┆ 4      ┆ 2005-03-01 ┆ 1993 ┆ Hard Target                       │\n",
       "│       ┆         ┆        ┆            ┆      ┆                                   │\n",
       "│ 15205 ┆ 749553  ┆ 5      ┆ 2005-05-24 ┆ 2004 ┆ The Day After Tomorrow            │\n",
       "│       ┆         ┆        ┆            ┆      ┆                                   │\n",
       "└───────┴─────────┴────────┴────────────┴──────┴───────────────────────────────────┘"
      ]
     },
     "execution_count": 7,
     "metadata": {},
     "output_type": "execute_result"
    }
   ],
   "source": [
    "combined"
   ]
  },
  {
   "attachments": {},
   "cell_type": "markdown",
   "metadata": {},
   "source": [
    "## Run some queries\n",
    "\n",
    "Now we run some queries on the data.\n",
    "- `top_100` contains the 100 most rated movies.\n",
    "- `best_rated` contains the 100 best rated movies that have at least 50 ratings.\n",
    "- `not_rated` contains all movies that have no ratings."
   ]
  },
  {
   "cell_type": "code",
   "execution_count": 8,
   "metadata": {},
   "outputs": [
    {
     "data": {
      "text/html": [
       "<div><style>\n",
       ".dataframe > thead > tr > th,\n",
       ".dataframe > tbody > tr > td {\n",
       "  text-align: right;\n",
       "}\n",
       "</style>\n",
       "<small>shape: (100, 4)</small><table border=\"1\" class=\"dataframe\"><thead><tr><th>film</th><th>title</th><th>num_ratings</th><th>avg_rating</th></tr><tr><td>i64</td><td>str</td><td>i64</td><td>f64</td></tr></thead><tbody><tr><td>5317</td><td>&quot;Miss Congenial…</td><td>233</td><td>3.549356</td></tr><tr><td>15124</td><td>&quot;Independence D…</td><td>220</td><td>3.736364</td></tr><tr><td>15205</td><td>&quot;The Day After …</td><td>212</td><td>3.476415</td></tr><tr><td>11283</td><td>&quot;Forrest Gump&quot;</td><td>199</td><td>4.351759</td></tr><tr><td>16242</td><td>&quot;Con Air&quot;</td><td>196</td><td>3.377551</td></tr><tr><td>15582</td><td>&quot;Sweet Home Ala…</td><td>191</td><td>3.507853</td></tr><tr><td>6287</td><td>&quot;Pretty Woman&quot;</td><td>190</td><td>3.884211</td></tr><tr><td>6972</td><td>&quot;Armageddon&quot;</td><td>186</td><td>3.5</td></tr><tr><td>14313</td><td>&quot;The Patriot&quot;</td><td>184</td><td>3.869565</td></tr><tr><td>1905</td><td>&quot;Pirates of the…</td><td>183</td><td>4.245902</td></tr><tr><td>1962</td><td>&quot;50 First Dates…</td><td>178</td><td>3.780899</td></tr><tr><td>4432</td><td>&quot;The Italian Jo…</td><td>172</td><td>3.767442</td></tr><tr><td>&hellip;</td><td>&hellip;</td><td>&hellip;</td><td>&hellip;</td></tr><tr><td>11337</td><td>&quot;American Pie&quot;</td><td>120</td><td>3.675</td></tr><tr><td>12293</td><td>&quot;The Godfather&quot;</td><td>120</td><td>4.5</td></tr><tr><td>12338</td><td>&quot;Harry Potter a…</td><td>120</td><td>4.208333</td></tr><tr><td>12966</td><td>&quot;The Aviator&quot;</td><td>120</td><td>3.5</td></tr><tr><td>14660</td><td>&quot;The Waterboy&quot;</td><td>120</td><td>3.358333</td></tr><tr><td>5085</td><td>&quot;Seabiscuit&quot;</td><td>119</td><td>4.033613</td></tr><tr><td>8387</td><td>&quot;Minority Repor…</td><td>119</td><td>3.554622</td></tr><tr><td>8904</td><td>&quot;Good Will Hunt…</td><td>119</td><td>4.294118</td></tr><tr><td>13462</td><td>&quot;The General&#x27;s …</td><td>119</td><td>3.268908</td></tr><tr><td>1307</td><td>&quot;S.W.A.T.&quot;</td><td>118</td><td>3.322034</td></tr><tr><td>3151</td><td>&quot;Napoleon Dynam…</td><td>118</td><td>3.381356</td></tr><tr><td>8644</td><td>&quot;Catch Me If Yo…</td><td>118</td><td>3.771186</td></tr></tbody></table></div>"
      ],
      "text/plain": [
       "shape: (100, 4)\n",
       "┌───────┬────────────────────────┬─────────────┬────────────┐\n",
       "│ film  ┆ title                  ┆ num_ratings ┆ avg_rating │\n",
       "│ ---   ┆ ---                    ┆ ---         ┆ ---        │\n",
       "│ i64   ┆ str                    ┆ i64         ┆ f64        │\n",
       "╞═══════╪════════════════════════╪═════════════╪════════════╡\n",
       "│ 5317  ┆ Miss Congeniality      ┆ 233         ┆ 3.549356   │\n",
       "│ 15124 ┆ Independence Day       ┆ 220         ┆ 3.736364   │\n",
       "│ 15205 ┆ The Day After Tomorrow ┆ 212         ┆ 3.476415   │\n",
       "│ 11283 ┆ Forrest Gump           ┆ 199         ┆ 4.351759   │\n",
       "│ …     ┆ …                      ┆ …           ┆ …          │\n",
       "│ 13462 ┆ The General's Daughter ┆ 119         ┆ 3.268908   │\n",
       "│ 1307  ┆ S.W.A.T.               ┆ 118         ┆ 3.322034   │\n",
       "│ 3151  ┆ Napoleon Dynamite      ┆ 118         ┆ 3.381356   │\n",
       "│ 8644  ┆ Catch Me If You Can    ┆ 118         ┆ 3.771186   │\n",
       "└───────┴────────────────────────┴─────────────┴────────────┘"
      ]
     },
     "execution_count": 8,
     "metadata": {},
     "output_type": "execute_result"
    }
   ],
   "source": [
    "top_100 = pl.read_database(\"SELECT netflix_data.film, movie_titles.title, COUNT(*) AS 'num_ratings', AVG(netflix_data.rating) AS 'avg_rating' \\\n",
    "                            FROM netflix_data, movie_titles \\\n",
    "                            WHERE netflix_data.film = movie_titles.film \\\n",
    "                            GROUP BY netflix_data.film, title \\\n",
    "                            ORDER BY COUNT(*) DESC \\\n",
    "                            LIMIT 100 \\\n",
    "                            \", db_conn)\n",
    "\n",
    "top_100"
   ]
  },
  {
   "cell_type": "code",
   "execution_count": 9,
   "metadata": {},
   "outputs": [
    {
     "data": {
      "text/html": [
       "<div><style>\n",
       ".dataframe > thead > tr > th,\n",
       ".dataframe > tbody > tr > td {\n",
       "  text-align: right;\n",
       "}\n",
       "</style>\n",
       "<small>shape: (100, 4)</small><table border=\"1\" class=\"dataframe\"><thead><tr><th>film</th><th>title</th><th>num_ratings</th><th>avg_rating</th></tr><tr><td>i64</td><td>str</td><td>i64</td><td>f64</td></tr></thead><tbody><tr><td>14961</td><td>&quot;Lord of the Ri…</td><td>83</td><td>4.759036</td></tr><tr><td>5582</td><td>&quot;Star Wars: Epi…</td><td>98</td><td>4.704082</td></tr><tr><td>7230</td><td>&quot;The Lord of th…</td><td>74</td><td>4.702703</td></tr><tr><td>7057</td><td>&quot;Lord of the Ri…</td><td>75</td><td>4.626667</td></tr><tr><td>16265</td><td>&quot;Star Wars: Epi…</td><td>89</td><td>4.58427</td></tr><tr><td>14550</td><td>&quot;The Shawshank …</td><td>151</td><td>4.576159</td></tr><tr><td>9628</td><td>&quot;Star Wars: Epi…</td><td>84</td><td>4.559524</td></tr><tr><td>14240</td><td>&quot;Lord of the Ri…</td><td>140</td><td>4.557143</td></tr><tr><td>10042</td><td>&quot;Raiders of the…</td><td>108</td><td>4.509259</td></tr><tr><td>12293</td><td>&quot;The Godfather&quot;</td><td>120</td><td>4.5</td></tr><tr><td>12870</td><td>&quot;Schindler&#x27;s Li…</td><td>93</td><td>4.494624</td></tr><tr><td>5561</td><td>&quot;Cool Hand Luke…</td><td>54</td><td>4.444444</td></tr><tr><td>&hellip;</td><td>&hellip;</td><td>&hellip;</td><td>&hellip;</td></tr><tr><td>11443</td><td>&quot;Harry Potter a…</td><td>97</td><td>4.030928</td></tr><tr><td>17324</td><td>&quot;Hitch&quot;</td><td>106</td><td>4.028302</td></tr><tr><td>5926</td><td>&quot;Fight Club&quot;</td><td>109</td><td>4.027523</td></tr><tr><td>16223</td><td>&quot;Vertigo&quot;</td><td>51</td><td>4.019608</td></tr><tr><td>886</td><td>&quot;Ray&quot;</td><td>105</td><td>4.019048</td></tr><tr><td>9189</td><td>&quot;Crimson Tide&quot;</td><td>61</td><td>4.016393</td></tr><tr><td>10607</td><td>&quot;We Were Soldie…</td><td>67</td><td>4.014925</td></tr><tr><td>3624</td><td>&quot;The Last Samur…</td><td>139</td><td>4.014388</td></tr><tr><td>7511</td><td>&quot;Blade&quot;</td><td>72</td><td>4.013889</td></tr><tr><td>8915</td><td>&quot;Terminator 2: …</td><td>76</td><td>4.013158</td></tr><tr><td>13302</td><td>&quot;Blazing Saddle…</td><td>78</td><td>4.012821</td></tr><tr><td>571</td><td>&quot;American Beaut…</td><td>160</td><td>4.0125</td></tr></tbody></table></div>"
      ],
      "text/plain": [
       "shape: (100, 4)\n",
       "┌───────┬───────────────────────────────────┬─────────────┬────────────┐\n",
       "│ film  ┆ title                             ┆ num_ratings ┆ avg_rating │\n",
       "│ ---   ┆ ---                               ┆ ---         ┆ ---        │\n",
       "│ i64   ┆ str                               ┆ i64         ┆ f64        │\n",
       "╞═══════╪═══════════════════════════════════╪═════════════╪════════════╡\n",
       "│ 14961 ┆ Lord of the Rings: The Return of… ┆ 83          ┆ 4.759036   │\n",
       "│ 5582  ┆ Star Wars: Episode V: The Empire… ┆ 98          ┆ 4.704082   │\n",
       "│ 7230  ┆ The Lord of the Rings: The Fello… ┆ 74          ┆ 4.702703   │\n",
       "│ 7057  ┆ Lord of the Rings: The Two Tower… ┆ 75          ┆ 4.626667   │\n",
       "│ …     ┆ …                                 ┆ …           ┆ …          │\n",
       "│ 7511  ┆ Blade                             ┆ 72          ┆ 4.013889   │\n",
       "│ 8915  ┆ Terminator 2: Extreme Edition     ┆ 76          ┆ 4.013158   │\n",
       "│ 13302 ┆ Blazing Saddles                   ┆ 78          ┆ 4.012821   │\n",
       "│ 571   ┆ American Beauty                   ┆ 160         ┆ 4.0125     │\n",
       "└───────┴───────────────────────────────────┴─────────────┴────────────┘"
      ]
     },
     "execution_count": 9,
     "metadata": {},
     "output_type": "execute_result"
    }
   ],
   "source": [
    "best_rated = pl.read_database(\"SELECT netflix_data.film, movie_titles.title, COUNT(*) AS 'num_ratings', AVG(netflix_data.rating) AS 'avg_rating' \\\n",
    "                                FROM netflix_data, movie_titles \\\n",
    "                                WHERE netflix_data.film = movie_titles.film \\\n",
    "                                GROUP BY netflix_data.film, title \\\n",
    "                                HAVING num_ratings > 50 \\\n",
    "                                ORDER BY AVG(netflix_data.rating) DESC \\\n",
    "                                LIMIT 100\", db_conn)\n",
    "\n",
    "best_rated"
   ]
  },
  {
   "cell_type": "code",
   "execution_count": 10,
   "metadata": {},
   "outputs": [
    {
     "data": {
      "text/html": [
       "<div><style>\n",
       ".dataframe > thead > tr > th,\n",
       ".dataframe > tbody > tr > td {\n",
       "  text-align: right;\n",
       "}\n",
       "</style>\n",
       "<small>shape: (8_535, 2)</small><table border=\"1\" class=\"dataframe\"><thead><tr><th>film</th><th>title</th></tr><tr><td>i64</td><td>str</td></tr></thead><tbody><tr><td>4</td><td>&quot;Paula Abdul&#x27;s …</td></tr><tr><td>5</td><td>&quot;The Rise and F…</td></tr><tr><td>7</td><td>&quot;8 Man&quot;</td></tr><tr><td>9</td><td>&quot;Class of Nuke …</td></tr><tr><td>11</td><td>&quot;Full Frame: Do…</td></tr><tr><td>14</td><td>&quot;Nature: Antarc…</td></tr><tr><td>19</td><td>&quot;By Dawn&#x27;s Earl…</td></tr><tr><td>21</td><td>&quot;Strange Relati…</td></tr><tr><td>29</td><td>&quot;Boycott&quot;</td></tr><tr><td>31</td><td>&quot;Classic Albums…</td></tr><tr><td>34</td><td>&quot;Ashtanga Yoga:…</td></tr><tr><td>37</td><td>&quot;Zatoichi&#x27;s Con…</td></tr><tr><td>&hellip;</td><td>&hellip;</td></tr><tr><td>17745</td><td>&quot;Russell Simmon…</td></tr><tr><td>17746</td><td>&quot;Godzilla &amp; Mot…</td></tr><tr><td>17747</td><td>&quot;Eric Clapton: …</td></tr><tr><td>17749</td><td>&quot;No End&quot;</td></tr><tr><td>17750</td><td>&quot;The Hee Haw Co…</td></tr><tr><td>17752</td><td>&quot;Out of Order&quot;</td></tr><tr><td>17753</td><td>&quot;Maslin Beach&quot;</td></tr><tr><td>17755</td><td>&quot;L/R: Licensed …</td></tr><tr><td>17757</td><td>&quot;Ulysses S. Gra…</td></tr><tr><td>17760</td><td>&quot;Lightning Bug&quot;</td></tr><tr><td>17765</td><td>&quot;Godzilla&#x27;s Rev…</td></tr><tr><td>17766</td><td>&quot;Where the Wild…</td></tr></tbody></table></div>"
      ],
      "text/plain": [
       "shape: (8_535, 2)\n",
       "┌───────┬───────────────────────────────────┐\n",
       "│ film  ┆ title                             │\n",
       "│ ---   ┆ ---                               │\n",
       "│ i64   ┆ str                               │\n",
       "╞═══════╪═══════════════════════════════════╡\n",
       "│ 4     ┆ Paula Abdul's Get Up & Dance      │\n",
       "│ 5     ┆ The Rise and Fall of ECW          │\n",
       "│ 7     ┆ 8 Man                             │\n",
       "│ 9     ┆ Class of Nuke 'Em High 2          │\n",
       "│ …     ┆ …                                 │\n",
       "│ 17757 ┆ Ulysses S. Grant: Warrior / Pres… │\n",
       "│ 17760 ┆ Lightning Bug                     │\n",
       "│ 17765 ┆ Godzilla's Revenge                │\n",
       "│ 17766 ┆ Where the Wild Things Are and Ot… │\n",
       "└───────┴───────────────────────────────────┘"
      ]
     },
     "execution_count": 10,
     "metadata": {},
     "output_type": "execute_result"
    }
   ],
   "source": [
    "not_rated = pl.read_database(\"SELECT movie_titles.film, movie_titles.title \\\n",
    "                                FROM movie_titles \\\n",
    "                                WHERE movie_titles.film NOT IN (SELECT film FROM netflix_data)\",  db_conn)\n",
    "\n",
    "not_rated"
   ]
  }
 ],
 "metadata": {
  "kernelspec": {
   "display_name": "Python 3",
   "language": "python",
   "name": "python3"
  },
  "language_info": {
   "codemirror_mode": {
    "name": "ipython",
    "version": 3
   },
   "file_extension": ".py",
   "mimetype": "text/x-python",
   "name": "python",
   "nbconvert_exporter": "python",
   "pygments_lexer": "ipython3",
   "version": "3.11.3"
  },
  "orig_nbformat": 4
 },
 "nbformat": 4,
 "nbformat_minor": 2
}
