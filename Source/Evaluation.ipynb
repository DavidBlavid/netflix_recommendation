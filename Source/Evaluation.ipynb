{
 "cells": [
  {
   "attachments": {},
   "cell_type": "markdown",
   "metadata": {},
   "source": [
    "---\n",
    "# Setup"
   ]
  },
  {
   "cell_type": "code",
   "execution_count": 5,
   "metadata": {},
   "outputs": [
    {
     "ename": "ImportError",
     "evalue": "cannot import name 'Cosine_Similarity2' from 'JulianFinal2' (c:\\Users\\julia\\OneDrive\\Desktop\\netflix_recommendation\\Source\\JulianFinal2.py)",
     "output_type": "error",
     "traceback": [
      "\u001b[1;31m---------------------------------------------------------------------------\u001b[0m",
      "\u001b[1;31mImportError\u001b[0m                               Traceback (most recent call last)",
      "Cell \u001b[1;32mIn[5], line 12\u001b[0m\n\u001b[0;32m     10\u001b[0m \u001b[39mimport\u001b[39;00m \u001b[39mjson\u001b[39;00m\n\u001b[0;32m     11\u001b[0m \u001b[39mfrom\u001b[39;00m \u001b[39mJulianFinal\u001b[39;00m \u001b[39mimport\u001b[39;00m Cosine_Similarity\n\u001b[1;32m---> 12\u001b[0m \u001b[39mfrom\u001b[39;00m \u001b[39mJulianFinal2\u001b[39;00m \u001b[39mimport\u001b[39;00m Cosine_Similarity2\n",
      "\u001b[1;31mImportError\u001b[0m: cannot import name 'Cosine_Similarity2' from 'JulianFinal2' (c:\\Users\\julia\\OneDrive\\Desktop\\netflix_recommendation\\Source\\JulianFinal2.py)"
     ]
    }
   ],
   "source": [
    "import polars as pl\n",
    "import pandas as pd\n",
    "import matplotlib.pyplot as plt\n",
    "import numpy as np\n",
    "from tqdm import tqdm\n",
    "from time import sleep\n",
    "import datetime\n",
    "import sqlite3\n",
    "import requests\n",
    "import json\n",
    "from JulianFinal import Cosine_Similarity\n",
    "from JulianFinal2 import Cosine_Similarity2\n",
    "\n"
   ]
  },
  {
   "cell_type": "code",
   "execution_count": 18,
   "metadata": {},
   "outputs": [
    {
     "name": "stderr",
     "output_type": "stream",
     "text": [
      "c:\\Users\\julia\\AppData\\Local\\Programs\\Python\\Python310\\lib\\site-packages\\sklearn\\feature_extraction\\text.py:528: UserWarning: The parameter 'token_pattern' will not be used since 'tokenizer' is not None'\n",
      "  warnings.warn(\n",
      "c:\\Users\\julia\\AppData\\Local\\Programs\\Python\\Python310\\lib\\site-packages\\sklearn\\cluster\\_kmeans.py:870: FutureWarning: The default value of `n_init` will change from 10 to 'auto' in 1.4. Set the value of `n_init` explicitly to suppress the warning\n",
      "  warnings.warn(\n"
     ]
    }
   ],
   "source": [
    "cosine_similarity = Cosine_Similarity()\n"
   ]
  },
  {
   "cell_type": "code",
   "execution_count": 3,
   "metadata": {},
   "outputs": [],
   "source": [
    "# small size for testing (100.000 rows)\n",
    "db_dev_path = 'netflix_dev.db'\n",
    "db_dev_conn = 'sqlite://' + db_dev_path\n",
    "\n",
    "# full size for production (~100.000.000 rows)\n",
    "db_prod_path = 'netflix.db'\n",
    "db_prod_conn = 'sqlite://' + db_prod_path\n",
    "\n",
    "netflix_data = pl.read_database(\"SELECT * FROM netflix_data\", db_prod_conn)\n",
    "movie_titles = pl.read_database(\"SELECT * FROM movie_titles\", db_dev_conn)"
   ]
  },
  {
   "cell_type": "code",
   "execution_count": 5,
   "metadata": {},
   "outputs": [
    {
     "data": {
      "text/html": [
       "<div><style>\n",
       ".dataframe > thead > tr > th,\n",
       ".dataframe > tbody > tr > td {\n",
       "  text-align: right;\n",
       "}\n",
       "</style>\n",
       "<small>shape: (100_480_507, 4)</small><table border=\"1\" class=\"dataframe\"><thead><tr><th>film</th><th>user</th><th>rating</th><th>date</th></tr><tr><td>i64</td><td>i64</td><td>i64</td><td>str</td></tr></thead><tbody><tr><td>1</td><td>1488844</td><td>3</td><td>&quot;2005-09-06\n",
       "&quot;</td></tr><tr><td>1</td><td>822109</td><td>5</td><td>&quot;2005-05-13\n",
       "&quot;</td></tr><tr><td>1</td><td>885013</td><td>4</td><td>&quot;2005-10-19\n",
       "&quot;</td></tr><tr><td>1</td><td>30878</td><td>4</td><td>&quot;2005-12-26\n",
       "&quot;</td></tr><tr><td>1</td><td>823519</td><td>3</td><td>&quot;2004-05-03\n",
       "&quot;</td></tr><tr><td>1</td><td>893988</td><td>3</td><td>&quot;2005-11-17\n",
       "&quot;</td></tr><tr><td>1</td><td>124105</td><td>4</td><td>&quot;2004-08-05\n",
       "&quot;</td></tr><tr><td>1</td><td>1248029</td><td>3</td><td>&quot;2004-04-22\n",
       "&quot;</td></tr><tr><td>1</td><td>1842128</td><td>4</td><td>&quot;2004-05-09\n",
       "&quot;</td></tr><tr><td>1</td><td>2238063</td><td>3</td><td>&quot;2005-05-11\n",
       "&quot;</td></tr><tr><td>1</td><td>1503895</td><td>4</td><td>&quot;2005-05-19\n",
       "&quot;</td></tr><tr><td>1</td><td>2207774</td><td>5</td><td>&quot;2005-06-06\n",
       "&quot;</td></tr><tr><td>&hellip;</td><td>&hellip;</td><td>&hellip;</td><td>&hellip;</td></tr><tr><td>17770</td><td>1274035</td><td>4</td><td>&quot;2005-06-10\n",
       "&quot;</td></tr><tr><td>17770</td><td>2641559</td><td>3</td><td>&quot;2005-06-27\n",
       "&quot;</td></tr><tr><td>17770</td><td>834323</td><td>2</td><td>&quot;2005-10-04\n",
       "&quot;</td></tr><tr><td>17770</td><td>516110</td><td>5</td><td>&quot;2004-08-26\n",
       "&quot;</td></tr><tr><td>17770</td><td>365996</td><td>3</td><td>&quot;2003-11-10\n",
       "&quot;</td></tr><tr><td>17770</td><td>986348</td><td>4</td><td>&quot;2004-08-12\n",
       "&quot;</td></tr><tr><td>17770</td><td>311124</td><td>3</td><td>&quot;2005-09-29\n",
       "&quot;</td></tr><tr><td>17770</td><td>1790158</td><td>4</td><td>&quot;2005-11-01\n",
       "&quot;</td></tr><tr><td>17770</td><td>1608708</td><td>3</td><td>&quot;2005-07-19\n",
       "&quot;</td></tr><tr><td>17770</td><td>234275</td><td>1</td><td>&quot;2004-08-07\n",
       "&quot;</td></tr><tr><td>17770</td><td>255278</td><td>4</td><td>&quot;2004-05-28\n",
       "&quot;</td></tr><tr><td>17770</td><td>453585</td><td>2</td><td>&quot;2005-03-10\n",
       "&quot;</td></tr></tbody></table></div>"
      ],
      "text/plain": [
       "shape: (100_480_507, 4)\n",
       "┌───────┬─────────┬────────┬────────────┐\n",
       "│ film  ┆ user    ┆ rating ┆ date       │\n",
       "│ ---   ┆ ---     ┆ ---    ┆ ---        │\n",
       "│ i64   ┆ i64     ┆ i64    ┆ str        │\n",
       "╞═══════╪═════════╪════════╪════════════╡\n",
       "│ 1     ┆ 1488844 ┆ 3      ┆ 2005-09-06 │\n",
       "│       ┆         ┆        ┆            │\n",
       "│ 1     ┆ 822109  ┆ 5      ┆ 2005-05-13 │\n",
       "│       ┆         ┆        ┆            │\n",
       "│ 1     ┆ 885013  ┆ 4      ┆ 2005-10-19 │\n",
       "│       ┆         ┆        ┆            │\n",
       "│ 1     ┆ 30878   ┆ 4      ┆ 2005-12-26 │\n",
       "│       ┆         ┆        ┆            │\n",
       "│ …     ┆ …       ┆ …      ┆ …          │\n",
       "│ 17770 ┆ 1608708 ┆ 3      ┆ 2005-07-19 │\n",
       "│       ┆         ┆        ┆            │\n",
       "│ 17770 ┆ 234275  ┆ 1      ┆ 2004-08-07 │\n",
       "│       ┆         ┆        ┆            │\n",
       "│ 17770 ┆ 255278  ┆ 4      ┆ 2004-05-28 │\n",
       "│       ┆         ┆        ┆            │\n",
       "│ 17770 ┆ 453585  ┆ 2      ┆ 2005-03-10 │\n",
       "│       ┆         ┆        ┆            │\n",
       "└───────┴─────────┴────────┴────────────┘"
      ]
     },
     "execution_count": 5,
     "metadata": {},
     "output_type": "execute_result"
    }
   ],
   "source": [
    "netflix_data"
   ]
  },
  {
   "attachments": {},
   "cell_type": "markdown",
   "metadata": {},
   "source": [
    "---\n",
    "# Functions\n",
    "\n",
    "Implement your recommendation engine logic in `predict_rating()`. Then, call\n",
    "`full_evaluation()` to evaluate your engine.\n",
    "\n",
    "| Function | Description |\n",
    "| --- | --- |\n",
    "| `get_user_ratings(user_id)` | Returns a DataFrame of all ratings for a given user. |\n",
    "| `ratings_to_vector(ratings, placeholder=-1)` | Transforms a DataFrame of ratings into a vector. |\n",
    "| `mask_ratings(ratings, split)` | Mask ratings in a user's rating DataFrame. Works like a training-/test-set split |\n",
    "| `predict_rating(user_id, movie_id)` | Predict how a user would rate a movie. **IMPLEMENT YOUR ENGINE HERE**|\n",
    "| `rate_all(user_id)` | Predict ratings of all movies for a given user |\n",
    "| `get_top_rated(ratings, split)` | Get the top rated movies for a user. |\n",
    "| `evaluate(masked_ratings, top_ratings)` | Evaluate the accuracy of the predictions. |\n",
    "| `full_evaluation(user_id, split_mask, split_top)` | Like evaluate() but contains all the steps. |"
   ]
  },
  {
   "cell_type": "code",
   "execution_count": 4,
   "metadata": {},
   "outputs": [],
   "source": [
    "# get all ratings for a specific user\n",
    "def get_user_ratings(user_id):\n",
    "    return netflix_data.filter(pl.col(\"user\") == user_id)"
   ]
  },
  {
   "cell_type": "code",
   "execution_count": 5,
   "metadata": {},
   "outputs": [],
   "source": [
    "# get all ratings for a specific user with rating > 3\n",
    "def get_highly_rated_user_ratings(user_id):\n",
    "    return netflix_data.filter((pl.col(\"user\") == user_id) & (pl.col(\"rating\") >= 4))\n"
   ]
  },
  {
   "cell_type": "code",
   "execution_count": 6,
   "metadata": {},
   "outputs": [],
   "source": [
    "# ratings to vector\n",
    "def ratings_to_vector(ratings, placeholder=-1):\n",
    "    \"\"\"\n",
    "    Convert a DataFrame of ratings to a vector of ratings\n",
    "\n",
    "    Args:\n",
    "        ratings (DataFrame): DataFrame of ratings\n",
    "        placeholder (int, optional): Placeholder value for missing ratings. Defaults to -1.\n",
    "\n",
    "    Returns:\n",
    "        list[float]: List of ratings\n",
    "    \"\"\"\n",
    "\n",
    "    ratings_list = [placeholder] * len(movie_titles)\n",
    "\n",
    "    # get the ratings as a numpy array\n",
    "    for current_rating in ratings.rows():\n",
    "\n",
    "        film = (current_rating[0]) - 1   # film id starts at 1, but list index starts at 0, so subtract 1\n",
    "        rating = current_rating[2]\n",
    "        ratings_list[film] = rating\n",
    "\n",
    "    return ratings_list\n"
   ]
  },
  {
   "cell_type": "code",
   "execution_count": 7,
   "metadata": {},
   "outputs": [],
   "source": [
    "# split ratings into masked and unmasked ratings based on a date\n",
    "# all ratings before the date are unmasked, all ratings after the date are masked\n",
    "def mask_ratings(ratings, split_date):\n",
    "    \"\"\"Mask ratings in a user's rating DataFrame\n",
    "\n",
    "    Args:\n",
    "        ratings (pl.DataFrame): A User's ratings\n",
    "        split_date (datetime.datetime): Date to split ratings on\n",
    "\n",
    "    Returns:\n",
    "        [pl.Dataframe, pl.Dataframe]: Masked ratings, unmasked ratings\n",
    "    \"\"\"\n",
    "\n",
    "    unmasked_ratings = []\n",
    "    masked_ratings = []\n",
    "\n",
    "    for rating in ratings.rows():\n",
    "\n",
    "        # get the ratings date as datetime\n",
    "        rating_date = datetime.datetime.strptime(rating[3][:-1], \"%Y-%m-%d\")\n",
    "\n",
    "        # if the rating is before the split date, mask it\n",
    "        if rating_date > split_date:\n",
    "            unmasked_ratings.append(rating)\n",
    "        else:\n",
    "            masked_ratings.append(rating)\n",
    "\n",
    "    # convert the lists to DataFrames\n",
    "    unmasked_ratings = pl.DataFrame(unmasked_ratings, schema=ratings.columns)\n",
    "    masked_ratings = pl.DataFrame(masked_ratings, schema=ratings.columns)\n",
    "\n",
    "    #keep only masked_ratings with a score of 4 or higher\n",
    "    masked_ratings = masked_ratings.filter(pl.col(\"rating\") >= 4)\n",
    "\n",
    "    return masked_ratings, unmasked_ratings"
   ]
  },
  {
   "cell_type": "code",
   "execution_count": 8,
   "metadata": {},
   "outputs": [],
   "source": [
    "# sort sums by score\n",
    "def sort_sums(sums):\n",
    "\n",
    "    # convert the sums to a list of tuples\n",
    "    sums_list = []\n",
    "    for i in range(len(sums)):\n",
    "        sums_list.append((i, sums[i]))\n",
    "\n",
    "    # sort the list\n",
    "    sums_list.sort(key=lambda x: x[1], reverse=True)\n",
    "\n",
    "    return sums_list"
   ]
  },
  {
   "cell_type": "code",
   "execution_count": 9,
   "metadata": {},
   "outputs": [],
   "source": [
    "# predict how a user would rate a movie\n",
    "import random\n",
    "\n",
    "\n",
    "def predict_rating(user_id, movie_id):\n",
    "    \"\"\"Predict how a user would rate a movie\n",
    "    \n",
    "    Args:\n",
    "        user_id (int): User ID\n",
    "        movie_id (int): Movie ID\n",
    "\n",
    "    Returns:\n",
    "        float: Predicted rating\n",
    "    \"\"\"\n",
    "\n",
    "    ### PUT YOUR EVALUATION CODE HERE ###\n",
    "\n",
    "    return random.uniform(1, 5)"
   ]
  },
  {
   "cell_type": "code",
   "execution_count": 19,
   "metadata": {},
   "outputs": [],
   "source": [
    "# get cosine similarities for all movies\n",
    "def get_cosine_similarities(movie_id):\n",
    "    \"\"\"\n",
    "    Get cosine similarities for all movies\n",
    "    \n",
    "    Args:\n",
    "        movie_id (int): Movie ID\n",
    "        \n",
    "    Returns:\n",
    "        pl.Series: Series of cosine similarities\n",
    "    \"\"\"\n",
    "\n",
    "    scores = []\n",
    "\n",
    "    # go through all movies\n",
    "    for movie in movie_titles[\"film\"]:\n",
    "        \n",
    "        # calculate cosine similarity\n",
    "        score = cosine_similarity.get_movie_cos_scores(movie)\n",
    "        \n",
    "        scores.append(score)\n",
    "\n",
    "        if movie == movie_id:\n",
    "            score = 0\n",
    "\n",
    "    scores = pl.Series(\"scores\", scores)\n",
    "\n",
    "    return scores\n",
    "    "
   ]
  },
  {
   "cell_type": "code",
   "execution_count": 11,
   "metadata": {},
   "outputs": [],
   "source": [
    "def sum_cosine_similarities(unmasked_ratings):\n",
    "\n",
    "    # get the user_id from unmasked_ratings\n",
    "    user_id = [unmasked_ratings[\"user\"][0]] * len(movie_titles[\"film\"])\n",
    "\n",
    "    sum_scores = [0] * len(movie_titles[\"film\"])\n",
    "    sum_scores = pl.Series(\"sum_scores\", sum_scores)\n",
    "\n",
    "    for rating in unmasked_ratings.rows():\n",
    "\n",
    "        if rating[2] >= 3:\n",
    "\n",
    "            scores = get_cosine_similarities(rating)\n",
    "            \n",
    "            sum_scores = sum_scores + scores\n",
    "\n",
    "    # join the scores with the movie_ids from movie_titles\n",
    "    sum_scores = pl.DataFrame({\"user\": user_id, \"film\": movie_titles[\"film\"], \"rating\": sum_scores})\n",
    "            \n",
    "    return sum_scores"
   ]
  },
  {
   "cell_type": "code",
   "execution_count": 12,
   "metadata": {},
   "outputs": [],
   "source": [
    "# rate all movies for a given user\n",
    "def rate_all(user_id):\n",
    "    \"\"\"Returns a dataframe with all ratings for a given user\n",
    "\n",
    "    Args:\n",
    "        user_id (int): User ID\n",
    "\n",
    "    Returns:\n",
    "        pl.DataFrame: Ratings for a given user\n",
    "    \"\"\"\n",
    "\n",
    "\n",
    "    # get all movies\n",
    "    movies = movie_titles[\"film\"]\n",
    "    ratings = []\n",
    "\n",
    "    for movie in movies:\n",
    "        # predict rating\n",
    "        rating = predict_rating(user_id, movie)\n",
    "\n",
    "        # add rating to dataframe\n",
    "        ratings.append([user_id, movie, rating])\n",
    "\n",
    "    ratings = pl.DataFrame(ratings, schema=[\"user\", \"film\", \"rating\"])\n",
    "\n",
    "    return ratings"
   ]
  },
  {
   "cell_type": "code",
   "execution_count": 13,
   "metadata": {},
   "outputs": [],
   "source": [
    "# get the top n ratings for a given user\n",
    "def get_top_rated(ratings, n):\n",
    "    \"\"\"Get the top n of ratings for a given user\n",
    "\n",
    "    Args:\n",
    "        ratings (pl.DataFrame): Ratings\n",
    "        n (int): Number of ratings to get\n",
    "\n",
    "    Returns:\n",
    "        pl.DataFrame: Top n ratings\n",
    "    \"\"\"\n",
    "\n",
    "    # sort ratings by rating\n",
    "    ratings = ratings.sort(by=\"rating\", descending=True)\n",
    "\n",
    "    # take the top n ratings\n",
    "    top_ratings = ratings.head(n)\n",
    "\n",
    "    return top_ratings"
   ]
  },
  {
   "cell_type": "code",
   "execution_count": 14,
   "metadata": {},
   "outputs": [],
   "source": [
    "# evaluate how well a model performs\n",
    "# for this, we compare how well the model predicts the top m% of ratings\n",
    "# we calculate the intersection between the masked ratings and the top m% of ratings\n",
    "def evaluate(masked_ratings, top_ratings):\n",
    "    \"\"\"Evaluate how well a model performs\n",
    "\n",
    "    Args:\n",
    "        masked_ratings (pl.DataFrame): Masked ratings\n",
    "        top_ratings (pl.DataFrame): Top m% of ratings\n",
    "\n",
    "    Returns:\n",
    "        float: Percentage of ratings that were correctly predicted\n",
    "    \"\"\"\n",
    "\n",
    "    # get intersection between masked ratings and top ratings\n",
    "    intersection = masked_ratings.join(top_ratings, on=[\"user\", \"film\"], how=\"inner\")\n",
    "\n",
    "    # calculate percentage of ratings that were correctly predicted\n",
    "    percentage = len(intersection) / len(masked_ratings)\n",
    "\n",
    "    return percentage"
   ]
  },
  {
   "cell_type": "code",
   "execution_count": 15,
   "metadata": {},
   "outputs": [],
   "source": [
    "# all steps combined\n",
    "# TODO: update the parameters\n",
    "def full_evaluation(user_id, split_mask, split_top):\n",
    "    \"\"\"Evaluate how well a model performs (for a given user)\n",
    "\n",
    "    Args:\n",
    "        user_id (int): User ID\n",
    "        split_mask (float): Percentage of ratings to mask\n",
    "        split_top (float): Percentage of top ratings to compare with the masked ratings\n",
    "\n",
    "    Returns:\n",
    "        float: Percentage of ratings that were correctly predicted\n",
    "    \"\"\"\n",
    "\n",
    "    masked_ratings, unmasked_ratings = mask_ratings(get_user_ratings(user_id), split_mask)\n",
    "\n",
    "    all_ratings = rate_all(user_id)\n",
    "    top_ratings = get_top_rated(all_ratings, split_top)\n",
    "\n",
    "    evaluation =  evaluate(masked_ratings, top_ratings)\n",
    "\n",
    "    return evaluation"
   ]
  },
  {
   "cell_type": "code",
   "execution_count": 16,
   "metadata": {},
   "outputs": [],
   "source": [
    "def full_evaluate_cosine_similarity(user_id, split_date, top_n):\n",
    "    \"\"\"Evaluate how well a model performs (for a given user)\n",
    "\n",
    "    Args:\n",
    "        user_id (int): User ID\n",
    "        split_date (datetime.datetime): Date to split ratings on\n",
    "        top_n (int): Number of top ratings to compare with the masked ratings\n",
    "\n",
    "    Returns:\n",
    "        float: Percentage of ratings that were correctly predicted\n",
    "    \"\"\"\n",
    "\n",
    "    # get all ratings for user_id\n",
    "    ratings = get_highly_rated_user_ratings(user_id)\n",
    "\n",
    "    # split ratings into masked and unmasked ratings\n",
    "    unmasked_ratings, masked_ratings = mask_ratings(ratings, split_date)\n",
    "\n",
    "    # get sum of cosine similarities for unmasked ratings\n",
    "    sums = sum_cosine_similarities(unmasked_ratings)\n",
    "\n",
    "    # get top n ratings\n",
    "    top_ratings = get_top_rated(sums, top_n)\n",
    "\n",
    "    # evaluate\n",
    "    evaluation = evaluate(masked_ratings, top_ratings)\n",
    "\n",
    "    return evaluation"
   ]
  },
  {
   "attachments": {},
   "cell_type": "markdown",
   "metadata": {},
   "source": [
    "---\n",
    "# Testing"
   ]
  },
  {
   "cell_type": "code",
   "execution_count": 18,
   "metadata": {},
   "outputs": [
    {
     "data": {
      "text/html": [
       "<div><style>\n",
       ".dataframe > thead > tr > th,\n",
       ".dataframe > tbody > tr > td {\n",
       "  text-align: right;\n",
       "}\n",
       "</style>\n",
       "<small>shape: (5, 2)</small><table border=\"1\" class=\"dataframe\"><thead><tr><th>user</th><th>count</th></tr><tr><td>i64</td><td>u32</td></tr></thead><tbody><tr><td>305344</td><td>17653</td></tr><tr><td>387418</td><td>17436</td></tr><tr><td>2439493</td><td>16565</td></tr><tr><td>1664010</td><td>15813</td></tr><tr><td>2118461</td><td>14831</td></tr></tbody></table></div>"
      ],
      "text/plain": [
       "shape: (5, 2)\n",
       "┌─────────┬───────┐\n",
       "│ user    ┆ count │\n",
       "│ ---     ┆ ---   │\n",
       "│ i64     ┆ u32   │\n",
       "╞═════════╪═══════╡\n",
       "│ 305344  ┆ 17653 │\n",
       "│ 387418  ┆ 17436 │\n",
       "│ 2439493 ┆ 16565 │\n",
       "│ 1664010 ┆ 15813 │\n",
       "│ 2118461 ┆ 14831 │\n",
       "└─────────┴───────┘"
      ]
     },
     "execution_count": 18,
     "metadata": {},
     "output_type": "execute_result"
    }
   ],
   "source": [
    "# find the 5 users with the most ratings\n",
    "user_rating_counts = netflix_data.groupby(\"user\").count().sort(by=\"count\", descending=True)\n",
    "user_rating_counts.head(5)"
   ]
  },
  {
   "cell_type": "code",
   "execution_count": null,
   "metadata": {},
   "outputs": [
    {
     "data": {
      "text/html": [
       "<div><style>\n",
       ".dataframe > thead > tr > th,\n",
       ".dataframe > tbody > tr > td {\n",
       "  text-align: right;\n",
       "}\n",
       "</style>\n",
       "<small>shape: (1, 4)</small><table border=\"1\" class=\"dataframe\"><thead><tr><th>film</th><th>user</th><th>rating</th><th>date</th></tr><tr><td>i64</td><td>i64</td><td>i64</td><td>str</td></tr></thead><tbody><tr><td>13580</td><td>7</td><td>4</td><td>&quot;2005-05-23\n",
       "&quot;</td></tr></tbody></table></div>"
      ],
      "text/plain": [
       "shape: (1, 4)\n",
       "┌───────┬──────┬────────┬────────────┐\n",
       "│ film  ┆ user ┆ rating ┆ date       │\n",
       "│ ---   ┆ ---  ┆ ---    ┆ ---        │\n",
       "│ i64   ┆ i64  ┆ i64    ┆ str        │\n",
       "╞═══════╪══════╪════════╪════════════╡\n",
       "│ 13580 ┆ 7    ┆ 4      ┆ 2005-05-23 │\n",
       "│       ┆      ┆        ┆            │\n",
       "└───────┴──────┴────────┴────────────┘"
      ]
     },
     "execution_count": 213,
     "metadata": {},
     "output_type": "execute_result"
    }
   ],
   "source": [
    "# get all ratings for a user\n",
    "get_user_ratings(10)"
   ]
  },
  {
   "cell_type": "code",
   "execution_count": null,
   "metadata": {},
   "outputs": [],
   "source": [
    "# transform the ratings into a vector\n",
    "# here, all missing ratings get the placeholder value 0\n",
    "ratings_to_vector(get_user_ratings(7), 0)"
   ]
  },
  {
   "cell_type": "code",
   "execution_count": 214,
   "metadata": {},
   "outputs": [
    {
     "data": {
      "text/plain": [
       "0.14285714285714285"
      ]
     },
     "execution_count": 214,
     "metadata": {},
     "output_type": "execute_result"
    }
   ],
   "source": [
    "# evaluate the model for a user\n",
    "full_evaluation(2118461, 0.5, 0.1)"
   ]
  },
  {
   "cell_type": "code",
   "execution_count": 20,
   "metadata": {},
   "outputs": [],
   "source": [
    "split_date = datetime.datetime(2005, 9, 1)\n",
    "full_evaluate_cosine_similarity(10, split_date, 500)"
   ]
  },
  {
   "cell_type": "code",
   "execution_count": null,
   "metadata": {},
   "outputs": [],
   "source": [
    "split_date = datetime.datetime(2005, 9, 1)\n",
    "full_evaluate_cosine_similarity(305344, split_date, 500)"
   ]
  }
 ],
 "metadata": {
  "kernelspec": {
   "display_name": "Python 3",
   "language": "python",
   "name": "python3"
  },
  "language_info": {
   "codemirror_mode": {
    "name": "ipython",
    "version": 3
   },
   "file_extension": ".py",
   "mimetype": "text/x-python",
   "name": "python",
   "nbconvert_exporter": "python",
   "pygments_lexer": "ipython3",
   "version": "3.10.4"
  },
  "orig_nbformat": 4
 },
 "nbformat": 4,
 "nbformat_minor": 2
}
