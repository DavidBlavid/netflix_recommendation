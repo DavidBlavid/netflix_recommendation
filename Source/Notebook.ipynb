{
 "cells": [
  {
   "cell_type": "code",
   "execution_count": 1,
   "metadata": {},
   "outputs": [],
   "source": [
    "# import polars as pl\n",
    "import re\n",
    "from tqdm import tqdm\n",
    "import pandas as pd\n",
    "import sqlite3 as db"
   ]
  },
  {
   "cell_type": "code",
   "execution_count": 1,
   "metadata": {},
   "outputs": [
    {
     "name": "stderr",
     "output_type": "stream",
     "text": [
      "100%|██████████| 22605786/22605786 [00:40<00:00, 561613.40it/s]\n"
     ]
    },
    {
     "name": "stdout",
     "output_type": "stream",
     "text": [
      "Creating dataframe\n",
      "Saving to DB\n"
     ]
    },
    {
     "name": "stderr",
     "output_type": "stream",
     "text": [
      "100%|██████████| 26851926/26851926 [00:51<00:00, 526002.14it/s]\n"
     ]
    },
    {
     "name": "stdout",
     "output_type": "stream",
     "text": [
      "Creating dataframe\n",
      "Saving to DB\n"
     ]
    }
   ],
   "source": [
    "combined_data_files = [\n",
    "    r\"data/combined_data_1.txt\",\n",
    "    r\"data/combined_data_2.txt\",\n",
    "    r\"data/combined_data_3.txt\",\n",
    "    r\"data/combined_data_4.txt\"\n",
    "\n",
    "]\n",
    "\n",
    "results = []\n",
    "current_film = None\n",
    "con = db.connect('netflix.db')\n",
    "\n",
    "for file in combined_data_files:\n",
    "\n",
    "    with open(file, \"r\") as file:\n",
    "        lines = file.readlines()\n",
    "        for line in tqdm(lines):\n",
    "            if re.match(r\"\\d*:\", line):\n",
    "                current_film = int(line.strip()[:-1])\n",
    "            else:\n",
    "                vals = line.split(\",\")\n",
    "                user = int(vals[0])\n",
    "                rating = int(vals[1])\n",
    "                date = vals[2]\n",
    "                results.append([current_film, user, rating, date])\n",
    "    print(\"Creating dataframe\")\n",
    "    data = pd.DataFrame(results, columns=[\"film\", \"user\", \"rating\", \"date\"])\n",
    "    print(\"Saving to DB\")\n",
    "    data.to_sql('netflix_data', con, if_exists='append', index=False)\n",
    "    results = []"
   ]
  },
  {
   "cell_type": "code",
   "execution_count": 4,
   "metadata": {},
   "outputs": [],
   "source": [
    "con = db.connect('netflix.db')\n",
    "# sql query that samples 1000 rows from the table\n",
    "data = pd.read_sql_query(\"SELECT * FROM netflix_data ORDER BY RANDOM() LIMIT 100000\", con)"
   ]
  },
  {
   "cell_type": "code",
   "execution_count": 5,
   "metadata": {},
   "outputs": [
    {
     "data": {
      "text/plain": [
       "100000"
      ]
     },
     "execution_count": 5,
     "metadata": {},
     "output_type": "execute_result"
    }
   ],
   "source": [
    "con = db.connect('netflix_dev.db')\n",
    "data.to_sql('netflix_data', con, if_exists='append', index=False)"
   ]
  },
  {
   "cell_type": "code",
   "execution_count": 17,
   "metadata": {},
   "outputs": [
    {
     "name": "stderr",
     "output_type": "stream",
     "text": [
      "100%|██████████| 17770/17770 [00:00<00:00, 1235377.28it/s]\n"
     ]
    }
   ],
   "source": [
    "file_movies = r\"data/movie_titles.csv\"\n",
    "results = []\n",
    "\n",
    "with open(file_movies, \"r\") as file:\n",
    "    lines = file.readlines()\n",
    "    for line in tqdm(lines):\n",
    "        vals = line.split(\",\", 2)\n",
    "        film = int(vals[0])\n",
    "        year = vals[1]\n",
    "        title = vals[2]\n",
    "        results.append([film, year, title])"
   ]
  },
  {
   "cell_type": "code",
   "execution_count": 24,
   "metadata": {},
   "outputs": [
    {
     "data": {
      "text/plain": [
       "17770"
      ]
     },
     "execution_count": 24,
     "metadata": {},
     "output_type": "execute_result"
    }
   ],
   "source": [
    "df = pd.DataFrame(results, columns=[\"film\", \"year\", \"title\"])\n",
    "df['title'] = df['title'].str.strip()\n",
    "\n",
    "con = db.connect('netflix_dev.db')\n",
    "\n",
    "df.to_sql('movie_titles', con, if_exists='append', index=False)"
   ]
  },
  {
   "cell_type": "code",
   "execution_count": 27,
   "metadata": {},
   "outputs": [
    {
     "data": {
      "text/html": [
       "<div>\n",
       "<style scoped>\n",
       "    .dataframe tbody tr th:only-of-type {\n",
       "        vertical-align: middle;\n",
       "    }\n",
       "\n",
       "    .dataframe tbody tr th {\n",
       "        vertical-align: top;\n",
       "    }\n",
       "\n",
       "    .dataframe thead th {\n",
       "        text-align: right;\n",
       "    }\n",
       "</style>\n",
       "<table border=\"1\" class=\"dataframe\">\n",
       "  <thead>\n",
       "    <tr style=\"text-align: right;\">\n",
       "      <th></th>\n",
       "      <th>film</th>\n",
       "      <th>user</th>\n",
       "      <th>rating</th>\n",
       "      <th>date</th>\n",
       "    </tr>\n",
       "  </thead>\n",
       "  <tbody>\n",
       "    <tr>\n",
       "      <th>0</th>\n",
       "      <td>12401</td>\n",
       "      <td>993438</td>\n",
       "      <td>2</td>\n",
       "      <td>2005-04-15\\n</td>\n",
       "    </tr>\n",
       "    <tr>\n",
       "      <th>1</th>\n",
       "      <td>14103</td>\n",
       "      <td>328402</td>\n",
       "      <td>4</td>\n",
       "      <td>2005-04-17\\n</td>\n",
       "    </tr>\n",
       "    <tr>\n",
       "      <th>2</th>\n",
       "      <td>13691</td>\n",
       "      <td>1555660</td>\n",
       "      <td>4</td>\n",
       "      <td>2004-11-15\\n</td>\n",
       "    </tr>\n",
       "    <tr>\n",
       "      <th>3</th>\n",
       "      <td>11607</td>\n",
       "      <td>1281112</td>\n",
       "      <td>5</td>\n",
       "      <td>2005-05-05\\n</td>\n",
       "    </tr>\n",
       "    <tr>\n",
       "      <th>4</th>\n",
       "      <td>11047</td>\n",
       "      <td>713840</td>\n",
       "      <td>4</td>\n",
       "      <td>2005-12-17\\n</td>\n",
       "    </tr>\n",
       "    <tr>\n",
       "      <th>...</th>\n",
       "      <td>...</td>\n",
       "      <td>...</td>\n",
       "      <td>...</td>\n",
       "      <td>...</td>\n",
       "    </tr>\n",
       "    <tr>\n",
       "      <th>99995</th>\n",
       "      <td>4306</td>\n",
       "      <td>1999723</td>\n",
       "      <td>4</td>\n",
       "      <td>2005-10-10\\n</td>\n",
       "    </tr>\n",
       "    <tr>\n",
       "      <th>99996</th>\n",
       "      <td>13748</td>\n",
       "      <td>536263</td>\n",
       "      <td>5</td>\n",
       "      <td>2005-05-18\\n</td>\n",
       "    </tr>\n",
       "    <tr>\n",
       "      <th>99997</th>\n",
       "      <td>13517</td>\n",
       "      <td>21823</td>\n",
       "      <td>3</td>\n",
       "      <td>2003-09-25\\n</td>\n",
       "    </tr>\n",
       "    <tr>\n",
       "      <th>99998</th>\n",
       "      <td>5894</td>\n",
       "      <td>1107428</td>\n",
       "      <td>4</td>\n",
       "      <td>2005-03-01\\n</td>\n",
       "    </tr>\n",
       "    <tr>\n",
       "      <th>99999</th>\n",
       "      <td>15205</td>\n",
       "      <td>749553</td>\n",
       "      <td>5</td>\n",
       "      <td>2005-05-24\\n</td>\n",
       "    </tr>\n",
       "  </tbody>\n",
       "</table>\n",
       "<p>100000 rows × 4 columns</p>\n",
       "</div>"
      ],
      "text/plain": [
       "        film     user  rating          date\n",
       "0      12401   993438       2  2005-04-15\\n\n",
       "1      14103   328402       4  2005-04-17\\n\n",
       "2      13691  1555660       4  2004-11-15\\n\n",
       "3      11607  1281112       5  2005-05-05\\n\n",
       "4      11047   713840       4  2005-12-17\\n\n",
       "...      ...      ...     ...           ...\n",
       "99995   4306  1999723       4  2005-10-10\\n\n",
       "99996  13748   536263       5  2005-05-18\\n\n",
       "99997  13517    21823       3  2003-09-25\\n\n",
       "99998   5894  1107428       4  2005-03-01\\n\n",
       "99999  15205   749553       5  2005-05-24\\n\n",
       "\n",
       "[100000 rows x 4 columns]"
      ]
     },
     "execution_count": 27,
     "metadata": {},
     "output_type": "execute_result"
    }
   ],
   "source": [
    "data = pd.read_sql_query(\"SELECT * FROM netflix_data\", con)\n",
    "data"
   ]
  }
 ],
 "metadata": {
  "kernelspec": {
   "display_name": "Python 3",
   "language": "python",
   "name": "python3"
  },
  "language_info": {
   "codemirror_mode": {
    "name": "ipython",
    "version": 3
   },
   "file_extension": ".py",
   "mimetype": "text/x-python",
   "name": "python",
   "nbconvert_exporter": "python",
   "pygments_lexer": "ipython3",
   "version": "3.11.3"
  },
  "orig_nbformat": 4
 },
 "nbformat": 4,
 "nbformat_minor": 2
}
