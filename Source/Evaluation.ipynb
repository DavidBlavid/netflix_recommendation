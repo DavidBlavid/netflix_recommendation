{
 "cells": [
  {
   "attachments": {},
   "cell_type": "markdown",
   "metadata": {},
   "source": [
    "---\n",
    "# Setup"
   ]
  },
  {
   "cell_type": "code",
   "execution_count": 1,
   "metadata": {},
   "outputs": [],
   "source": [
    "import polars as pl\n",
    "import pandas as pd\n",
    "import matplotlib.pyplot as plt\n",
    "import numpy as np\n",
    "from tqdm import tqdm\n",
    "from time import sleep\n",
    "import sqlite3\n",
    "import requests\n",
    "import json"
   ]
  },
  {
   "cell_type": "code",
   "execution_count": 2,
   "metadata": {},
   "outputs": [],
   "source": [
    "# small size for testing (100.000 rows)\n",
    "db_dev_path = 'netflix_dev.db'\n",
    "db_dev_conn = 'sqlite://' + db_dev_path\n",
    "\n",
    "# full size for production (~100.000.000 rows)\n",
    "db_prod_path = 'netflix.db'\n",
    "db_prod_conn = 'sqlite://' + db_prod_path\n",
    "\n",
    "netflix_data = pl.read_database(\"SELECT * FROM netflix_data\", db_dev_conn)\n",
    "movie_titles = pl.read_database(\"SELECT * FROM movie_titles\", db_dev_conn)"
   ]
  },
  {
   "attachments": {},
   "cell_type": "markdown",
   "metadata": {},
   "source": [
    "---\n",
    "# Functions\n",
    "\n",
    "Implement your recommendation engine logic in `predict_rating()`. Then, call\n",
    "`full_evaluation()` to evaluate your engine.\n",
    "\n",
    "| Function | Description |\n",
    "| --- | --- |\n",
    "| `get_user_ratings(user_id)` | Returns a DataFrame of all ratings for a given user. |\n",
    "| `ratings_to_vector(ratings, placeholder=-1)` | Transforms a DataFrame of ratings into a vector. |\n",
    "| `mask_ratings(ratings, split)` | Mask ratings in a user's rating DataFrame. Works like a training-/test-set split |\n",
    "| `predict_rating(user_id, movie_id)` | Predict how a user would rate a movie. **IMPLEMENT YOUR ENGINE HERE**|\n",
    "| `rate_all(user_id)` | Predict ratings of all movies for a given user |\n",
    "| `get_top_rated(ratings, split)` | Get the top rated movies for a user. |\n",
    "| `evaluate(masked_ratings, top_ratings)` | Evaluate the accuracy of the predictions. |\n",
    "| `full_evaluation(user_id, split_mask, split_top)` | Like evaluate() but contains all the steps. |"
   ]
  },
  {
   "cell_type": "code",
   "execution_count": 33,
   "metadata": {},
   "outputs": [],
   "source": [
    "# get all ratings for a specific user\n",
    "def get_user_ratings(user_id):\n",
    "    return netflix_data.filter(pl.col(\"user\") == user_id)"
   ]
  },
  {
   "cell_type": "code",
   "execution_count": 202,
   "metadata": {},
   "outputs": [],
   "source": [
    "# ratings to vector\n",
    "def ratings_to_vector(ratings, placeholder=-1):\n",
    "    \"\"\"\n",
    "    Convert a DataFrame of ratings to a vector of ratings\n",
    "\n",
    "    Args:\n",
    "        ratings (DataFrame): DataFrame of ratings\n",
    "        placeholder (int, optional): Placeholder value for missing ratings. Defaults to -1.\n",
    "\n",
    "    Returns:\n",
    "        list[float]: List of ratings\n",
    "    \"\"\"\n",
    "\n",
    "    ratings_list = [placeholder] * len(movie_titles)\n",
    "\n",
    "    # get the ratings as a numpy array\n",
    "    for current_rating in ratings.rows():\n",
    "\n",
    "        film = (current_rating[0]) - 1   # film id starts at 1, but list index starts at 0, so subtract 1\n",
    "        rating = current_rating[2]\n",
    "        ratings_list[film] = rating\n",
    "\n",
    "    return ratings_list\n"
   ]
  },
  {
   "cell_type": "code",
   "execution_count": 54,
   "metadata": {},
   "outputs": [],
   "source": [
    "# split ratings into masked and unmasked ratings\n",
    "def mask_ratings(ratings, split):\n",
    "    \"\"\"Mask ratings in a user's rating DataFrame\n",
    "\n",
    "    Args:\n",
    "        ratings (pl.DataFrame): A User's ratings\n",
    "        split (float): Percentage of ratings to mask\n",
    "\n",
    "    Returns:\n",
    "        [pl.Dataframe, pl.Dataframe]: Masked ratings, unmasked ratings\n",
    "    \"\"\"\n",
    "\n",
    "    # shuffle ratings\n",
    "    ratings = ratings.sample(fraction=1, shuffle=True)\n",
    "\n",
    "    # get number of ratings to mask\n",
    "    n_masked_ratings = int(len(ratings) * split)\n",
    "\n",
    "    # split ratings into masked and unmasked\n",
    "    masked_ratings = ratings.head(n_masked_ratings)\n",
    "    unmasked_ratings = ratings.tail(len(ratings) - n_masked_ratings)\n",
    "\n",
    "    return masked_ratings, unmasked_ratings"
   ]
  },
  {
   "cell_type": "code",
   "execution_count": 123,
   "metadata": {},
   "outputs": [],
   "source": [
    "# predict how a user would rate a movie\n",
    "import random\n",
    "\n",
    "\n",
    "def predict_rating(user_id, movie_id):\n",
    "    \"\"\"Predict how a user would rate a movie\n",
    "    \n",
    "    Args:\n",
    "        user_id (int): User ID\n",
    "        movie_id (int): Movie ID\n",
    "\n",
    "    Returns:\n",
    "        float: Predicted rating\n",
    "    \"\"\"\n",
    "\n",
    "    ### PUT YOUR EVALUATION CODE HERE ###\n",
    "\n",
    "    return random.uniform(1, 5)"
   ]
  },
  {
   "cell_type": "code",
   "execution_count": 118,
   "metadata": {},
   "outputs": [],
   "source": [
    "# rate all movies for a given user\n",
    "def rate_all(user_id):\n",
    "    \"\"\"Returns a dataframe with all ratings for a given user\n",
    "\n",
    "    Args:\n",
    "        user_id (int): User ID\n",
    "\n",
    "    Returns:\n",
    "        pl.DataFrame: Ratings for a given user\n",
    "    \"\"\"\n",
    "\n",
    "\n",
    "    # get all movies\n",
    "    movies = movie_titles[\"film\"]\n",
    "    ratings = []\n",
    "\n",
    "    for movie in movies:\n",
    "        # predict rating\n",
    "        rating = predict_rating(user_id, movie)\n",
    "\n",
    "        # add rating to dataframe\n",
    "        ratings.append([user_id, movie, rating])\n",
    "\n",
    "    ratings = pl.DataFrame(ratings, schema=[\"user\", \"film\", \"rating\"])\n",
    "\n",
    "    return ratings"
   ]
  },
  {
   "cell_type": "code",
   "execution_count": 119,
   "metadata": {},
   "outputs": [],
   "source": [
    "# get the top m% of ratings for a given user\n",
    "def get_top_rated(ratings, split):\n",
    "    \"\"\"Get the top m% of ratings for a given user\n",
    "\n",
    "    Args:\n",
    "        ratings (pl.DataFrame): Ratings\n",
    "        split (float): Percentage of ratings to get\n",
    "\n",
    "    Returns:\n",
    "        pl.DataFrame: Top m% of ratings\n",
    "    \"\"\"\n",
    "\n",
    "    # sort ratings by rating\n",
    "    ratings = ratings.sort(by=\"rating\", descending=True)\n",
    "\n",
    "    # get number of ratings to get\n",
    "    n_ratings = int(len(ratings) * split)\n",
    "\n",
    "    # get top ratings\n",
    "    top_ratings = ratings.head(n_ratings)\n",
    "\n",
    "    return top_ratings"
   ]
  },
  {
   "cell_type": "code",
   "execution_count": 142,
   "metadata": {},
   "outputs": [],
   "source": [
    "# evaluate how well a model performs\n",
    "# for this, we compare how well the model predicts the top m% of ratings\n",
    "# we calculate the intersection between the masked ratings and the top m% of ratings\n",
    "def evaluate(masked_ratings, top_ratings):\n",
    "    \"\"\"Evaluate how well a model performs\n",
    "\n",
    "    Args:\n",
    "        masked_ratings (pl.DataFrame): Masked ratings\n",
    "        top_ratings (pl.DataFrame): Top m% of ratings\n",
    "\n",
    "    Returns:\n",
    "        float: Percentage of ratings that were correctly predicted\n",
    "    \"\"\"\n",
    "\n",
    "    # get intersection between masked ratings and top ratings\n",
    "    intersection = masked_ratings.join(top_ratings, on=[\"user\", \"film\"], how=\"inner\")\n",
    "\n",
    "    # calculate percentage of ratings that were correctly predicted\n",
    "    percentage = len(intersection) / len(masked_ratings)\n",
    "\n",
    "    return percentage"
   ]
  },
  {
   "cell_type": "code",
   "execution_count": 140,
   "metadata": {},
   "outputs": [],
   "source": [
    "# all steps combined\n",
    "def full_evaluation(user_id, split_mask, split_top):\n",
    "    \"\"\"Evaluate how well a model performs (for a given user)\n",
    "\n",
    "    Args:\n",
    "        user_id (int): User ID\n",
    "        split_mask (float): Percentage of ratings to mask\n",
    "        split_top (float): Percentage of top ratings to compare with the masked ratings\n",
    "\n",
    "    Returns:\n",
    "        float: Percentage of ratings that were correctly predicted\n",
    "    \"\"\"\n",
    "\n",
    "    masked_ratings, unmasked_ratings = mask_ratings(get_user_ratings(user_id), split_mask)\n",
    "\n",
    "    all_ratings = rate_all(user_id)\n",
    "    top_ratings = get_top_rated(all_ratings, split_top)\n",
    "\n",
    "    evaluation =  evaluate(masked_ratings, top_ratings)\n",
    "\n",
    "    return evaluation"
   ]
  },
  {
   "attachments": {},
   "cell_type": "markdown",
   "metadata": {},
   "source": [
    "---\n",
    "# Testing"
   ]
  },
  {
   "cell_type": "code",
   "execution_count": 157,
   "metadata": {},
   "outputs": [
    {
     "data": {
      "text/html": [
       "<div><style>\n",
       ".dataframe > thead > tr > th,\n",
       ".dataframe > tbody > tr > td {\n",
       "  text-align: right;\n",
       "}\n",
       "</style>\n",
       "<small>shape: (5, 2)</small><table border=\"1\" class=\"dataframe\"><thead><tr><th>user</th><th>count</th></tr><tr><td>i64</td><td>u32</td></tr></thead><tbody><tr><td>387418</td><td>22</td></tr><tr><td>1461435</td><td>17</td></tr><tr><td>305344</td><td>15</td></tr><tr><td>2118461</td><td>15</td></tr><tr><td>2439493</td><td>14</td></tr></tbody></table></div>"
      ],
      "text/plain": [
       "shape: (5, 2)\n",
       "┌─────────┬───────┐\n",
       "│ user    ┆ count │\n",
       "│ ---     ┆ ---   │\n",
       "│ i64     ┆ u32   │\n",
       "╞═════════╪═══════╡\n",
       "│ 387418  ┆ 22    │\n",
       "│ 1461435 ┆ 17    │\n",
       "│ 305344  ┆ 15    │\n",
       "│ 2118461 ┆ 15    │\n",
       "│ 2439493 ┆ 14    │\n",
       "└─────────┴───────┘"
      ]
     },
     "execution_count": 157,
     "metadata": {},
     "output_type": "execute_result"
    }
   ],
   "source": [
    "# find the 5 users with the most ratings\n",
    "user_rating_counts = netflix_data.groupby(\"user\").count().sort(by=\"count\", descending=True)\n",
    "user_rating_counts.head(5)"
   ]
  },
  {
   "cell_type": "code",
   "execution_count": 213,
   "metadata": {},
   "outputs": [
    {
     "data": {
      "text/html": [
       "<div><style>\n",
       ".dataframe > thead > tr > th,\n",
       ".dataframe > tbody > tr > td {\n",
       "  text-align: right;\n",
       "}\n",
       "</style>\n",
       "<small>shape: (1, 4)</small><table border=\"1\" class=\"dataframe\"><thead><tr><th>film</th><th>user</th><th>rating</th><th>date</th></tr><tr><td>i64</td><td>i64</td><td>i64</td><td>str</td></tr></thead><tbody><tr><td>13580</td><td>7</td><td>4</td><td>&quot;2005-05-23\n",
       "&quot;</td></tr></tbody></table></div>"
      ],
      "text/plain": [
       "shape: (1, 4)\n",
       "┌───────┬──────┬────────┬────────────┐\n",
       "│ film  ┆ user ┆ rating ┆ date       │\n",
       "│ ---   ┆ ---  ┆ ---    ┆ ---        │\n",
       "│ i64   ┆ i64  ┆ i64    ┆ str        │\n",
       "╞═══════╪══════╪════════╪════════════╡\n",
       "│ 13580 ┆ 7    ┆ 4      ┆ 2005-05-23 │\n",
       "│       ┆      ┆        ┆            │\n",
       "└───────┴──────┴────────┴────────────┘"
      ]
     },
     "execution_count": 213,
     "metadata": {},
     "output_type": "execute_result"
    }
   ],
   "source": [
    "# get all ratings for a user\n",
    "get_user_ratings(7)"
   ]
  },
  {
   "cell_type": "code",
   "execution_count": null,
   "metadata": {},
   "outputs": [],
   "source": [
    "# transform the ratings into a vector\n",
    "# here, all missing ratings get the placeholder value 0\n",
    "ratings_to_vector(get_user_ratings(7), 0)"
   ]
  },
  {
   "cell_type": "code",
   "execution_count": 214,
   "metadata": {},
   "outputs": [
    {
     "data": {
      "text/plain": [
       "0.14285714285714285"
      ]
     },
     "execution_count": 214,
     "metadata": {},
     "output_type": "execute_result"
    }
   ],
   "source": [
    "# evaluate the model for a user\n",
    "full_evaluation(2118461, 0.5, 0.1)"
   ]
  }
 ],
 "metadata": {
  "kernelspec": {
   "display_name": "Python 3",
   "language": "python",
   "name": "python3"
  },
  "language_info": {
   "codemirror_mode": {
    "name": "ipython",
    "version": 3
   },
   "file_extension": ".py",
   "mimetype": "text/x-python",
   "name": "python",
   "nbconvert_exporter": "python",
   "pygments_lexer": "ipython3",
   "version": "3.10.11"
  },
  "orig_nbformat": 4
 },
 "nbformat": 4,
 "nbformat_minor": 2
}
