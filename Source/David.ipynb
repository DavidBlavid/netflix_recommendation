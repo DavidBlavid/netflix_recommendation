{
 "cells": [
  {
   "attachments": {},
   "cell_type": "markdown",
   "metadata": {},
   "source": [
    "# Netflix recommendation engine\n",
    "\n",
    "Based on the [netflix prize dataset](https://www.kaggle.com/datasets/netflix-inc/netflix-prize-data). Our\n",
    "goal is to build a recommendation engine.\n",
    "\n",
    "## Importing the libraries"
   ]
  },
  {
   "cell_type": "code",
   "execution_count": null,
   "metadata": {},
   "outputs": [],
   "source": [
    "import polars as pl\n",
    "import pandas as pd\n",
    "import sqlite3"
   ]
  },
  {
   "attachments": {},
   "cell_type": "markdown",
   "metadata": {},
   "source": [
    "## Connect to database\n",
    "\n",
    "Here we connect to the database `netflix_dev.db`. Currently, we are using a small portion of the whole dataset, around 100.000 / 100.000.000 Entries. This is due to the fact that the whole dataset is too big to be processed on a normal computer. We are using a sample of 100.000 entries to test our code and to get a first impression of the data. The sample is randomly chosen, so it is representative for the whole dataset."
   ]
  },
  {
   "attachments": {},
   "cell_type": "markdown",
   "metadata": {},
   "source": [
    "- `netflix_data` contains the ratings from the netflix prize challenge.\n",
    "- `movie_titles` contains the titles corresponding to the `film` column in `netflix_data`\n",
    "- `combined` is a join of `netflix_data` and `movie_titles` over the `film` column."
   ]
  },
  {
   "cell_type": "code",
   "execution_count": null,
   "metadata": {},
   "outputs": [],
   "source": [
    "db = sqlite3.connect('netflix_dev.db')\n",
    "\n",
    "netflix_data = pd.read_sql_query(\"SELECT * FROM netflix_data\", db)\n",
    "movie_titles = pd.read_sql_query(\"SELECT * FROM movie_titles\", db)\n",
    "combined     = pd.read_sql_query(\"SELECT * FROM netflix_data, movie_titles \\\n",
    "                                  WHERE netflix_data.film = movie_titles.film\", db)"
   ]
  },
  {
   "cell_type": "code",
   "execution_count": null,
   "metadata": {},
   "outputs": [],
   "source": [
    "combined"
   ]
  },
  {
   "attachments": {},
   "cell_type": "markdown",
   "metadata": {},
   "source": [
    "## Run some queries\n",
    "\n",
    "Now we run some queries on the data.\n",
    "- `top_100` contains the 100 most rated movies.\n",
    "- `best_rated` contains the 100 best rated movies that have at least 50 ratings.\n",
    "- `not_rated` contains all movies that have no ratings."
   ]
  },
  {
   "cell_type": "code",
   "execution_count": null,
   "metadata": {},
   "outputs": [],
   "source": [
    "top_100 = pd.read_sql_query(\"SELECT netflix_data.film, movie_titles.title, COUNT(*) AS 'num_ratings', AVG(netflix_data.rating) AS 'avg_rating' \\\n",
    "                            FROM netflix_data, movie_titles \\\n",
    "                            WHERE netflix_data.film = movie_titles.film \\\n",
    "                            GROUP BY netflix_data.film, title \\\n",
    "                            ORDER BY COUNT(*) DESC \\\n",
    "                            LIMIT 100 \\\n",
    "                            \", db)\n",
    "\n",
    "top_100"
   ]
  },
  {
   "cell_type": "code",
   "execution_count": null,
   "metadata": {},
   "outputs": [],
   "source": [
    "best_rated = pd.read_sql_query(\"SELECT netflix_data.film, movie_titles.title, COUNT(*) AS 'num_ratings', AVG(netflix_data.rating) AS 'avg_rating' \\\n",
    "                                FROM netflix_data, movie_titles \\\n",
    "                                WHERE netflix_data.film = movie_titles.film \\\n",
    "                                GROUP BY netflix_data.film, title \\\n",
    "                                HAVING num_ratings > 50 \\\n",
    "                                ORDER BY AVG(netflix_data.rating) DESC \\\n",
    "                                LIMIT 100\", db)\n",
    "\n",
    "best_rated"
   ]
  },
  {
   "cell_type": "code",
   "execution_count": null,
   "metadata": {},
   "outputs": [],
   "source": [
    "not_rated = pd.read_sql_query(\"SELECT movie_titles.film, movie_titles.title \\\n",
    "                                FROM movie_titles \\\n",
    "                                WHERE movie_titles.film NOT IN (SELECT film FROM netflix_data)\",  db)\n",
    "\n",
    "not_rated"
   ]
  }
 ],
 "metadata": {
  "kernelspec": {
   "display_name": "Python 3",
   "language": "python",
   "name": "python3"
  },
  "language_info": {
   "codemirror_mode": {
    "name": "ipython",
    "version": 3
   },
   "file_extension": ".py",
   "mimetype": "text/x-python",
   "name": "python",
   "nbconvert_exporter": "python",
   "pygments_lexer": "ipython3",
   "version": "3.11.3"
  },
  "orig_nbformat": 4
 },
 "nbformat": 4,
 "nbformat_minor": 2
}
