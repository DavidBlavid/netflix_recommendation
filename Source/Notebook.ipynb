{
 "cells": [
  {
   "cell_type": "code",
   "execution_count": 14,
   "metadata": {},
   "outputs": [
    {
     "name": "stderr",
     "output_type": "stream",
     "text": [
      "100%|██████████| 24058263/24058263 [05:26<00:00, 73661.17it/s]\n",
      " 25%|██▌       | 1/4 [05:32<16:38, 332.67s/it]\n",
      " 50%|█████     | 13604661/26982302 [04:10<01:08, 196645.48it/s]"
     ]
    }
   ],
   "source": [
    "# import polars as pl\n",
    "import re\n",
    "from tqdm import tqdm\n",
    "\n",
    "combined_data_files = [\n",
    "\n",
    "    r\"Dataset/combined_data_1.txt\",\n",
    "    r\"Dataset/combined_data_2.txt\",\n",
    "    r\"Dataset/combined_data_3.txt\",\n",
    "    r\"Dataset/combined_data_4.txt\"\n",
    "\n",
    "]\n",
    "\n",
    "results = []\n",
    "current_film = None\n",
    "\n",
    "for file in combined_data_files:\n",
    "\n",
    "    with open(file, \"r\") as file:\n",
    "        lines = file.readlines()\n",
    "        for line in tqdm(lines):\n",
    "            if re.match(r\"\\d*:\", line):\n",
    "                current_film = int(line.strip()[:-1])\n",
    "            else:\n",
    "                vals = line.split(\",\")\n",
    "                user = int(vals[0])\n",
    "                rating = int(vals[1])\n",
    "                date = vals[2]\n",
    "                results.append([current_film, user, rating, date])"
   ]
  },
  {
   "cell_type": "code",
   "execution_count": 13,
   "metadata": {},
   "outputs": [
    {
     "data": {
      "text/html": [
       "<div><style>\n",
       ".dataframe > thead > tr > th,\n",
       ".dataframe > tbody > tr > td {\n",
       "  text-align: right;\n",
       "}\n",
       "</style>\n",
       "<small>shape: (99, 4)</small><table border=\"1\" class=\"dataframe\"><thead><tr><th>movie_id</th><th>user_id</th><th>rating</th><th>date</th></tr><tr><td>i64</td><td>i64</td><td>i64</td><td>str</td></tr></thead><tbody><tr><td>1</td><td>1488844</td><td>3</td><td>&quot;2005-09-06\n",
       "&quot;</td></tr><tr><td>1</td><td>822109</td><td>5</td><td>&quot;2005-05-13\n",
       "&quot;</td></tr><tr><td>1</td><td>885013</td><td>4</td><td>&quot;2005-10-19\n",
       "&quot;</td></tr><tr><td>1</td><td>30878</td><td>4</td><td>&quot;2005-12-26\n",
       "&quot;</td></tr><tr><td>1</td><td>823519</td><td>3</td><td>&quot;2004-05-03\n",
       "&quot;</td></tr><tr><td>1</td><td>893988</td><td>3</td><td>&quot;2005-11-17\n",
       "&quot;</td></tr><tr><td>1</td><td>124105</td><td>4</td><td>&quot;2004-08-05\n",
       "&quot;</td></tr><tr><td>1</td><td>1248029</td><td>3</td><td>&quot;2004-04-22\n",
       "&quot;</td></tr><tr><td>1</td><td>1842128</td><td>4</td><td>&quot;2004-05-09\n",
       "&quot;</td></tr><tr><td>1</td><td>2238063</td><td>3</td><td>&quot;2005-05-11\n",
       "&quot;</td></tr><tr><td>1</td><td>1503895</td><td>4</td><td>&quot;2005-05-19\n",
       "&quot;</td></tr><tr><td>1</td><td>2207774</td><td>5</td><td>&quot;2005-06-06\n",
       "&quot;</td></tr><tr><td>&hellip;</td><td>&hellip;</td><td>&hellip;</td><td>&hellip;</td></tr><tr><td>1</td><td>1421006</td><td>3</td><td>&quot;2005-08-03\n",
       "&quot;</td></tr><tr><td>1</td><td>729846</td><td>4</td><td>&quot;2005-08-09\n",
       "&quot;</td></tr><tr><td>1</td><td>1719610</td><td>2</td><td>&quot;2005-08-19\n",
       "&quot;</td></tr><tr><td>1</td><td>1696031</td><td>4</td><td>&quot;2005-01-25\n",
       "&quot;</td></tr><tr><td>1</td><td>1817215</td><td>4</td><td>&quot;2005-09-01\n",
       "&quot;</td></tr><tr><td>1</td><td>406057</td><td>4</td><td>&quot;2004-09-27\n",
       "&quot;</td></tr><tr><td>1</td><td>636262</td><td>1</td><td>&quot;2005-09-26\n",
       "&quot;</td></tr><tr><td>1</td><td>1245406</td><td>4</td><td>&quot;2004-12-30\n",
       "&quot;</td></tr><tr><td>1</td><td>1834590</td><td>3</td><td>&quot;2005-02-05\n",
       "&quot;</td></tr><tr><td>1</td><td>593225</td><td>3</td><td>&quot;2004-07-11\n",
       "&quot;</td></tr><tr><td>1</td><td>1011918</td><td>4</td><td>&quot;2005-05-28\n",
       "&quot;</td></tr><tr><td>1</td><td>1665054</td><td>4</td><td>&quot;2005-07-06\n",
       "&quot;</td></tr></tbody></table></div>"
      ],
      "text/plain": [
       "shape: (99, 4)\n",
       "┌──────────┬─────────┬────────┬────────────┐\n",
       "│ movie_id ┆ user_id ┆ rating ┆ date       │\n",
       "│ ---      ┆ ---     ┆ ---    ┆ ---        │\n",
       "│ i64      ┆ i64     ┆ i64    ┆ str        │\n",
       "╞══════════╪═════════╪════════╪════════════╡\n",
       "│ 1        ┆ 1488844 ┆ 3      ┆ 2005-09-06 │\n",
       "│          ┆         ┆        ┆            │\n",
       "│ 1        ┆ 822109  ┆ 5      ┆ 2005-05-13 │\n",
       "│          ┆         ┆        ┆            │\n",
       "│ 1        ┆ 885013  ┆ 4      ┆ 2005-10-19 │\n",
       "│          ┆         ┆        ┆            │\n",
       "│ 1        ┆ 30878   ┆ 4      ┆ 2005-12-26 │\n",
       "│          ┆         ┆        ┆            │\n",
       "│ …        ┆ …       ┆ …      ┆ …          │\n",
       "│ 1        ┆ 1834590 ┆ 3      ┆ 2005-02-05 │\n",
       "│          ┆         ┆        ┆            │\n",
       "│ 1        ┆ 593225  ┆ 3      ┆ 2004-07-11 │\n",
       "│          ┆         ┆        ┆            │\n",
       "│ 1        ┆ 1011918 ┆ 4      ┆ 2005-05-28 │\n",
       "│          ┆         ┆        ┆            │\n",
       "│ 1        ┆ 1665054 ┆ 4      ┆ 2005-07-06 │\n",
       "│          ┆         ┆        ┆            │\n",
       "└──────────┴─────────┴────────┴────────────┘"
      ]
     },
     "execution_count": 13,
     "metadata": {},
     "output_type": "execute_result"
    }
   ],
   "source": [
    "import pandas as pd\n",
    "import polars as pl\n",
    "\n",
    "df = pd.DataFrame(results, columns=[\"movie_id\", \"user_id\", \"rating\", \"date\"])\n",
    "df = pl.from_pandas(df)\n",
    "df"
   ]
  }
 ],
 "metadata": {
  "kernelspec": {
   "display_name": "Python 3",
   "language": "python",
   "name": "python3"
  },
  "language_info": {
   "codemirror_mode": {
    "name": "ipython",
    "version": 3
   },
   "file_extension": ".py",
   "mimetype": "text/x-python",
   "name": "python",
   "nbconvert_exporter": "python",
   "pygments_lexer": "ipython3",
   "version": "3.10.7"
  },
  "orig_nbformat": 4
 },
 "nbformat": 4,
 "nbformat_minor": 2
}
