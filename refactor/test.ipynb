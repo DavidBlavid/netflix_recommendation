{
 "cells": [
  {
   "cell_type": "code",
   "execution_count": 1,
   "metadata": {},
   "outputs": [
    {
     "name": "stdout",
     "output_type": "stream",
     "text": [
      "Cleaning data...\n",
      "Data cleaned!\n",
      "Starting Training with 4096 neurons...\n",
      "[EPOCH 1] Total Training Loss: 15.721486 | Total Test Loss: 11.016048 | Time: 132s\n",
      "[EPOCH 2] Total Training Loss: 8.586202 | Total Test Loss: 7.830708 | Time: 127s\n",
      "[EPOCH 3] Total Training Loss: 6.718593 | Total Test Loss: 6.544724 | Time: 125s\n",
      "[EPOCH 4] Total Training Loss: 5.756086 | Total Test Loss: 5.829314 | Time: 125s\n"
     ]
    }
   ],
   "source": [
    "from src import pipeline, model, training, data_containers\n",
    "import torch\n",
    "import time\n",
    "import numpy as np\n",
    "\n",
    "BATCH_SIZE = 8192\n",
    "\n",
    "class EarlyStopper:\n",
    "\n",
    "    def __init__(self, patience: int):\n",
    "        self.patience_left = patience\n",
    "        self.patience = patience\n",
    "        self.best_loss = float(\"inf\")\n",
    "\n",
    "    def should_stop(self, loss: float) -> bool:\n",
    "        self.patience_left -= 1\n",
    "        if self.patience_left == 0:\n",
    "            return True\n",
    "        if loss < self.best_loss:\n",
    "            self.best_loss = loss\n",
    "            self.patience_left = self.patience\n",
    "        return False\n",
    "\n",
    "device = torch.device(\"cuda\" if torch.cuda.is_available() else \"cpu\")\n",
    "\n",
    "user_data, movies = pipeline.clean_data()\n",
    "formatted_user_data = training.format_user_data(user_data)\n",
    "train, test = training.train_test_split(formatted_user_data, 0.1)\n",
    "\n",
    "def calculate_loss(model_out: torch.Tensor, batch: data_containers.UserDataBatch, device: torch.device) -> torch.Tensor:\n",
    "    model_out = model_out*batch.relevancy_vector.to(device)\n",
    "    euclidian_distance = (model_out - batch.target_user_rating_vector.to(device))**2\n",
    "    loss = euclidian_distance.sum(dim=1) / batch.n_masked_ratings.to(device)\n",
    "    return loss.sum()\n",
    "\n",
    "for n_neurons in [4096]:\n",
    "    clf = model.Recommender(len(movies), n_neurons).to(device)\n",
    "    optim = torch.optim.Adam(clf.parameters(), lr=0.0001)\n",
    "    stopper = EarlyStopper(patience=5)\n",
    "\n",
    "    atrain_losses = []\n",
    "    test_losses = []\n",
    "    train_losses = []\n",
    "\n",
    "    print(f\"Starting Training with {n_neurons} neurons...\")\n",
    "\n",
    "    for epoch in range(1, 100):\n",
    "        \n",
    "        train = train.sample(frac=1) # shuffle\n",
    "\n",
    "        total_train_loss = 0\n",
    "        total_test_loss = 0\n",
    "        current_index = 0\n",
    "        epoch_start = time.time()\n",
    "\n",
    "        while current_index < len(train):\n",
    "            batch_data = train.iloc[current_index:(current_index+BATCH_SIZE)]\n",
    "            current_index += BATCH_SIZE\n",
    "            masked = batch_data.apply(lambda x: x.mask_values())\n",
    "            batch = training.masked_user_data_to_batch(masked, len(movies))\n",
    "\n",
    "            model_out = clf(batch.input_user_rating_vector.to(device))\n",
    "            loss = calculate_loss(model_out, batch, device)\n",
    "            total_train_loss += loss.item()\n",
    "            loss.backward()\n",
    "            optim.step()\n",
    "            optim.zero_grad()\n",
    "\n",
    "\n",
    "        current_index = 0\n",
    "        clf.eval()\n",
    "        while current_index < len(test):\n",
    "            batch_data = test.iloc[current_index:(current_index+BATCH_SIZE)]\n",
    "            current_index += BATCH_SIZE\n",
    "            masked = batch_data.apply(lambda x: x.mask_values())\n",
    "            batch = training.masked_user_data_to_batch(masked, len(movies))\n",
    "            with torch.no_grad():\n",
    "                model_out = clf(batch.input_user_rating_vector.to(device))\n",
    "                loss = calculate_loss(model_out, batch, device)\n",
    "            total_test_loss += loss.item()\n",
    "        clf.train()\n",
    "\n",
    "        total_train_loss = round(total_train_loss / len(train), 6)\n",
    "        total_test_loss = round(total_test_loss / len(test), 6)\n",
    "\n",
    "        train_losses.append(total_train_loss)\n",
    "        test_losses.append(total_test_loss)\n",
    "\n",
    "        if total_test_loss < stopper.best_loss:\n",
    "             torch.save(clf, f\"model_{n_neurons}.pt\")\n",
    "\n",
    "        if stopper.should_stop(total_test_loss):\n",
    "            print(\"Early Stopping\")\n",
    "            break\n",
    "\n",
    "        epoch_time = int(time.time() - epoch_start)\n",
    "        print(f\"[EPOCH {epoch}] Total Training Loss: {total_train_loss} | Total Test Loss: {total_test_loss} | Time: {epoch_time}s\")\n",
    "    \n",
    "    np.save(f\"train_losses_{n_neurons}.npy\", np.array(train_losses))\n",
    "    np.save(f\"test_losses_{n_neurons}.npy\", np.array(test_losses))"
   ]
  },
  {
   "cell_type": "code",
   "execution_count": 8,
   "metadata": {},
   "outputs": [
    {
     "name": "stdout",
     "output_type": "stream",
     "text": [
      "Cleaning data...\n",
      "Data cleaned!\n"
     ]
    }
   ],
   "source": [
    "from src import pipeline, model, training, data_containers\n",
    "import torch\n",
    "import time\n",
    "import numpy as np\n",
    "\n",
    "BATCH_SIZE = 8192\n",
    "\n",
    "class EarlyStopper:\n",
    "\n",
    "    def __init__(self, patience: int):\n",
    "        self.patience_left = patience\n",
    "        self.patience = patience\n",
    "        self.best_loss = float(\"inf\")\n",
    "\n",
    "    def should_stop(self, loss: float) -> bool:\n",
    "        self.patience_left -= 1\n",
    "        if self.patience_left == 0:\n",
    "            return True\n",
    "        if loss < self.best_loss:\n",
    "            self.best_loss = loss\n",
    "            self.patience_left = self.patience\n",
    "        return False\n",
    "\n",
    "device = torch.device(\"cuda\" if torch.cuda.is_available() else \"cpu\")\n",
    "\n",
    "user_data, movies = pipeline.clean_data()\n",
    "formatted_user_data = training.format_user_data(user_data)\n",
    "train, test = training.train_test_split(formatted_user_data, 0.1)"
   ]
  },
  {
   "cell_type": "code",
   "execution_count": 84,
   "metadata": {},
   "outputs": [
    {
     "name": "stderr",
     "output_type": "stream",
     "text": [
      "C:\\Users\\johnn\\AppData\\Local\\Temp\\ipykernel_15612\\3846949998.py:4: SettingWithCopyWarning:\n",
      "\n",
      "\n",
      "A value is trying to be set on a copy of a slice from a DataFrame.\n",
      "Try using .loc[row_indexer,col_indexer] = value instead\n",
      "\n",
      "See the caveats in the documentation: https://pandas.pydata.org/pandas-docs/stable/user_guide/indexing.html#returning-a-view-versus-a-copy\n",
      "\n"
     ]
    }
   ],
   "source": [
    "sample_user = test.iloc[0]\n",
    "\n",
    "a = movies[movies[\"new_id\"].isin(sample_user.film_ids)]\n",
    "a[\"ratings\"] = sample_user.ratings\n",
    "\n",
    "vector = torch.zeros(1, len(movies))\n",
    "\n",
    "for _, row in a.iterrows():\n",
    "    vector[0, row[\"new_id\"]] = row[\"ratings\"]"
   ]
  },
  {
   "cell_type": "code",
   "execution_count": 85,
   "metadata": {},
   "outputs": [
    {
     "data": {
      "text/html": [
       "<div>\n",
       "<style scoped>\n",
       "    .dataframe tbody tr th:only-of-type {\n",
       "        vertical-align: middle;\n",
       "    }\n",
       "\n",
       "    .dataframe tbody tr th {\n",
       "        vertical-align: top;\n",
       "    }\n",
       "\n",
       "    .dataframe thead th {\n",
       "        text-align: right;\n",
       "    }\n",
       "</style>\n",
       "<table border=\"1\" class=\"dataframe\">\n",
       "  <thead>\n",
       "    <tr style=\"text-align: right;\">\n",
       "      <th></th>\n",
       "      <th>film</th>\n",
       "      <th>year</th>\n",
       "      <th>title</th>\n",
       "      <th>new_id</th>\n",
       "      <th>ratings</th>\n",
       "    </tr>\n",
       "  </thead>\n",
       "  <tbody>\n",
       "    <tr>\n",
       "      <th>82</th>\n",
       "      <td>758</td>\n",
       "      <td>2004</td>\n",
       "      <td>Mean Girls</td>\n",
       "      <td>82</td>\n",
       "      <td>0.580645</td>\n",
       "    </tr>\n",
       "    <tr>\n",
       "      <th>114</th>\n",
       "      <td>1046</td>\n",
       "      <td>2003</td>\n",
       "      <td>Uptown Girls</td>\n",
       "      <td>114</td>\n",
       "      <td>0.580645</td>\n",
       "    </tr>\n",
       "    <tr>\n",
       "      <th>136</th>\n",
       "      <td>1307</td>\n",
       "      <td>2003</td>\n",
       "      <td>S.W.A.T.</td>\n",
       "      <td>136</td>\n",
       "      <td>0.580645</td>\n",
       "    </tr>\n",
       "    <tr>\n",
       "      <th>156</th>\n",
       "      <td>1561</td>\n",
       "      <td>2003</td>\n",
       "      <td>American Wedding</td>\n",
       "      <td>156</td>\n",
       "      <td>-1.419355</td>\n",
       "    </tr>\n",
       "    <tr>\n",
       "      <th>206</th>\n",
       "      <td>1962</td>\n",
       "      <td>2004</td>\n",
       "      <td>50 First Dates</td>\n",
       "      <td>206</td>\n",
       "      <td>-0.419355</td>\n",
       "    </tr>\n",
       "    <tr>\n",
       "      <th>276</th>\n",
       "      <td>2580</td>\n",
       "      <td>2003</td>\n",
       "      <td>Freaky Friday</td>\n",
       "      <td>276</td>\n",
       "      <td>0.580645</td>\n",
       "    </tr>\n",
       "    <tr>\n",
       "      <th>285</th>\n",
       "      <td>2699</td>\n",
       "      <td>2003</td>\n",
       "      <td>The Missing</td>\n",
       "      <td>285</td>\n",
       "      <td>1.580645</td>\n",
       "    </tr>\n",
       "    <tr>\n",
       "      <th>346</th>\n",
       "      <td>3256</td>\n",
       "      <td>2003</td>\n",
       "      <td>Swimming Pool</td>\n",
       "      <td>346</td>\n",
       "      <td>-0.419355</td>\n",
       "    </tr>\n",
       "    <tr>\n",
       "      <th>606</th>\n",
       "      <td>5401</td>\n",
       "      <td>2004</td>\n",
       "      <td>Dodgeball: A True Underdog Story</td>\n",
       "      <td>606</td>\n",
       "      <td>-1.419355</td>\n",
       "    </tr>\n",
       "    <tr>\n",
       "      <th>643</th>\n",
       "      <td>5692</td>\n",
       "      <td>2000</td>\n",
       "      <td>Dude, Where's My Car?</td>\n",
       "      <td>643</td>\n",
       "      <td>-2.419355</td>\n",
       "    </tr>\n",
       "    <tr>\n",
       "      <th>689</th>\n",
       "      <td>6037</td>\n",
       "      <td>2002</td>\n",
       "      <td>The Bourne Identity</td>\n",
       "      <td>689</td>\n",
       "      <td>1.580645</td>\n",
       "    </tr>\n",
       "    <tr>\n",
       "      <th>702</th>\n",
       "      <td>6134</td>\n",
       "      <td>2004</td>\n",
       "      <td>Collateral</td>\n",
       "      <td>702</td>\n",
       "      <td>0.580645</td>\n",
       "    </tr>\n",
       "    <tr>\n",
       "      <th>781</th>\n",
       "      <td>6859</td>\n",
       "      <td>2003</td>\n",
       "      <td>Cheaper by the Dozen</td>\n",
       "      <td>781</td>\n",
       "      <td>0.580645</td>\n",
       "    </tr>\n",
       "    <tr>\n",
       "      <th>790</th>\n",
       "      <td>6931</td>\n",
       "      <td>2003</td>\n",
       "      <td>Terminator 3: Rise of the Machines</td>\n",
       "      <td>790</td>\n",
       "      <td>0.580645</td>\n",
       "    </tr>\n",
       "    <tr>\n",
       "      <th>836</th>\n",
       "      <td>7331</td>\n",
       "      <td>2004</td>\n",
       "      <td>Secret Window</td>\n",
       "      <td>836</td>\n",
       "      <td>-0.419355</td>\n",
       "    </tr>\n",
       "    <tr>\n",
       "      <th>891</th>\n",
       "      <td>7755</td>\n",
       "      <td>2003</td>\n",
       "      <td>Touching the Void</td>\n",
       "      <td>891</td>\n",
       "      <td>-0.419355</td>\n",
       "    </tr>\n",
       "    <tr>\n",
       "      <th>1198</th>\n",
       "      <td>10583</td>\n",
       "      <td>2003</td>\n",
       "      <td>The School of Rock</td>\n",
       "      <td>1198</td>\n",
       "      <td>0.580645</td>\n",
       "    </tr>\n",
       "    <tr>\n",
       "      <th>1250</th>\n",
       "      <td>11040</td>\n",
       "      <td>2003</td>\n",
       "      <td>Radio</td>\n",
       "      <td>1250</td>\n",
       "      <td>-0.419355</td>\n",
       "    </tr>\n",
       "    <tr>\n",
       "      <th>1270</th>\n",
       "      <td>11173</td>\n",
       "      <td>2003</td>\n",
       "      <td>21 Grams</td>\n",
       "      <td>1270</td>\n",
       "      <td>0.580645</td>\n",
       "    </tr>\n",
       "    <tr>\n",
       "      <th>1351</th>\n",
       "      <td>11910</td>\n",
       "      <td>2004</td>\n",
       "      <td>Torque</td>\n",
       "      <td>1351</td>\n",
       "      <td>-0.419355</td>\n",
       "    </tr>\n",
       "    <tr>\n",
       "      <th>1368</th>\n",
       "      <td>12056</td>\n",
       "      <td>2004</td>\n",
       "      <td>Twisted</td>\n",
       "      <td>1368</td>\n",
       "      <td>-0.419355</td>\n",
       "    </tr>\n",
       "    <tr>\n",
       "      <th>1391</th>\n",
       "      <td>12232</td>\n",
       "      <td>2003</td>\n",
       "      <td>Lost in Translation</td>\n",
       "      <td>1391</td>\n",
       "      <td>-1.419355</td>\n",
       "    </tr>\n",
       "    <tr>\n",
       "      <th>1399</th>\n",
       "      <td>12299</td>\n",
       "      <td>2001</td>\n",
       "      <td>Along Came a Spider</td>\n",
       "      <td>1399</td>\n",
       "      <td>-0.419355</td>\n",
       "    </tr>\n",
       "    <tr>\n",
       "      <th>1431</th>\n",
       "      <td>12582</td>\n",
       "      <td>2003</td>\n",
       "      <td>Mystic River</td>\n",
       "      <td>1431</td>\n",
       "      <td>1.580645</td>\n",
       "    </tr>\n",
       "    <tr>\n",
       "      <th>1662</th>\n",
       "      <td>14621</td>\n",
       "      <td>2001</td>\n",
       "      <td>Shrek (Full-screen)</td>\n",
       "      <td>1662</td>\n",
       "      <td>0.580645</td>\n",
       "    </tr>\n",
       "    <tr>\n",
       "      <th>1719</th>\n",
       "      <td>15063</td>\n",
       "      <td>2004</td>\n",
       "      <td>White Chicks</td>\n",
       "      <td>1719</td>\n",
       "      <td>0.580645</td>\n",
       "    </tr>\n",
       "    <tr>\n",
       "      <th>1729</th>\n",
       "      <td>15116</td>\n",
       "      <td>2004</td>\n",
       "      <td>Miracle</td>\n",
       "      <td>1729</td>\n",
       "      <td>-0.419355</td>\n",
       "    </tr>\n",
       "    <tr>\n",
       "      <th>1732</th>\n",
       "      <td>15151</td>\n",
       "      <td>2004</td>\n",
       "      <td>Walking Tall</td>\n",
       "      <td>1732</td>\n",
       "      <td>0.580645</td>\n",
       "    </tr>\n",
       "    <tr>\n",
       "      <th>1739</th>\n",
       "      <td>15205</td>\n",
       "      <td>2004</td>\n",
       "      <td>The Day After Tomorrow</td>\n",
       "      <td>1739</td>\n",
       "      <td>-0.419355</td>\n",
       "    </tr>\n",
       "    <tr>\n",
       "      <th>1958</th>\n",
       "      <td>17149</td>\n",
       "      <td>2003</td>\n",
       "      <td>Gothika</td>\n",
       "      <td>1958</td>\n",
       "      <td>-0.419355</td>\n",
       "    </tr>\n",
       "    <tr>\n",
       "      <th>1994</th>\n",
       "      <td>17355</td>\n",
       "      <td>2004</td>\n",
       "      <td>The Terminal</td>\n",
       "      <td>1994</td>\n",
       "      <td>-0.419355</td>\n",
       "    </tr>\n",
       "  </tbody>\n",
       "</table>\n",
       "</div>"
      ],
      "text/plain": [
       "       film  year                               title  new_id   ratings\n",
       "82      758  2004                          Mean Girls      82  0.580645\n",
       "114    1046  2003                        Uptown Girls     114  0.580645\n",
       "136    1307  2003                            S.W.A.T.     136  0.580645\n",
       "156    1561  2003                    American Wedding     156 -1.419355\n",
       "206    1962  2004                      50 First Dates     206 -0.419355\n",
       "276    2580  2003                       Freaky Friday     276  0.580645\n",
       "285    2699  2003                         The Missing     285  1.580645\n",
       "346    3256  2003                       Swimming Pool     346 -0.419355\n",
       "606    5401  2004    Dodgeball: A True Underdog Story     606 -1.419355\n",
       "643    5692  2000               Dude, Where's My Car?     643 -2.419355\n",
       "689    6037  2002                 The Bourne Identity     689  1.580645\n",
       "702    6134  2004                          Collateral     702  0.580645\n",
       "781    6859  2003                Cheaper by the Dozen     781  0.580645\n",
       "790    6931  2003  Terminator 3: Rise of the Machines     790  0.580645\n",
       "836    7331  2004                       Secret Window     836 -0.419355\n",
       "891    7755  2003                   Touching the Void     891 -0.419355\n",
       "1198  10583  2003                  The School of Rock    1198  0.580645\n",
       "1250  11040  2003                               Radio    1250 -0.419355\n",
       "1270  11173  2003                            21 Grams    1270  0.580645\n",
       "1351  11910  2004                              Torque    1351 -0.419355\n",
       "1368  12056  2004                             Twisted    1368 -0.419355\n",
       "1391  12232  2003                 Lost in Translation    1391 -1.419355\n",
       "1399  12299  2001                 Along Came a Spider    1399 -0.419355\n",
       "1431  12582  2003                        Mystic River    1431  1.580645\n",
       "1662  14621  2001                 Shrek (Full-screen)    1662  0.580645\n",
       "1719  15063  2004                        White Chicks    1719  0.580645\n",
       "1729  15116  2004                             Miracle    1729 -0.419355\n",
       "1732  15151  2004                        Walking Tall    1732  0.580645\n",
       "1739  15205  2004              The Day After Tomorrow    1739 -0.419355\n",
       "1958  17149  2003                             Gothika    1958 -0.419355\n",
       "1994  17355  2004                        The Terminal    1994 -0.419355"
      ]
     },
     "execution_count": 85,
     "metadata": {},
     "output_type": "execute_result"
    }
   ],
   "source": [
    "a"
   ]
  },
  {
   "cell_type": "code",
   "execution_count": 75,
   "metadata": {},
   "outputs": [],
   "source": [
    "clf = torch.load(\"runs/model_4096.pt\")\n",
    "\n",
    "clf.eval()\n",
    "\n",
    "a = clf(vector.to(device)).detach().cpu().numpy()"
   ]
  },
  {
   "cell_type": "code",
   "execution_count": 66,
   "metadata": {},
   "outputs": [
    {
     "data": {
      "text/plain": [
       "UnmaskedUserData(user=73431, film_ids=array([  82,  114,  136,  156,  206,  276,  285,  346,  606,  643,  689,\n",
       "        702,  781,  790,  836,  891, 1198, 1250, 1270, 1351, 1368, 1391,\n",
       "       1399, 1431, 1662, 1719, 1729, 1732, 1739, 1958, 1994], dtype=int64), ratings=array([ 0.58064516,  0.58064516,  0.58064516, -1.41935484, -0.41935484,\n",
       "        0.58064516,  1.58064516, -0.41935484, -1.41935484, -2.41935484,\n",
       "        1.58064516,  0.58064516,  0.58064516,  0.58064516, -0.41935484,\n",
       "       -0.41935484,  0.58064516, -0.41935484,  0.58064516, -0.41935484,\n",
       "       -0.41935484, -1.41935484, -0.41935484,  1.58064516,  0.58064516,\n",
       "        0.58064516, -0.41935484,  0.58064516, -0.41935484, -0.41935484,\n",
       "       -0.41935484]))"
      ]
     },
     "execution_count": 66,
     "metadata": {},
     "output_type": "execute_result"
    }
   ],
   "source": [
    "sample_user"
   ]
  },
  {
   "cell_type": "code",
   "execution_count": 56,
   "metadata": {},
   "outputs": [],
   "source": [
    "clf = torch.load(\"runs/model_4096.pt\")\n",
    "\n",
    "clf.eval()\n",
    "\n",
    "lilo_and_stitch = torch.zeros(1, len(movies))\n",
    "lilo_and_stitch[0, 1264] = 1\n",
    "\n",
    "a = clf(lilo_and_stitch.to(device)).detach().cpu().numpy()"
   ]
  },
  {
   "cell_type": "code",
   "execution_count": 2,
   "metadata": {},
   "outputs": [],
   "source": [
    "import pandas as pd\n",
    "import numpy as np\n",
    "\n",
    "data1 = np.load(\"runs/test_losses_512.npy\")\n",
    "data2 = np.load(\"runs/test_losses_1024.npy\")\n",
    "data3 = np.load(\"runs/test_losses_2048.npy\")\n",
    "data4 = np.load(\"runs/test_losses_4096.npy\")\n",
    "data5 = np.load(\"runs/test_losses_8192.npy\")\n",
    "\n",
    "\n",
    "data_1 = [(i, l, 512) for i, l in enumerate(data1, start=1)]\n",
    "data_2 = [(i, l, 1024) for i, l in enumerate(data2, start=1)]\n",
    "data_3 = [(i, l, 2048) for i, l in enumerate(data3, start=1)]\n",
    "data_4 = [(i, l, 4096) for i, l in enumerate(data4, start=1)]\n",
    "data_5 = [(i, l, 8192) for i, l in enumerate(data5, start=1)]\n",
    "\n",
    "\n",
    "data = data_1 + data_2 + data_3 + data_5\n",
    "data = pd.DataFrame(data, columns=[\"epoch\", \"loss\", \"neurons\"])"
   ]
  },
  {
   "cell_type": "code",
   "execution_count": 5,
   "metadata": {},
   "outputs": [],
   "source": [
    "import torch\n",
    "\n",
    "clf = torch.load(\"runs/model_8192.pt\")\n"
   ]
  },
  {
   "cell_type": "code",
   "execution_count": 3,
   "metadata": {},
   "outputs": [
    {
     "ename": "ValueError",
     "evalue": "Mime type rendering requires nbformat>=4.2.0 but it is not installed",
     "output_type": "error",
     "traceback": [
      "\u001b[1;31m---------------------------------------------------------------------------\u001b[0m",
      "\u001b[1;31mValueError\u001b[0m                                Traceback (most recent call last)",
      "File \u001b[1;32mc:\\Users\\johnn\\anaconda3\\envs\\projekt\\lib\\site-packages\\IPython\\core\\formatters.py:922\u001b[0m, in \u001b[0;36mIPythonDisplayFormatter.__call__\u001b[1;34m(self, obj)\u001b[0m\n\u001b[0;32m    920\u001b[0m method \u001b[39m=\u001b[39m get_real_method(obj, \u001b[39mself\u001b[39m\u001b[39m.\u001b[39mprint_method)\n\u001b[0;32m    921\u001b[0m \u001b[39mif\u001b[39;00m method \u001b[39mis\u001b[39;00m \u001b[39mnot\u001b[39;00m \u001b[39mNone\u001b[39;00m:\n\u001b[1;32m--> 922\u001b[0m     method()\n\u001b[0;32m    923\u001b[0m     \u001b[39mreturn\u001b[39;00m \u001b[39mTrue\u001b[39;00m\n",
      "File \u001b[1;32mc:\\Users\\johnn\\anaconda3\\envs\\projekt\\lib\\site-packages\\plotly\\basedatatypes.py:834\u001b[0m, in \u001b[0;36mBaseFigure._ipython_display_\u001b[1;34m(self)\u001b[0m\n\u001b[0;32m    831\u001b[0m \u001b[39mimport\u001b[39;00m \u001b[39mplotly\u001b[39;00m\u001b[39m.\u001b[39;00m\u001b[39mio\u001b[39;00m \u001b[39mas\u001b[39;00m \u001b[39mpio\u001b[39;00m\n\u001b[0;32m    833\u001b[0m \u001b[39mif\u001b[39;00m pio\u001b[39m.\u001b[39mrenderers\u001b[39m.\u001b[39mrender_on_display \u001b[39mand\u001b[39;00m pio\u001b[39m.\u001b[39mrenderers\u001b[39m.\u001b[39mdefault:\n\u001b[1;32m--> 834\u001b[0m     pio\u001b[39m.\u001b[39;49mshow(\u001b[39mself\u001b[39;49m)\n\u001b[0;32m    835\u001b[0m \u001b[39melse\u001b[39;00m:\n\u001b[0;32m    836\u001b[0m     \u001b[39mprint\u001b[39m(\u001b[39mrepr\u001b[39m(\u001b[39mself\u001b[39m))\n",
      "File \u001b[1;32mc:\\Users\\johnn\\anaconda3\\envs\\projekt\\lib\\site-packages\\plotly\\io\\_renderers.py:396\u001b[0m, in \u001b[0;36mshow\u001b[1;34m(fig, renderer, validate, **kwargs)\u001b[0m\n\u001b[0;32m    391\u001b[0m         \u001b[39mraise\u001b[39;00m \u001b[39mValueError\u001b[39;00m(\n\u001b[0;32m    392\u001b[0m             \u001b[39m\"\u001b[39m\u001b[39mMime type rendering requires ipython but it is not installed\u001b[39m\u001b[39m\"\u001b[39m\n\u001b[0;32m    393\u001b[0m         )\n\u001b[0;32m    395\u001b[0m     \u001b[39mif\u001b[39;00m \u001b[39mnot\u001b[39;00m nbformat \u001b[39mor\u001b[39;00m Version(nbformat\u001b[39m.\u001b[39m__version__) \u001b[39m<\u001b[39m Version(\u001b[39m\"\u001b[39m\u001b[39m4.2.0\u001b[39m\u001b[39m\"\u001b[39m):\n\u001b[1;32m--> 396\u001b[0m         \u001b[39mraise\u001b[39;00m \u001b[39mValueError\u001b[39;00m(\n\u001b[0;32m    397\u001b[0m             \u001b[39m\"\u001b[39m\u001b[39mMime type rendering requires nbformat>=4.2.0 but it is not installed\u001b[39m\u001b[39m\"\u001b[39m\n\u001b[0;32m    398\u001b[0m         )\n\u001b[0;32m    400\u001b[0m     ipython_display\u001b[39m.\u001b[39mdisplay(bundle, raw\u001b[39m=\u001b[39m\u001b[39mTrue\u001b[39;00m)\n\u001b[0;32m    402\u001b[0m \u001b[39m# external renderers\u001b[39;00m\n",
      "\u001b[1;31mValueError\u001b[0m: Mime type rendering requires nbformat>=4.2.0 but it is not installed"
     ]
    },
    {
     "data": {
      "application/vnd.plotly.v1+json": {
       "config": {
        "plotlyServerURL": "https://plot.ly"
       },
       "data": [
        {
         "hovertemplate": "neurons=512<br>epoch=%{x}<br>loss=%{y}<extra></extra>",
         "legendgroup": "512",
         "line": {
          "color": "#636efa",
          "dash": "solid"
         },
         "marker": {
          "symbol": "circle"
         },
         "mode": "lines",
         "name": "512",
         "orientation": "v",
         "showlegend": true,
         "type": "scatter",
         "x": [
          1,
          2,
          3,
          4,
          5,
          6,
          7,
          8,
          9,
          10,
          11,
          12,
          13,
          14,
          15,
          16,
          17,
          18,
          19,
          20,
          21,
          22,
          23,
          24,
          25,
          26,
          27,
          28,
          29,
          30,
          31,
          32,
          33,
          34,
          35,
          36,
          37,
          38,
          39,
          40,
          41,
          42,
          43,
          44,
          45,
          46,
          47,
          48,
          49,
          50,
          51,
          52,
          53,
          54,
          55,
          56,
          57,
          58,
          59,
          60,
          61,
          62,
          63,
          64,
          65,
          66,
          67,
          68,
          69,
          70,
          71,
          72,
          73,
          74,
          75,
          76,
          77,
          78,
          79,
          80,
          81,
          82,
          83,
          84,
          85,
          86,
          87,
          88,
          89
         ],
         "xaxis": "x",
         "y": [
          23.783425,
          20.167539,
          18.852767,
          17.064115,
          16.654944,
          15.858802,
          15.3632,
          14.68655,
          14.347258,
          13.813209,
          13.709528,
          12.915951,
          12.975122,
          12.788815,
          12.37532,
          12.330474,
          12.172176,
          12.010336,
          11.823643,
          11.593523,
          11.356499,
          11.221097,
          11.13882,
          10.925245,
          10.860186,
          10.793904,
          10.760766,
          10.333906,
          10.343447,
          10.455084,
          9.995984,
          10.192276,
          9.982348,
          9.805223,
          9.885065,
          9.827016,
          9.716947,
          9.855116,
          9.776479,
          9.650081,
          9.783333,
          9.267548,
          9.480398,
          9.413272,
          9.254381,
          9.396861,
          9.207203,
          9.329512,
          9.144791,
          9.083245,
          9.178663,
          9.081236,
          9.063048,
          9.024331,
          8.778111,
          8.89032,
          8.791782,
          8.829436,
          8.652894,
          8.733098,
          8.606595,
          8.753974,
          8.462466,
          8.544605,
          8.406998,
          8.502286,
          8.40603,
          8.396153,
          8.294528,
          8.224432,
          8.274149,
          8.229725,
          8.283707,
          8.191745,
          8.134918,
          8.140822,
          8.085443,
          8.202818,
          7.969366,
          7.91703,
          8.043338,
          8.109921,
          7.865689,
          7.803372,
          7.868381,
          7.958071,
          7.850188,
          7.836054,
          7.701492
         ],
         "yaxis": "y"
        },
        {
         "hovertemplate": "neurons=1024<br>epoch=%{x}<br>loss=%{y}<extra></extra>",
         "legendgroup": "1024",
         "line": {
          "color": "#EF553B",
          "dash": "solid"
         },
         "marker": {
          "symbol": "circle"
         },
         "mode": "lines",
         "name": "1024",
         "orientation": "v",
         "showlegend": true,
         "type": "scatter",
         "x": [
          1,
          2,
          3,
          4,
          5,
          6,
          7,
          8,
          9,
          10,
          11,
          12,
          13,
          14,
          15,
          16,
          17,
          18,
          19,
          20,
          21,
          22,
          23,
          24,
          25,
          26,
          27,
          28,
          29,
          30,
          31,
          32,
          33,
          34,
          35,
          36,
          37,
          38,
          39,
          40,
          41,
          42,
          43,
          44,
          45,
          46,
          47,
          48,
          49,
          50,
          51,
          52,
          53,
          54,
          55,
          56,
          57,
          58,
          59,
          60,
          61,
          62,
          63,
          64,
          65,
          66,
          67,
          68,
          69,
          70,
          71,
          72
         ],
         "xaxis": "x",
         "y": [
          20.193125,
          17.167925,
          14.622478,
          13.678089,
          12.856173,
          12.012713,
          11.453373,
          10.725182,
          10.440386,
          10.110824,
          9.967384,
          9.571161,
          9.130512,
          8.882,
          8.746213,
          8.276765,
          8.342764,
          8.071489,
          8.082895,
          8.027419,
          7.886644,
          7.722329,
          7.649406,
          7.380814,
          7.225907,
          7.17391,
          7.113135,
          7.17421,
          6.99592,
          6.915335,
          6.827101,
          6.779666,
          6.701928,
          6.537218,
          6.725944,
          6.474339,
          6.431068,
          6.323798,
          6.361614,
          6.339633,
          6.307062,
          6.395687,
          6.036502,
          6.073602,
          5.996829,
          5.985963,
          6.023671,
          6.012807,
          5.978548,
          5.871403,
          5.905268,
          5.805619,
          5.894769,
          5.707834,
          5.667801,
          5.980005,
          5.65342,
          5.619494,
          5.6315,
          5.554116,
          5.638435,
          5.460507,
          5.53876,
          5.421469,
          5.307665,
          5.417373,
          5.289029,
          5.355848,
          5.330258,
          5.351776,
          5.308413,
          5.25205
         ],
         "yaxis": "y"
        },
        {
         "hovertemplate": "neurons=2048<br>epoch=%{x}<br>loss=%{y}<extra></extra>",
         "legendgroup": "2048",
         "line": {
          "color": "#00cc96",
          "dash": "solid"
         },
         "marker": {
          "symbol": "circle"
         },
         "mode": "lines",
         "name": "2048",
         "orientation": "v",
         "showlegend": true,
         "type": "scatter",
         "x": [
          1,
          2,
          3,
          4,
          5,
          6,
          7,
          8,
          9,
          10,
          11,
          12,
          13,
          14,
          15,
          16,
          17,
          18,
          19,
          20,
          21,
          22,
          23,
          24,
          25,
          26,
          27,
          28,
          29,
          30,
          31,
          32,
          33,
          34,
          35,
          36,
          37,
          38,
          39,
          40,
          41,
          42,
          43,
          44,
          45,
          46,
          47,
          48,
          49,
          50,
          51,
          52,
          53,
          54,
          55,
          56,
          57,
          58,
          59,
          60,
          61,
          62,
          63,
          64,
          65,
          66,
          67,
          68
         ],
         "xaxis": "x",
         "y": [
          16.854636,
          12.296888,
          10.318604,
          9.140342,
          8.443434,
          7.970989,
          7.474433,
          6.852527,
          6.586839,
          6.273318,
          6.017287,
          6.075239,
          5.71783,
          5.427303,
          5.486568,
          5.304453,
          5.299393,
          5.032211,
          4.952105,
          4.890904,
          4.777453,
          4.801832,
          4.573026,
          4.572805,
          4.402893,
          4.322974,
          4.231112,
          4.330196,
          4.183196,
          4.258969,
          4.031811,
          4.245076,
          3.931427,
          3.938925,
          3.946429,
          3.865715,
          3.827,
          3.827278,
          3.758606,
          3.782591,
          3.789401,
          3.565072,
          3.639775,
          3.735604,
          3.558895,
          3.541508,
          3.857125,
          3.554381,
          3.457246,
          3.554555,
          3.679685,
          3.430826,
          3.564437,
          3.40148,
          3.28018,
          3.293831,
          3.386196,
          3.261238,
          3.196865,
          3.20223,
          3.2657,
          3.330661,
          3.112627,
          3.306042,
          3.179337,
          3.310218,
          3.217802,
          3.163992
         ],
         "yaxis": "y"
        },
        {
         "hovertemplate": "neurons=8192<br>epoch=%{x}<br>loss=%{y}<extra></extra>",
         "legendgroup": "8192",
         "line": {
          "color": "#ab63fa",
          "dash": "solid"
         },
         "marker": {
          "symbol": "circle"
         },
         "mode": "lines",
         "name": "8192",
         "orientation": "v",
         "showlegend": true,
         "type": "scatter",
         "x": [
          1,
          2,
          3,
          4,
          5,
          6,
          7,
          8,
          9,
          10,
          11,
          12,
          13,
          14,
          15,
          16,
          17,
          18,
          19,
          20,
          21,
          22,
          23,
          24,
          25,
          26,
          27,
          28,
          29,
          30,
          31,
          32
         ],
         "xaxis": "x",
         "y": [
          6.152149,
          4.632728,
          3.94957,
          3.718403,
          3.291736,
          3.2019,
          3.050076,
          3.114181,
          2.747938,
          3.133096,
          2.635942,
          2.618726,
          3.101763,
          2.559672,
          2.468196,
          2.474669,
          2.43872,
          2.581275,
          2.71397,
          2.454667,
          2.380145,
          2.486102,
          2.179186,
          2.398154,
          2.237308,
          2.281912,
          2.155182,
          2.216761,
          2.303366,
          2.502219,
          2.339846,
          2.189368
         ],
         "yaxis": "y"
        }
       ],
       "layout": {
        "legend": {
         "title": {
          "text": "neurons"
         },
         "tracegroupgap": 0
        },
        "margin": {
         "t": 60
        },
        "template": {
         "data": {
          "bar": [
           {
            "error_x": {
             "color": "#2a3f5f"
            },
            "error_y": {
             "color": "#2a3f5f"
            },
            "marker": {
             "line": {
              "color": "#E5ECF6",
              "width": 0.5
             },
             "pattern": {
              "fillmode": "overlay",
              "size": 10,
              "solidity": 0.2
             }
            },
            "type": "bar"
           }
          ],
          "barpolar": [
           {
            "marker": {
             "line": {
              "color": "#E5ECF6",
              "width": 0.5
             },
             "pattern": {
              "fillmode": "overlay",
              "size": 10,
              "solidity": 0.2
             }
            },
            "type": "barpolar"
           }
          ],
          "carpet": [
           {
            "aaxis": {
             "endlinecolor": "#2a3f5f",
             "gridcolor": "white",
             "linecolor": "white",
             "minorgridcolor": "white",
             "startlinecolor": "#2a3f5f"
            },
            "baxis": {
             "endlinecolor": "#2a3f5f",
             "gridcolor": "white",
             "linecolor": "white",
             "minorgridcolor": "white",
             "startlinecolor": "#2a3f5f"
            },
            "type": "carpet"
           }
          ],
          "choropleth": [
           {
            "colorbar": {
             "outlinewidth": 0,
             "ticks": ""
            },
            "type": "choropleth"
           }
          ],
          "contour": [
           {
            "colorbar": {
             "outlinewidth": 0,
             "ticks": ""
            },
            "colorscale": [
             [
              0,
              "#0d0887"
             ],
             [
              0.1111111111111111,
              "#46039f"
             ],
             [
              0.2222222222222222,
              "#7201a8"
             ],
             [
              0.3333333333333333,
              "#9c179e"
             ],
             [
              0.4444444444444444,
              "#bd3786"
             ],
             [
              0.5555555555555556,
              "#d8576b"
             ],
             [
              0.6666666666666666,
              "#ed7953"
             ],
             [
              0.7777777777777778,
              "#fb9f3a"
             ],
             [
              0.8888888888888888,
              "#fdca26"
             ],
             [
              1,
              "#f0f921"
             ]
            ],
            "type": "contour"
           }
          ],
          "contourcarpet": [
           {
            "colorbar": {
             "outlinewidth": 0,
             "ticks": ""
            },
            "type": "contourcarpet"
           }
          ],
          "heatmap": [
           {
            "colorbar": {
             "outlinewidth": 0,
             "ticks": ""
            },
            "colorscale": [
             [
              0,
              "#0d0887"
             ],
             [
              0.1111111111111111,
              "#46039f"
             ],
             [
              0.2222222222222222,
              "#7201a8"
             ],
             [
              0.3333333333333333,
              "#9c179e"
             ],
             [
              0.4444444444444444,
              "#bd3786"
             ],
             [
              0.5555555555555556,
              "#d8576b"
             ],
             [
              0.6666666666666666,
              "#ed7953"
             ],
             [
              0.7777777777777778,
              "#fb9f3a"
             ],
             [
              0.8888888888888888,
              "#fdca26"
             ],
             [
              1,
              "#f0f921"
             ]
            ],
            "type": "heatmap"
           }
          ],
          "heatmapgl": [
           {
            "colorbar": {
             "outlinewidth": 0,
             "ticks": ""
            },
            "colorscale": [
             [
              0,
              "#0d0887"
             ],
             [
              0.1111111111111111,
              "#46039f"
             ],
             [
              0.2222222222222222,
              "#7201a8"
             ],
             [
              0.3333333333333333,
              "#9c179e"
             ],
             [
              0.4444444444444444,
              "#bd3786"
             ],
             [
              0.5555555555555556,
              "#d8576b"
             ],
             [
              0.6666666666666666,
              "#ed7953"
             ],
             [
              0.7777777777777778,
              "#fb9f3a"
             ],
             [
              0.8888888888888888,
              "#fdca26"
             ],
             [
              1,
              "#f0f921"
             ]
            ],
            "type": "heatmapgl"
           }
          ],
          "histogram": [
           {
            "marker": {
             "pattern": {
              "fillmode": "overlay",
              "size": 10,
              "solidity": 0.2
             }
            },
            "type": "histogram"
           }
          ],
          "histogram2d": [
           {
            "colorbar": {
             "outlinewidth": 0,
             "ticks": ""
            },
            "colorscale": [
             [
              0,
              "#0d0887"
             ],
             [
              0.1111111111111111,
              "#46039f"
             ],
             [
              0.2222222222222222,
              "#7201a8"
             ],
             [
              0.3333333333333333,
              "#9c179e"
             ],
             [
              0.4444444444444444,
              "#bd3786"
             ],
             [
              0.5555555555555556,
              "#d8576b"
             ],
             [
              0.6666666666666666,
              "#ed7953"
             ],
             [
              0.7777777777777778,
              "#fb9f3a"
             ],
             [
              0.8888888888888888,
              "#fdca26"
             ],
             [
              1,
              "#f0f921"
             ]
            ],
            "type": "histogram2d"
           }
          ],
          "histogram2dcontour": [
           {
            "colorbar": {
             "outlinewidth": 0,
             "ticks": ""
            },
            "colorscale": [
             [
              0,
              "#0d0887"
             ],
             [
              0.1111111111111111,
              "#46039f"
             ],
             [
              0.2222222222222222,
              "#7201a8"
             ],
             [
              0.3333333333333333,
              "#9c179e"
             ],
             [
              0.4444444444444444,
              "#bd3786"
             ],
             [
              0.5555555555555556,
              "#d8576b"
             ],
             [
              0.6666666666666666,
              "#ed7953"
             ],
             [
              0.7777777777777778,
              "#fb9f3a"
             ],
             [
              0.8888888888888888,
              "#fdca26"
             ],
             [
              1,
              "#f0f921"
             ]
            ],
            "type": "histogram2dcontour"
           }
          ],
          "mesh3d": [
           {
            "colorbar": {
             "outlinewidth": 0,
             "ticks": ""
            },
            "type": "mesh3d"
           }
          ],
          "parcoords": [
           {
            "line": {
             "colorbar": {
              "outlinewidth": 0,
              "ticks": ""
             }
            },
            "type": "parcoords"
           }
          ],
          "pie": [
           {
            "automargin": true,
            "type": "pie"
           }
          ],
          "scatter": [
           {
            "fillpattern": {
             "fillmode": "overlay",
             "size": 10,
             "solidity": 0.2
            },
            "type": "scatter"
           }
          ],
          "scatter3d": [
           {
            "line": {
             "colorbar": {
              "outlinewidth": 0,
              "ticks": ""
             }
            },
            "marker": {
             "colorbar": {
              "outlinewidth": 0,
              "ticks": ""
             }
            },
            "type": "scatter3d"
           }
          ],
          "scattercarpet": [
           {
            "marker": {
             "colorbar": {
              "outlinewidth": 0,
              "ticks": ""
             }
            },
            "type": "scattercarpet"
           }
          ],
          "scattergeo": [
           {
            "marker": {
             "colorbar": {
              "outlinewidth": 0,
              "ticks": ""
             }
            },
            "type": "scattergeo"
           }
          ],
          "scattergl": [
           {
            "marker": {
             "colorbar": {
              "outlinewidth": 0,
              "ticks": ""
             }
            },
            "type": "scattergl"
           }
          ],
          "scattermapbox": [
           {
            "marker": {
             "colorbar": {
              "outlinewidth": 0,
              "ticks": ""
             }
            },
            "type": "scattermapbox"
           }
          ],
          "scatterpolar": [
           {
            "marker": {
             "colorbar": {
              "outlinewidth": 0,
              "ticks": ""
             }
            },
            "type": "scatterpolar"
           }
          ],
          "scatterpolargl": [
           {
            "marker": {
             "colorbar": {
              "outlinewidth": 0,
              "ticks": ""
             }
            },
            "type": "scatterpolargl"
           }
          ],
          "scatterternary": [
           {
            "marker": {
             "colorbar": {
              "outlinewidth": 0,
              "ticks": ""
             }
            },
            "type": "scatterternary"
           }
          ],
          "surface": [
           {
            "colorbar": {
             "outlinewidth": 0,
             "ticks": ""
            },
            "colorscale": [
             [
              0,
              "#0d0887"
             ],
             [
              0.1111111111111111,
              "#46039f"
             ],
             [
              0.2222222222222222,
              "#7201a8"
             ],
             [
              0.3333333333333333,
              "#9c179e"
             ],
             [
              0.4444444444444444,
              "#bd3786"
             ],
             [
              0.5555555555555556,
              "#d8576b"
             ],
             [
              0.6666666666666666,
              "#ed7953"
             ],
             [
              0.7777777777777778,
              "#fb9f3a"
             ],
             [
              0.8888888888888888,
              "#fdca26"
             ],
             [
              1,
              "#f0f921"
             ]
            ],
            "type": "surface"
           }
          ],
          "table": [
           {
            "cells": {
             "fill": {
              "color": "#EBF0F8"
             },
             "line": {
              "color": "white"
             }
            },
            "header": {
             "fill": {
              "color": "#C8D4E3"
             },
             "line": {
              "color": "white"
             }
            },
            "type": "table"
           }
          ]
         },
         "layout": {
          "annotationdefaults": {
           "arrowcolor": "#2a3f5f",
           "arrowhead": 0,
           "arrowwidth": 1
          },
          "autotypenumbers": "strict",
          "coloraxis": {
           "colorbar": {
            "outlinewidth": 0,
            "ticks": ""
           }
          },
          "colorscale": {
           "diverging": [
            [
             0,
             "#8e0152"
            ],
            [
             0.1,
             "#c51b7d"
            ],
            [
             0.2,
             "#de77ae"
            ],
            [
             0.3,
             "#f1b6da"
            ],
            [
             0.4,
             "#fde0ef"
            ],
            [
             0.5,
             "#f7f7f7"
            ],
            [
             0.6,
             "#e6f5d0"
            ],
            [
             0.7,
             "#b8e186"
            ],
            [
             0.8,
             "#7fbc41"
            ],
            [
             0.9,
             "#4d9221"
            ],
            [
             1,
             "#276419"
            ]
           ],
           "sequential": [
            [
             0,
             "#0d0887"
            ],
            [
             0.1111111111111111,
             "#46039f"
            ],
            [
             0.2222222222222222,
             "#7201a8"
            ],
            [
             0.3333333333333333,
             "#9c179e"
            ],
            [
             0.4444444444444444,
             "#bd3786"
            ],
            [
             0.5555555555555556,
             "#d8576b"
            ],
            [
             0.6666666666666666,
             "#ed7953"
            ],
            [
             0.7777777777777778,
             "#fb9f3a"
            ],
            [
             0.8888888888888888,
             "#fdca26"
            ],
            [
             1,
             "#f0f921"
            ]
           ],
           "sequentialminus": [
            [
             0,
             "#0d0887"
            ],
            [
             0.1111111111111111,
             "#46039f"
            ],
            [
             0.2222222222222222,
             "#7201a8"
            ],
            [
             0.3333333333333333,
             "#9c179e"
            ],
            [
             0.4444444444444444,
             "#bd3786"
            ],
            [
             0.5555555555555556,
             "#d8576b"
            ],
            [
             0.6666666666666666,
             "#ed7953"
            ],
            [
             0.7777777777777778,
             "#fb9f3a"
            ],
            [
             0.8888888888888888,
             "#fdca26"
            ],
            [
             1,
             "#f0f921"
            ]
           ]
          },
          "colorway": [
           "#636efa",
           "#EF553B",
           "#00cc96",
           "#ab63fa",
           "#FFA15A",
           "#19d3f3",
           "#FF6692",
           "#B6E880",
           "#FF97FF",
           "#FECB52"
          ],
          "font": {
           "color": "#2a3f5f"
          },
          "geo": {
           "bgcolor": "white",
           "lakecolor": "white",
           "landcolor": "#E5ECF6",
           "showlakes": true,
           "showland": true,
           "subunitcolor": "white"
          },
          "hoverlabel": {
           "align": "left"
          },
          "hovermode": "closest",
          "mapbox": {
           "style": "light"
          },
          "paper_bgcolor": "white",
          "plot_bgcolor": "#E5ECF6",
          "polar": {
           "angularaxis": {
            "gridcolor": "white",
            "linecolor": "white",
            "ticks": ""
           },
           "bgcolor": "#E5ECF6",
           "radialaxis": {
            "gridcolor": "white",
            "linecolor": "white",
            "ticks": ""
           }
          },
          "scene": {
           "xaxis": {
            "backgroundcolor": "#E5ECF6",
            "gridcolor": "white",
            "gridwidth": 2,
            "linecolor": "white",
            "showbackground": true,
            "ticks": "",
            "zerolinecolor": "white"
           },
           "yaxis": {
            "backgroundcolor": "#E5ECF6",
            "gridcolor": "white",
            "gridwidth": 2,
            "linecolor": "white",
            "showbackground": true,
            "ticks": "",
            "zerolinecolor": "white"
           },
           "zaxis": {
            "backgroundcolor": "#E5ECF6",
            "gridcolor": "white",
            "gridwidth": 2,
            "linecolor": "white",
            "showbackground": true,
            "ticks": "",
            "zerolinecolor": "white"
           }
          },
          "shapedefaults": {
           "line": {
            "color": "#2a3f5f"
           }
          },
          "ternary": {
           "aaxis": {
            "gridcolor": "white",
            "linecolor": "white",
            "ticks": ""
           },
           "baxis": {
            "gridcolor": "white",
            "linecolor": "white",
            "ticks": ""
           },
           "bgcolor": "#E5ECF6",
           "caxis": {
            "gridcolor": "white",
            "linecolor": "white",
            "ticks": ""
           }
          },
          "title": {
           "x": 0.05
          },
          "xaxis": {
           "automargin": true,
           "gridcolor": "white",
           "linecolor": "white",
           "ticks": "",
           "title": {
            "standoff": 15
           },
           "zerolinecolor": "white",
           "zerolinewidth": 2
          },
          "yaxis": {
           "automargin": true,
           "gridcolor": "white",
           "linecolor": "white",
           "ticks": "",
           "title": {
            "standoff": 15
           },
           "zerolinecolor": "white",
           "zerolinewidth": 2
          }
         }
        },
        "xaxis": {
         "anchor": "y",
         "domain": [
          0,
          1
         ],
         "title": {
          "text": "epoch"
         }
        },
        "yaxis": {
         "anchor": "x",
         "domain": [
          0,
          1
         ],
         "title": {
          "text": "loss"
         }
        }
       }
      },
      "text/html": [
       "<div>                        <script type=\"text/javascript\">window.PlotlyConfig = {MathJaxConfig: 'local'};</script>\n",
       "        <script charset=\"utf-8\" src=\"https://cdn.plot.ly/plotly-2.20.0.min.js\"></script>                <div id=\"45a58db4-3c5b-4541-8092-946398b04738\" class=\"plotly-graph-div\" style=\"height:100%; width:100%;\"></div>            <script type=\"text/javascript\">                                    window.PLOTLYENV=window.PLOTLYENV || {};                                    if (document.getElementById(\"45a58db4-3c5b-4541-8092-946398b04738\")) {                    Plotly.newPlot(                        \"45a58db4-3c5b-4541-8092-946398b04738\",                        [{\"hovertemplate\":\"neurons=512<br>epoch=%{x}<br>loss=%{y}<extra></extra>\",\"legendgroup\":\"512\",\"line\":{\"color\":\"#636efa\",\"dash\":\"solid\"},\"marker\":{\"symbol\":\"circle\"},\"mode\":\"lines\",\"name\":\"512\",\"orientation\":\"v\",\"showlegend\":true,\"x\":[1,2,3,4,5,6,7,8,9,10,11,12,13,14,15,16,17,18,19,20,21,22,23,24,25,26,27,28,29,30,31,32,33,34,35,36,37,38,39,40,41,42,43,44,45,46,47,48,49,50,51,52,53,54,55,56,57,58,59,60,61,62,63,64,65,66,67,68,69,70,71,72,73,74,75,76,77,78,79,80,81,82,83,84,85,86,87,88,89],\"xaxis\":\"x\",\"y\":[23.783425,20.167539,18.852767,17.064115,16.654944,15.858802,15.3632,14.68655,14.347258,13.813209,13.709528,12.915951,12.975122,12.788815,12.37532,12.330474,12.172176,12.010336,11.823643,11.593523,11.356499,11.221097,11.13882,10.925245,10.860186,10.793904,10.760766,10.333906,10.343447,10.455084,9.995984,10.192276,9.982348,9.805223,9.885065,9.827016,9.716947,9.855116,9.776479,9.650081,9.783333,9.267548,9.480398,9.413272,9.254381,9.396861,9.207203,9.329512,9.144791,9.083245,9.178663,9.081236,9.063048,9.024331,8.778111,8.89032,8.791782,8.829436,8.652894,8.733098,8.606595,8.753974,8.462466,8.544605,8.406998,8.502286,8.40603,8.396153,8.294528,8.224432,8.274149,8.229725,8.283707,8.191745,8.134918,8.140822,8.085443,8.202818,7.969366,7.91703,8.043338,8.109921,7.865689,7.803372,7.868381,7.958071,7.850188,7.836054,7.701492],\"yaxis\":\"y\",\"type\":\"scatter\"},{\"hovertemplate\":\"neurons=1024<br>epoch=%{x}<br>loss=%{y}<extra></extra>\",\"legendgroup\":\"1024\",\"line\":{\"color\":\"#EF553B\",\"dash\":\"solid\"},\"marker\":{\"symbol\":\"circle\"},\"mode\":\"lines\",\"name\":\"1024\",\"orientation\":\"v\",\"showlegend\":true,\"x\":[1,2,3,4,5,6,7,8,9,10,11,12,13,14,15,16,17,18,19,20,21,22,23,24,25,26,27,28,29,30,31,32,33,34,35,36,37,38,39,40,41,42,43,44,45,46,47,48,49,50,51,52,53,54,55,56,57,58,59,60,61,62,63,64,65,66,67,68,69,70,71,72],\"xaxis\":\"x\",\"y\":[20.193125,17.167925,14.622478,13.678089,12.856173,12.012713,11.453373,10.725182,10.440386,10.110824,9.967384,9.571161,9.130512,8.882,8.746213,8.276765,8.342764,8.071489,8.082895,8.027419,7.886644,7.722329,7.649406,7.380814,7.225907,7.17391,7.113135,7.17421,6.99592,6.915335,6.827101,6.779666,6.701928,6.537218,6.725944,6.474339,6.431068,6.323798,6.361614,6.339633,6.307062,6.395687,6.036502,6.073602,5.996829,5.985963,6.023671,6.012807,5.978548,5.871403,5.905268,5.805619,5.894769,5.707834,5.667801,5.980005,5.65342,5.619494,5.6315,5.554116,5.638435,5.460507,5.53876,5.421469,5.307665,5.417373,5.289029,5.355848,5.330258,5.351776,5.308413,5.25205],\"yaxis\":\"y\",\"type\":\"scatter\"},{\"hovertemplate\":\"neurons=2048<br>epoch=%{x}<br>loss=%{y}<extra></extra>\",\"legendgroup\":\"2048\",\"line\":{\"color\":\"#00cc96\",\"dash\":\"solid\"},\"marker\":{\"symbol\":\"circle\"},\"mode\":\"lines\",\"name\":\"2048\",\"orientation\":\"v\",\"showlegend\":true,\"x\":[1,2,3,4,5,6,7,8,9,10,11,12,13,14,15,16,17,18,19,20,21,22,23,24,25,26,27,28,29,30,31,32,33,34,35,36,37,38,39,40,41,42,43,44,45,46,47,48,49,50,51,52,53,54,55,56,57,58,59,60,61,62,63,64,65,66,67,68],\"xaxis\":\"x\",\"y\":[16.854636,12.296888,10.318604,9.140342,8.443434,7.970989,7.474433,6.852527,6.586839,6.273318,6.017287,6.075239,5.71783,5.427303,5.486568,5.304453,5.299393,5.032211,4.952105,4.890904,4.777453,4.801832,4.573026,4.572805,4.402893,4.322974,4.231112,4.330196,4.183196,4.258969,4.031811,4.245076,3.931427,3.938925,3.946429,3.865715,3.827,3.827278,3.758606,3.782591,3.789401,3.565072,3.639775,3.735604,3.558895,3.541508,3.857125,3.554381,3.457246,3.554555,3.679685,3.430826,3.564437,3.40148,3.28018,3.293831,3.386196,3.261238,3.196865,3.20223,3.2657,3.330661,3.112627,3.306042,3.179337,3.310218,3.217802,3.163992],\"yaxis\":\"y\",\"type\":\"scatter\"},{\"hovertemplate\":\"neurons=8192<br>epoch=%{x}<br>loss=%{y}<extra></extra>\",\"legendgroup\":\"8192\",\"line\":{\"color\":\"#ab63fa\",\"dash\":\"solid\"},\"marker\":{\"symbol\":\"circle\"},\"mode\":\"lines\",\"name\":\"8192\",\"orientation\":\"v\",\"showlegend\":true,\"x\":[1,2,3,4,5,6,7,8,9,10,11,12,13,14,15,16,17,18,19,20,21,22,23,24,25,26,27,28,29,30,31,32],\"xaxis\":\"x\",\"y\":[6.152149,4.632728,3.94957,3.718403,3.291736,3.2019,3.050076,3.114181,2.747938,3.133096,2.635942,2.618726,3.101763,2.559672,2.468196,2.474669,2.43872,2.581275,2.71397,2.454667,2.380145,2.486102,2.179186,2.398154,2.237308,2.281912,2.155182,2.216761,2.303366,2.502219,2.339846,2.189368],\"yaxis\":\"y\",\"type\":\"scatter\"}],                        {\"template\":{\"data\":{\"histogram2dcontour\":[{\"type\":\"histogram2dcontour\",\"colorbar\":{\"outlinewidth\":0,\"ticks\":\"\"},\"colorscale\":[[0.0,\"#0d0887\"],[0.1111111111111111,\"#46039f\"],[0.2222222222222222,\"#7201a8\"],[0.3333333333333333,\"#9c179e\"],[0.4444444444444444,\"#bd3786\"],[0.5555555555555556,\"#d8576b\"],[0.6666666666666666,\"#ed7953\"],[0.7777777777777778,\"#fb9f3a\"],[0.8888888888888888,\"#fdca26\"],[1.0,\"#f0f921\"]]}],\"choropleth\":[{\"type\":\"choropleth\",\"colorbar\":{\"outlinewidth\":0,\"ticks\":\"\"}}],\"histogram2d\":[{\"type\":\"histogram2d\",\"colorbar\":{\"outlinewidth\":0,\"ticks\":\"\"},\"colorscale\":[[0.0,\"#0d0887\"],[0.1111111111111111,\"#46039f\"],[0.2222222222222222,\"#7201a8\"],[0.3333333333333333,\"#9c179e\"],[0.4444444444444444,\"#bd3786\"],[0.5555555555555556,\"#d8576b\"],[0.6666666666666666,\"#ed7953\"],[0.7777777777777778,\"#fb9f3a\"],[0.8888888888888888,\"#fdca26\"],[1.0,\"#f0f921\"]]}],\"heatmap\":[{\"type\":\"heatmap\",\"colorbar\":{\"outlinewidth\":0,\"ticks\":\"\"},\"colorscale\":[[0.0,\"#0d0887\"],[0.1111111111111111,\"#46039f\"],[0.2222222222222222,\"#7201a8\"],[0.3333333333333333,\"#9c179e\"],[0.4444444444444444,\"#bd3786\"],[0.5555555555555556,\"#d8576b\"],[0.6666666666666666,\"#ed7953\"],[0.7777777777777778,\"#fb9f3a\"],[0.8888888888888888,\"#fdca26\"],[1.0,\"#f0f921\"]]}],\"heatmapgl\":[{\"type\":\"heatmapgl\",\"colorbar\":{\"outlinewidth\":0,\"ticks\":\"\"},\"colorscale\":[[0.0,\"#0d0887\"],[0.1111111111111111,\"#46039f\"],[0.2222222222222222,\"#7201a8\"],[0.3333333333333333,\"#9c179e\"],[0.4444444444444444,\"#bd3786\"],[0.5555555555555556,\"#d8576b\"],[0.6666666666666666,\"#ed7953\"],[0.7777777777777778,\"#fb9f3a\"],[0.8888888888888888,\"#fdca26\"],[1.0,\"#f0f921\"]]}],\"contourcarpet\":[{\"type\":\"contourcarpet\",\"colorbar\":{\"outlinewidth\":0,\"ticks\":\"\"}}],\"contour\":[{\"type\":\"contour\",\"colorbar\":{\"outlinewidth\":0,\"ticks\":\"\"},\"colorscale\":[[0.0,\"#0d0887\"],[0.1111111111111111,\"#46039f\"],[0.2222222222222222,\"#7201a8\"],[0.3333333333333333,\"#9c179e\"],[0.4444444444444444,\"#bd3786\"],[0.5555555555555556,\"#d8576b\"],[0.6666666666666666,\"#ed7953\"],[0.7777777777777778,\"#fb9f3a\"],[0.8888888888888888,\"#fdca26\"],[1.0,\"#f0f921\"]]}],\"surface\":[{\"type\":\"surface\",\"colorbar\":{\"outlinewidth\":0,\"ticks\":\"\"},\"colorscale\":[[0.0,\"#0d0887\"],[0.1111111111111111,\"#46039f\"],[0.2222222222222222,\"#7201a8\"],[0.3333333333333333,\"#9c179e\"],[0.4444444444444444,\"#bd3786\"],[0.5555555555555556,\"#d8576b\"],[0.6666666666666666,\"#ed7953\"],[0.7777777777777778,\"#fb9f3a\"],[0.8888888888888888,\"#fdca26\"],[1.0,\"#f0f921\"]]}],\"mesh3d\":[{\"type\":\"mesh3d\",\"colorbar\":{\"outlinewidth\":0,\"ticks\":\"\"}}],\"scatter\":[{\"fillpattern\":{\"fillmode\":\"overlay\",\"size\":10,\"solidity\":0.2},\"type\":\"scatter\"}],\"parcoords\":[{\"type\":\"parcoords\",\"line\":{\"colorbar\":{\"outlinewidth\":0,\"ticks\":\"\"}}}],\"scatterpolargl\":[{\"type\":\"scatterpolargl\",\"marker\":{\"colorbar\":{\"outlinewidth\":0,\"ticks\":\"\"}}}],\"bar\":[{\"error_x\":{\"color\":\"#2a3f5f\"},\"error_y\":{\"color\":\"#2a3f5f\"},\"marker\":{\"line\":{\"color\":\"#E5ECF6\",\"width\":0.5},\"pattern\":{\"fillmode\":\"overlay\",\"size\":10,\"solidity\":0.2}},\"type\":\"bar\"}],\"scattergeo\":[{\"type\":\"scattergeo\",\"marker\":{\"colorbar\":{\"outlinewidth\":0,\"ticks\":\"\"}}}],\"scatterpolar\":[{\"type\":\"scatterpolar\",\"marker\":{\"colorbar\":{\"outlinewidth\":0,\"ticks\":\"\"}}}],\"histogram\":[{\"marker\":{\"pattern\":{\"fillmode\":\"overlay\",\"size\":10,\"solidity\":0.2}},\"type\":\"histogram\"}],\"scattergl\":[{\"type\":\"scattergl\",\"marker\":{\"colorbar\":{\"outlinewidth\":0,\"ticks\":\"\"}}}],\"scatter3d\":[{\"type\":\"scatter3d\",\"line\":{\"colorbar\":{\"outlinewidth\":0,\"ticks\":\"\"}},\"marker\":{\"colorbar\":{\"outlinewidth\":0,\"ticks\":\"\"}}}],\"scattermapbox\":[{\"type\":\"scattermapbox\",\"marker\":{\"colorbar\":{\"outlinewidth\":0,\"ticks\":\"\"}}}],\"scatterternary\":[{\"type\":\"scatterternary\",\"marker\":{\"colorbar\":{\"outlinewidth\":0,\"ticks\":\"\"}}}],\"scattercarpet\":[{\"type\":\"scattercarpet\",\"marker\":{\"colorbar\":{\"outlinewidth\":0,\"ticks\":\"\"}}}],\"carpet\":[{\"aaxis\":{\"endlinecolor\":\"#2a3f5f\",\"gridcolor\":\"white\",\"linecolor\":\"white\",\"minorgridcolor\":\"white\",\"startlinecolor\":\"#2a3f5f\"},\"baxis\":{\"endlinecolor\":\"#2a3f5f\",\"gridcolor\":\"white\",\"linecolor\":\"white\",\"minorgridcolor\":\"white\",\"startlinecolor\":\"#2a3f5f\"},\"type\":\"carpet\"}],\"table\":[{\"cells\":{\"fill\":{\"color\":\"#EBF0F8\"},\"line\":{\"color\":\"white\"}},\"header\":{\"fill\":{\"color\":\"#C8D4E3\"},\"line\":{\"color\":\"white\"}},\"type\":\"table\"}],\"barpolar\":[{\"marker\":{\"line\":{\"color\":\"#E5ECF6\",\"width\":0.5},\"pattern\":{\"fillmode\":\"overlay\",\"size\":10,\"solidity\":0.2}},\"type\":\"barpolar\"}],\"pie\":[{\"automargin\":true,\"type\":\"pie\"}]},\"layout\":{\"autotypenumbers\":\"strict\",\"colorway\":[\"#636efa\",\"#EF553B\",\"#00cc96\",\"#ab63fa\",\"#FFA15A\",\"#19d3f3\",\"#FF6692\",\"#B6E880\",\"#FF97FF\",\"#FECB52\"],\"font\":{\"color\":\"#2a3f5f\"},\"hovermode\":\"closest\",\"hoverlabel\":{\"align\":\"left\"},\"paper_bgcolor\":\"white\",\"plot_bgcolor\":\"#E5ECF6\",\"polar\":{\"bgcolor\":\"#E5ECF6\",\"angularaxis\":{\"gridcolor\":\"white\",\"linecolor\":\"white\",\"ticks\":\"\"},\"radialaxis\":{\"gridcolor\":\"white\",\"linecolor\":\"white\",\"ticks\":\"\"}},\"ternary\":{\"bgcolor\":\"#E5ECF6\",\"aaxis\":{\"gridcolor\":\"white\",\"linecolor\":\"white\",\"ticks\":\"\"},\"baxis\":{\"gridcolor\":\"white\",\"linecolor\":\"white\",\"ticks\":\"\"},\"caxis\":{\"gridcolor\":\"white\",\"linecolor\":\"white\",\"ticks\":\"\"}},\"coloraxis\":{\"colorbar\":{\"outlinewidth\":0,\"ticks\":\"\"}},\"colorscale\":{\"sequential\":[[0.0,\"#0d0887\"],[0.1111111111111111,\"#46039f\"],[0.2222222222222222,\"#7201a8\"],[0.3333333333333333,\"#9c179e\"],[0.4444444444444444,\"#bd3786\"],[0.5555555555555556,\"#d8576b\"],[0.6666666666666666,\"#ed7953\"],[0.7777777777777778,\"#fb9f3a\"],[0.8888888888888888,\"#fdca26\"],[1.0,\"#f0f921\"]],\"sequentialminus\":[[0.0,\"#0d0887\"],[0.1111111111111111,\"#46039f\"],[0.2222222222222222,\"#7201a8\"],[0.3333333333333333,\"#9c179e\"],[0.4444444444444444,\"#bd3786\"],[0.5555555555555556,\"#d8576b\"],[0.6666666666666666,\"#ed7953\"],[0.7777777777777778,\"#fb9f3a\"],[0.8888888888888888,\"#fdca26\"],[1.0,\"#f0f921\"]],\"diverging\":[[0,\"#8e0152\"],[0.1,\"#c51b7d\"],[0.2,\"#de77ae\"],[0.3,\"#f1b6da\"],[0.4,\"#fde0ef\"],[0.5,\"#f7f7f7\"],[0.6,\"#e6f5d0\"],[0.7,\"#b8e186\"],[0.8,\"#7fbc41\"],[0.9,\"#4d9221\"],[1,\"#276419\"]]},\"xaxis\":{\"gridcolor\":\"white\",\"linecolor\":\"white\",\"ticks\":\"\",\"title\":{\"standoff\":15},\"zerolinecolor\":\"white\",\"automargin\":true,\"zerolinewidth\":2},\"yaxis\":{\"gridcolor\":\"white\",\"linecolor\":\"white\",\"ticks\":\"\",\"title\":{\"standoff\":15},\"zerolinecolor\":\"white\",\"automargin\":true,\"zerolinewidth\":2},\"scene\":{\"xaxis\":{\"backgroundcolor\":\"#E5ECF6\",\"gridcolor\":\"white\",\"linecolor\":\"white\",\"showbackground\":true,\"ticks\":\"\",\"zerolinecolor\":\"white\",\"gridwidth\":2},\"yaxis\":{\"backgroundcolor\":\"#E5ECF6\",\"gridcolor\":\"white\",\"linecolor\":\"white\",\"showbackground\":true,\"ticks\":\"\",\"zerolinecolor\":\"white\",\"gridwidth\":2},\"zaxis\":{\"backgroundcolor\":\"#E5ECF6\",\"gridcolor\":\"white\",\"linecolor\":\"white\",\"showbackground\":true,\"ticks\":\"\",\"zerolinecolor\":\"white\",\"gridwidth\":2}},\"shapedefaults\":{\"line\":{\"color\":\"#2a3f5f\"}},\"annotationdefaults\":{\"arrowcolor\":\"#2a3f5f\",\"arrowhead\":0,\"arrowwidth\":1},\"geo\":{\"bgcolor\":\"white\",\"landcolor\":\"#E5ECF6\",\"subunitcolor\":\"white\",\"showland\":true,\"showlakes\":true,\"lakecolor\":\"white\"},\"title\":{\"x\":0.05},\"mapbox\":{\"style\":\"light\"}}},\"xaxis\":{\"anchor\":\"y\",\"domain\":[0.0,1.0],\"title\":{\"text\":\"epoch\"}},\"yaxis\":{\"anchor\":\"x\",\"domain\":[0.0,1.0],\"title\":{\"text\":\"loss\"}},\"legend\":{\"title\":{\"text\":\"neurons\"},\"tracegroupgap\":0},\"margin\":{\"t\":60}},                        {\"responsive\": true}                    )                };                            </script>        </div>"
      ],
      "text/plain": [
       "Figure({\n",
       "    'data': [{'hovertemplate': 'neurons=512<br>epoch=%{x}<br>loss=%{y}<extra></extra>',\n",
       "              'legendgroup': '512',\n",
       "              'line': {'color': '#636efa', 'dash': 'solid'},\n",
       "              'marker': {'symbol': 'circle'},\n",
       "              'mode': 'lines',\n",
       "              'name': '512',\n",
       "              'orientation': 'v',\n",
       "              'showlegend': True,\n",
       "              'type': 'scatter',\n",
       "              'x': array([ 1,  2,  3,  4,  5,  6,  7,  8,  9, 10, 11, 12, 13, 14, 15, 16, 17, 18,\n",
       "                          19, 20, 21, 22, 23, 24, 25, 26, 27, 28, 29, 30, 31, 32, 33, 34, 35, 36,\n",
       "                          37, 38, 39, 40, 41, 42, 43, 44, 45, 46, 47, 48, 49, 50, 51, 52, 53, 54,\n",
       "                          55, 56, 57, 58, 59, 60, 61, 62, 63, 64, 65, 66, 67, 68, 69, 70, 71, 72,\n",
       "                          73, 74, 75, 76, 77, 78, 79, 80, 81, 82, 83, 84, 85, 86, 87, 88, 89],\n",
       "                         dtype=int64),\n",
       "              'xaxis': 'x',\n",
       "              'y': array([23.783425, 20.167539, 18.852767, 17.064115, 16.654944, 15.858802,\n",
       "                          15.3632  , 14.68655 , 14.347258, 13.813209, 13.709528, 12.915951,\n",
       "                          12.975122, 12.788815, 12.37532 , 12.330474, 12.172176, 12.010336,\n",
       "                          11.823643, 11.593523, 11.356499, 11.221097, 11.13882 , 10.925245,\n",
       "                          10.860186, 10.793904, 10.760766, 10.333906, 10.343447, 10.455084,\n",
       "                           9.995984, 10.192276,  9.982348,  9.805223,  9.885065,  9.827016,\n",
       "                           9.716947,  9.855116,  9.776479,  9.650081,  9.783333,  9.267548,\n",
       "                           9.480398,  9.413272,  9.254381,  9.396861,  9.207203,  9.329512,\n",
       "                           9.144791,  9.083245,  9.178663,  9.081236,  9.063048,  9.024331,\n",
       "                           8.778111,  8.89032 ,  8.791782,  8.829436,  8.652894,  8.733098,\n",
       "                           8.606595,  8.753974,  8.462466,  8.544605,  8.406998,  8.502286,\n",
       "                           8.40603 ,  8.396153,  8.294528,  8.224432,  8.274149,  8.229725,\n",
       "                           8.283707,  8.191745,  8.134918,  8.140822,  8.085443,  8.202818,\n",
       "                           7.969366,  7.91703 ,  8.043338,  8.109921,  7.865689,  7.803372,\n",
       "                           7.868381,  7.958071,  7.850188,  7.836054,  7.701492]),\n",
       "              'yaxis': 'y'},\n",
       "             {'hovertemplate': 'neurons=1024<br>epoch=%{x}<br>loss=%{y}<extra></extra>',\n",
       "              'legendgroup': '1024',\n",
       "              'line': {'color': '#EF553B', 'dash': 'solid'},\n",
       "              'marker': {'symbol': 'circle'},\n",
       "              'mode': 'lines',\n",
       "              'name': '1024',\n",
       "              'orientation': 'v',\n",
       "              'showlegend': True,\n",
       "              'type': 'scatter',\n",
       "              'x': array([ 1,  2,  3,  4,  5,  6,  7,  8,  9, 10, 11, 12, 13, 14, 15, 16, 17, 18,\n",
       "                          19, 20, 21, 22, 23, 24, 25, 26, 27, 28, 29, 30, 31, 32, 33, 34, 35, 36,\n",
       "                          37, 38, 39, 40, 41, 42, 43, 44, 45, 46, 47, 48, 49, 50, 51, 52, 53, 54,\n",
       "                          55, 56, 57, 58, 59, 60, 61, 62, 63, 64, 65, 66, 67, 68, 69, 70, 71, 72],\n",
       "                         dtype=int64),\n",
       "              'xaxis': 'x',\n",
       "              'y': array([20.193125, 17.167925, 14.622478, 13.678089, 12.856173, 12.012713,\n",
       "                          11.453373, 10.725182, 10.440386, 10.110824,  9.967384,  9.571161,\n",
       "                           9.130512,  8.882   ,  8.746213,  8.276765,  8.342764,  8.071489,\n",
       "                           8.082895,  8.027419,  7.886644,  7.722329,  7.649406,  7.380814,\n",
       "                           7.225907,  7.17391 ,  7.113135,  7.17421 ,  6.99592 ,  6.915335,\n",
       "                           6.827101,  6.779666,  6.701928,  6.537218,  6.725944,  6.474339,\n",
       "                           6.431068,  6.323798,  6.361614,  6.339633,  6.307062,  6.395687,\n",
       "                           6.036502,  6.073602,  5.996829,  5.985963,  6.023671,  6.012807,\n",
       "                           5.978548,  5.871403,  5.905268,  5.805619,  5.894769,  5.707834,\n",
       "                           5.667801,  5.980005,  5.65342 ,  5.619494,  5.6315  ,  5.554116,\n",
       "                           5.638435,  5.460507,  5.53876 ,  5.421469,  5.307665,  5.417373,\n",
       "                           5.289029,  5.355848,  5.330258,  5.351776,  5.308413,  5.25205 ]),\n",
       "              'yaxis': 'y'},\n",
       "             {'hovertemplate': 'neurons=2048<br>epoch=%{x}<br>loss=%{y}<extra></extra>',\n",
       "              'legendgroup': '2048',\n",
       "              'line': {'color': '#00cc96', 'dash': 'solid'},\n",
       "              'marker': {'symbol': 'circle'},\n",
       "              'mode': 'lines',\n",
       "              'name': '2048',\n",
       "              'orientation': 'v',\n",
       "              'showlegend': True,\n",
       "              'type': 'scatter',\n",
       "              'x': array([ 1,  2,  3,  4,  5,  6,  7,  8,  9, 10, 11, 12, 13, 14, 15, 16, 17, 18,\n",
       "                          19, 20, 21, 22, 23, 24, 25, 26, 27, 28, 29, 30, 31, 32, 33, 34, 35, 36,\n",
       "                          37, 38, 39, 40, 41, 42, 43, 44, 45, 46, 47, 48, 49, 50, 51, 52, 53, 54,\n",
       "                          55, 56, 57, 58, 59, 60, 61, 62, 63, 64, 65, 66, 67, 68], dtype=int64),\n",
       "              'xaxis': 'x',\n",
       "              'y': array([16.854636, 12.296888, 10.318604,  9.140342,  8.443434,  7.970989,\n",
       "                           7.474433,  6.852527,  6.586839,  6.273318,  6.017287,  6.075239,\n",
       "                           5.71783 ,  5.427303,  5.486568,  5.304453,  5.299393,  5.032211,\n",
       "                           4.952105,  4.890904,  4.777453,  4.801832,  4.573026,  4.572805,\n",
       "                           4.402893,  4.322974,  4.231112,  4.330196,  4.183196,  4.258969,\n",
       "                           4.031811,  4.245076,  3.931427,  3.938925,  3.946429,  3.865715,\n",
       "                           3.827   ,  3.827278,  3.758606,  3.782591,  3.789401,  3.565072,\n",
       "                           3.639775,  3.735604,  3.558895,  3.541508,  3.857125,  3.554381,\n",
       "                           3.457246,  3.554555,  3.679685,  3.430826,  3.564437,  3.40148 ,\n",
       "                           3.28018 ,  3.293831,  3.386196,  3.261238,  3.196865,  3.20223 ,\n",
       "                           3.2657  ,  3.330661,  3.112627,  3.306042,  3.179337,  3.310218,\n",
       "                           3.217802,  3.163992]),\n",
       "              'yaxis': 'y'},\n",
       "             {'hovertemplate': 'neurons=8192<br>epoch=%{x}<br>loss=%{y}<extra></extra>',\n",
       "              'legendgroup': '8192',\n",
       "              'line': {'color': '#ab63fa', 'dash': 'solid'},\n",
       "              'marker': {'symbol': 'circle'},\n",
       "              'mode': 'lines',\n",
       "              'name': '8192',\n",
       "              'orientation': 'v',\n",
       "              'showlegend': True,\n",
       "              'type': 'scatter',\n",
       "              'x': array([ 1,  2,  3,  4,  5,  6,  7,  8,  9, 10, 11, 12, 13, 14, 15, 16, 17, 18,\n",
       "                          19, 20, 21, 22, 23, 24, 25, 26, 27, 28, 29, 30, 31, 32], dtype=int64),\n",
       "              'xaxis': 'x',\n",
       "              'y': array([6.152149, 4.632728, 3.94957 , 3.718403, 3.291736, 3.2019  , 3.050076,\n",
       "                          3.114181, 2.747938, 3.133096, 2.635942, 2.618726, 3.101763, 2.559672,\n",
       "                          2.468196, 2.474669, 2.43872 , 2.581275, 2.71397 , 2.454667, 2.380145,\n",
       "                          2.486102, 2.179186, 2.398154, 2.237308, 2.281912, 2.155182, 2.216761,\n",
       "                          2.303366, 2.502219, 2.339846, 2.189368]),\n",
       "              'yaxis': 'y'}],\n",
       "    'layout': {'legend': {'title': {'text': 'neurons'}, 'tracegroupgap': 0},\n",
       "               'margin': {'t': 60},\n",
       "               'template': '...',\n",
       "               'xaxis': {'anchor': 'y', 'domain': [0.0, 1.0], 'title': {'text': 'epoch'}},\n",
       "               'yaxis': {'anchor': 'x', 'domain': [0.0, 1.0], 'title': {'text': 'loss'}}}\n",
       "})"
      ]
     },
     "execution_count": 3,
     "metadata": {},
     "output_type": "execute_result"
    }
   ],
   "source": [
    "import plotly.express as px\n",
    "import numpy as np\n",
    "\n",
    "\n",
    "\n",
    "fig = px.line(\n",
    "    data,\n",
    "    x=\"epoch\",\n",
    "    y=\"loss\",\n",
    "    color=\"neurons\",\n",
    ")\n",
    "fig"
   ]
  },
  {
   "cell_type": "code",
   "execution_count": 76,
   "metadata": {},
   "outputs": [
    {
     "data": {
      "text/plain": [
       "array([1732,  790, 1719,  136,  781,  702,  114,  285,  689, 1431],\n",
       "      dtype=int64)"
      ]
     },
     "execution_count": 76,
     "metadata": {},
     "output_type": "execute_result"
    }
   ],
   "source": [
    "import numpy as np\n",
    "\n",
    "np.argsort(a[0])[-10:]"
   ]
  },
  {
   "cell_type": "code",
   "execution_count": 82,
   "metadata": {},
   "outputs": [
    {
     "data": {
      "text/html": [
       "<div>\n",
       "<style scoped>\n",
       "    .dataframe tbody tr th:only-of-type {\n",
       "        vertical-align: middle;\n",
       "    }\n",
       "\n",
       "    .dataframe tbody tr th {\n",
       "        vertical-align: top;\n",
       "    }\n",
       "\n",
       "    .dataframe thead th {\n",
       "        text-align: right;\n",
       "    }\n",
       "</style>\n",
       "<table border=\"1\" class=\"dataframe\">\n",
       "  <thead>\n",
       "    <tr style=\"text-align: right;\">\n",
       "      <th></th>\n",
       "      <th>film</th>\n",
       "      <th>year</th>\n",
       "      <th>title</th>\n",
       "      <th>new_id</th>\n",
       "    </tr>\n",
       "  </thead>\n",
       "  <tbody>\n",
       "    <tr>\n",
       "      <th>781</th>\n",
       "      <td>6859</td>\n",
       "      <td>2003</td>\n",
       "      <td>Cheaper by the Dozen</td>\n",
       "      <td>781</td>\n",
       "    </tr>\n",
       "  </tbody>\n",
       "</table>\n",
       "</div>"
      ],
      "text/plain": [
       "     film  year                 title  new_id\n",
       "781  6859  2003  Cheaper by the Dozen     781"
      ]
     },
     "execution_count": 82,
     "metadata": {},
     "output_type": "execute_result"
    }
   ],
   "source": [
    "movies.query(\"new_id == 781\")"
   ]
  },
  {
   "cell_type": "code",
   "execution_count": 16,
   "metadata": {},
   "outputs": [
    {
     "data": {
      "text/html": [
       "<div>\n",
       "<style scoped>\n",
       "    .dataframe tbody tr th:only-of-type {\n",
       "        vertical-align: middle;\n",
       "    }\n",
       "\n",
       "    .dataframe tbody tr th {\n",
       "        vertical-align: top;\n",
       "    }\n",
       "\n",
       "    .dataframe thead th {\n",
       "        text-align: right;\n",
       "    }\n",
       "</style>\n",
       "<table border=\"1\" class=\"dataframe\">\n",
       "  <thead>\n",
       "    <tr style=\"text-align: right;\">\n",
       "      <th></th>\n",
       "      <th>film</th>\n",
       "      <th>year</th>\n",
       "      <th>title</th>\n",
       "      <th>new_id</th>\n",
       "    </tr>\n",
       "  </thead>\n",
       "  <tbody>\n",
       "    <tr>\n",
       "      <th>628</th>\n",
       "      <td>5582</td>\n",
       "      <td>1980</td>\n",
       "      <td>Star Wars: Episode V: The Empire Strikes Back</td>\n",
       "      <td>628</td>\n",
       "    </tr>\n",
       "    <tr>\n",
       "      <th>945</th>\n",
       "      <td>8292</td>\n",
       "      <td>2004</td>\n",
       "      <td>Star Wars: Clone Wars: Vol. 1</td>\n",
       "      <td>945</td>\n",
       "    </tr>\n",
       "    <tr>\n",
       "      <th>994</th>\n",
       "      <td>8687</td>\n",
       "      <td>2002</td>\n",
       "      <td>Star Wars: Episode II: Attack of the Clones</td>\n",
       "      <td>994</td>\n",
       "    </tr>\n",
       "    <tr>\n",
       "      <th>1097</th>\n",
       "      <td>9628</td>\n",
       "      <td>1983</td>\n",
       "      <td>Star Wars: Episode VI: Return of the Jedi</td>\n",
       "      <td>1097</td>\n",
       "    </tr>\n",
       "    <tr>\n",
       "      <th>1120</th>\n",
       "      <td>9886</td>\n",
       "      <td>1999</td>\n",
       "      <td>Star Wars: Episode I: The Phantom Menace</td>\n",
       "      <td>1120</td>\n",
       "    </tr>\n",
       "    <tr>\n",
       "      <th>1860</th>\n",
       "      <td>16265</td>\n",
       "      <td>1977</td>\n",
       "      <td>Star Wars: Episode IV: A New Hope</td>\n",
       "      <td>1860</td>\n",
       "    </tr>\n",
       "  </tbody>\n",
       "</table>\n",
       "</div>"
      ],
      "text/plain": [
       "       film  year                                          title  new_id\n",
       "628    5582  1980  Star Wars: Episode V: The Empire Strikes Back     628\n",
       "945    8292  2004                  Star Wars: Clone Wars: Vol. 1     945\n",
       "994    8687  2002    Star Wars: Episode II: Attack of the Clones     994\n",
       "1097   9628  1983      Star Wars: Episode VI: Return of the Jedi    1097\n",
       "1120   9886  1999       Star Wars: Episode I: The Phantom Menace    1120\n",
       "1860  16265  1977              Star Wars: Episode IV: A New Hope    1860"
      ]
     },
     "execution_count": 16,
     "metadata": {},
     "output_type": "execute_result"
    }
   ],
   "source": [
    "movies[movies[\"title\"].str.contains(\"Star Wars\")]628,945,994,1097,1120,1860"
   ]
  },
  {
   "cell_type": "code",
   "execution_count": 55,
   "metadata": {},
   "outputs": [
    {
     "data": {
      "text/html": [
       "<div>\n",
       "<style scoped>\n",
       "    .dataframe tbody tr th:only-of-type {\n",
       "        vertical-align: middle;\n",
       "    }\n",
       "\n",
       "    .dataframe tbody tr th {\n",
       "        vertical-align: top;\n",
       "    }\n",
       "\n",
       "    .dataframe thead th {\n",
       "        text-align: right;\n",
       "    }\n",
       "</style>\n",
       "<table border=\"1\" class=\"dataframe\">\n",
       "  <thead>\n",
       "    <tr style=\"text-align: right;\">\n",
       "      <th></th>\n",
       "      <th>film</th>\n",
       "      <th>year</th>\n",
       "      <th>title</th>\n",
       "      <th>new_id</th>\n",
       "    </tr>\n",
       "  </thead>\n",
       "  <tbody>\n",
       "    <tr>\n",
       "      <th>1264</th>\n",
       "      <td>11149</td>\n",
       "      <td>2002</td>\n",
       "      <td>Maid in Manhattan</td>\n",
       "      <td>1264</td>\n",
       "    </tr>\n",
       "  </tbody>\n",
       "</table>\n",
       "</div>"
      ],
      "text/plain": [
       "       film  year              title  new_id\n",
       "1264  11149  2002  Maid in Manhattan    1264"
      ]
     },
     "execution_count": 55,
     "metadata": {},
     "output_type": "execute_result"
    }
   ],
   "source": [
    "movies.sample()"
   ]
  },
  {
   "cell_type": "code",
   "execution_count": null,
   "metadata": {},
   "outputs": [],
   "source": []
  }
 ],
 "metadata": {
  "kernelspec": {
   "display_name": "projekt",
   "language": "python",
   "name": "python3"
  },
  "language_info": {
   "codemirror_mode": {
    "name": "ipython",
    "version": 3
   },
   "file_extension": ".py",
   "mimetype": "text/x-python",
   "name": "python",
   "nbconvert_exporter": "python",
   "pygments_lexer": "ipython3",
   "version": "3.10.4"
  },
  "orig_nbformat": 4
 },
 "nbformat": 4,
 "nbformat_minor": 2
}
