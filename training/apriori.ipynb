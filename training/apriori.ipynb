{
 "cells": [
  {
   "cell_type": "code",
   "execution_count": 1,
   "metadata": {},
   "outputs": [
    {
     "name": "stdout",
     "output_type": "stream",
     "text": [
      "Cleaning data...\n",
      "Data cleaned!\n"
     ]
    }
   ],
   "source": [
    "from src import pipeline\n",
    "\n",
    "user_data, movies = pipeline.clean_data()\n",
    "user_data = user_data.to_pandas()"
   ]
  },
  {
   "cell_type": "code",
   "execution_count": 2,
   "metadata": {},
   "outputs": [
    {
     "name": "stderr",
     "output_type": "stream",
     "text": [
      "100%|██████████| 471280/471280 [00:47<00:00, 9973.18it/s] \n"
     ]
    }
   ],
   "source": [
    "import pandas as pd\n",
    "from tqdm import tqdm\n",
    "\n",
    "def row_to_apriori_list(row: pd.Series) -> list[str]:\n",
    "    result = []\n",
    "    for film_id, relative_rating in zip(row[\"film\"], row[\"relative_rating\"]):\n",
    "        if abs(relative_rating) > 0.5:\n",
    "            result.append(str(film_id) if relative_rating > 0 else f\"-{film_id}\")\n",
    "    return tuple(result)\n",
    "\n",
    "tqdm.pandas()\n",
    "\n",
    "user_data[\"apriori\"] = user_data.progress_apply(row_to_apriori_list, axis=1)"
   ]
  },
  {
   "cell_type": "code",
   "execution_count": 3,
   "metadata": {},
   "outputs": [],
   "source": [
    "from efficient_apriori import apriori\n",
    "user_data = user_data[(user_data[\"apriori\"].str.len() > 1) & (user_data[\"apriori\"].str.len() < 250)][\"apriori\"].tolist()"
   ]
  },
  {
   "cell_type": "code",
   "execution_count": null,
   "metadata": {},
   "outputs": [],
   "source": [
    "itemsets, rules = apriori(user_data, min_support=0.005, min_confidence=0.25)"
   ]
  },
  {
   "cell_type": "code",
   "execution_count": null,
   "metadata": {},
   "outputs": [],
   "source": []
  }
 ],
 "metadata": {
  "kernelspec": {
   "display_name": "projekt",
   "language": "python",
   "name": "python3"
  },
  "language_info": {
   "codemirror_mode": {
    "name": "ipython",
    "version": 3
   },
   "file_extension": ".py",
   "mimetype": "text/x-python",
   "name": "python",
   "nbconvert_exporter": "python",
   "pygments_lexer": "ipython3",
   "version": "3.10.4"
  },
  "orig_nbformat": 4
 },
 "nbformat": 4,
 "nbformat_minor": 2
}
