{
 "cells": [
  {
   "attachments": {},
   "cell_type": "markdown",
   "metadata": {},
   "source": [
    "---\n",
    "# Setup"
   ]
  },
  {
   "cell_type": "code",
   "execution_count": 1,
   "metadata": {},
   "outputs": [
    {
     "name": "stderr",
     "output_type": "stream",
     "text": [
      "c:\\Users\\julia\\AppData\\Local\\Programs\\Python\\Python310\\lib\\site-packages\\sklearn\\feature_extraction\\text.py:528: UserWarning: The parameter 'token_pattern' will not be used since 'tokenizer' is not None'\n",
      "  warnings.warn(\n",
      "c:\\Users\\julia\\AppData\\Local\\Programs\\Python\\Python310\\lib\\site-packages\\sklearn\\cluster\\_kmeans.py:870: FutureWarning: The default value of `n_init` will change from 10 to 'auto' in 1.4. Set the value of `n_init` explicitly to suppress the warning\n",
      "  warnings.warn(\n"
     ]
    },
    {
     "name": "stdout",
     "output_type": "stream",
     "text": [
      "[9575, 16265, 9628, 5486, 10704, 12095, 10126, 9159, 8687, 276, 2003, 11996, 14247, 12365, 13987, 17742, 10, 9462, 1246, 2584, 7354, 14503, 13536, 8014, 4383, 895, 9886, 16279, 11430, 3205, 11284, 7952, 17064, 259, 10493, 10129, 11664, 15547, 13484, 7233, 6579, 17243, 5778, 8304, 9199, 11950, 16887, 6908, 11874, 15826, 11466, 2114, 13844, 16307, 6193, 8891, 11765, 9862, 10172, 14227, 13762, 3953, 15914, 6810, 5583, 9235, 3873, 9204, 7353, 9582, 16582, 2174, 15962, 6704, 15308, 15674, 10729, 9768, 12801, 11929, 4695, 1175, 8088, 14608, 9727, 3687, 12333, 12493, 14110, 5137, 15887, 6902, 11183, 12293, 14419, 16759, 16613, 2230, 6958, 15472, 3943, 8487, 9758, 13338, 1922, 8666, 702, 6328, 6362, 12745, 13489, 5666, 9442, 13288, 13607, 13954, 12582, 8849, 7080, 16041, 4231, 1700, 10038, 11134, 2179, 4123, 1449, 9428, 12581, 5449, 1860, 16522, 2588, 3743, 16243, 11418, 2851, 12945, 5939, 7895, 3507, 12513, 241, 7729, 12466, 3672, 5756, 6207, 12092, 14670, 3642, 4980, 8099, 4758, 15191, 12591, 13074, 12172, 14756, 7980, 8758, 15460, 9311, 3734, 15298, 11307, 2325, 633, 16047, 15349, 13720, 15920, 17164, 12006, 1632, 4144, 8615, 10420, 7706, 15515, 5689, 632, 3375, 14848, 6670, 17287, 384, 4995, 13439, 15238, 156, 5427, 5624, 11641, 11257, 10314, 12309, 245, 14044, 6408, 14634, 6366, 4586, 3068, 7928, 10719, 16536, 6234, 11593, 17644, 17265, 13037, 3650, 1547, 8698, 13736, 5090, 614, 7820, 985, 12124, 12173, 16076, 11031, 3099, 14890, 2648, 16499, 10642, 1116, 6321, 16992, 15462, 1352, 9942, 1062, 14169, 15222, 10889, 2521, 1566, 5640, 8457, 13886, 6761, 1739, 2012, 1938, 2813, 11517, 12784, 5300, 6382, 9746, 1094, 5305, 10538, 1624, 7153, 7536, 1421, 982, 9181, 5076, 990, 11032, 12575, 3764, 4767, 9819, 7672, 13896, 9679, 9806, 4488, 1004, 16495, 12992, 9340, 11837, 3716, 2087, 10503, 2508, 15950, 12531, 7286, 6524, 9008, 13625, 10388, 3787, 95, 7184, 12115, 3155, 11123, 4041, 3367, 15099]\n",
      "Con Air\n"
     ]
    }
   ],
   "source": [
    "import polars as pl\n",
    "import pandas as pd\n",
    "import matplotlib.pyplot as plt\n",
    "import numpy as np\n",
    "from tqdm import tqdm\n",
    "from time import sleep\n",
    "import datetime\n",
    "import sqlite3\n",
    "import requests\n",
    "import json\n",
    "from JulianFinal import Cosine_Similarity\n"
   ]
  },
  {
   "cell_type": "code",
   "execution_count": 2,
   "metadata": {},
   "outputs": [
    {
     "name": "stderr",
     "output_type": "stream",
     "text": [
      "c:\\Users\\julia\\AppData\\Local\\Programs\\Python\\Python310\\lib\\site-packages\\sklearn\\feature_extraction\\text.py:528: UserWarning: The parameter 'token_pattern' will not be used since 'tokenizer' is not None'\n",
      "  warnings.warn(\n",
      "c:\\Users\\julia\\AppData\\Local\\Programs\\Python\\Python310\\lib\\site-packages\\sklearn\\cluster\\_kmeans.py:870: FutureWarning: The default value of `n_init` will change from 10 to 'auto' in 1.4. Set the value of `n_init` explicitly to suppress the warning\n",
      "  warnings.warn(\n"
     ]
    }
   ],
   "source": [
    "\n",
    "cosine_similarity = Cosine_Similarity()"
   ]
  },
  {
   "cell_type": "code",
   "execution_count": 4,
   "metadata": {},
   "outputs": [],
   "source": [
    "\n",
    "cosine_similarity.save_to_csv(0)\n",
    "cosine_similarity.save_to_csv(1)\n",
    "cosine_similarity.save_to_csv(2)"
   ]
  },
  {
   "cell_type": "code",
   "execution_count": 3,
   "metadata": {},
   "outputs": [],
   "source": [
    "# small size for testing (100.000 rows)\n",
    "db_dev_path = 'netflix_dev.db'\n",
    "db_dev_conn = 'sqlite://' + db_dev_path\n",
    "\n",
    "# full size for production (~100.000.000 rows)\n",
    "db_prod_path = 'netflix.db'\n",
    "db_prod_conn = 'sqlite://' + db_prod_path\n",
    "\n",
    "netflix_data = pl.read_database(\"SELECT * FROM netflix_data\", db_prod_conn)\n",
    "movie_titles = pl.read_database(\"SELECT * FROM movie_titles\", db_dev_conn)"
   ]
  },
  {
   "cell_type": "code",
   "execution_count": 6,
   "metadata": {},
   "outputs": [
    {
     "data": {
      "text/html": [
       "<div><style>\n",
       ".dataframe > thead > tr > th,\n",
       ".dataframe > tbody > tr > td {\n",
       "  text-align: right;\n",
       "}\n",
       "</style>\n",
       "<small>shape: (100_480_507, 4)</small><table border=\"1\" class=\"dataframe\"><thead><tr><th>film</th><th>user</th><th>rating</th><th>date</th></tr><tr><td>i64</td><td>i64</td><td>i64</td><td>str</td></tr></thead><tbody><tr><td>1</td><td>1488844</td><td>3</td><td>&quot;2005-09-06\n",
       "&quot;</td></tr><tr><td>1</td><td>822109</td><td>5</td><td>&quot;2005-05-13\n",
       "&quot;</td></tr><tr><td>1</td><td>885013</td><td>4</td><td>&quot;2005-10-19\n",
       "&quot;</td></tr><tr><td>1</td><td>30878</td><td>4</td><td>&quot;2005-12-26\n",
       "&quot;</td></tr><tr><td>1</td><td>823519</td><td>3</td><td>&quot;2004-05-03\n",
       "&quot;</td></tr><tr><td>1</td><td>893988</td><td>3</td><td>&quot;2005-11-17\n",
       "&quot;</td></tr><tr><td>1</td><td>124105</td><td>4</td><td>&quot;2004-08-05\n",
       "&quot;</td></tr><tr><td>1</td><td>1248029</td><td>3</td><td>&quot;2004-04-22\n",
       "&quot;</td></tr><tr><td>1</td><td>1842128</td><td>4</td><td>&quot;2004-05-09\n",
       "&quot;</td></tr><tr><td>1</td><td>2238063</td><td>3</td><td>&quot;2005-05-11\n",
       "&quot;</td></tr><tr><td>1</td><td>1503895</td><td>4</td><td>&quot;2005-05-19\n",
       "&quot;</td></tr><tr><td>1</td><td>2207774</td><td>5</td><td>&quot;2005-06-06\n",
       "&quot;</td></tr><tr><td>&hellip;</td><td>&hellip;</td><td>&hellip;</td><td>&hellip;</td></tr><tr><td>17770</td><td>1274035</td><td>4</td><td>&quot;2005-06-10\n",
       "&quot;</td></tr><tr><td>17770</td><td>2641559</td><td>3</td><td>&quot;2005-06-27\n",
       "&quot;</td></tr><tr><td>17770</td><td>834323</td><td>2</td><td>&quot;2005-10-04\n",
       "&quot;</td></tr><tr><td>17770</td><td>516110</td><td>5</td><td>&quot;2004-08-26\n",
       "&quot;</td></tr><tr><td>17770</td><td>365996</td><td>3</td><td>&quot;2003-11-10\n",
       "&quot;</td></tr><tr><td>17770</td><td>986348</td><td>4</td><td>&quot;2004-08-12\n",
       "&quot;</td></tr><tr><td>17770</td><td>311124</td><td>3</td><td>&quot;2005-09-29\n",
       "&quot;</td></tr><tr><td>17770</td><td>1790158</td><td>4</td><td>&quot;2005-11-01\n",
       "&quot;</td></tr><tr><td>17770</td><td>1608708</td><td>3</td><td>&quot;2005-07-19\n",
       "&quot;</td></tr><tr><td>17770</td><td>234275</td><td>1</td><td>&quot;2004-08-07\n",
       "&quot;</td></tr><tr><td>17770</td><td>255278</td><td>4</td><td>&quot;2004-05-28\n",
       "&quot;</td></tr><tr><td>17770</td><td>453585</td><td>2</td><td>&quot;2005-03-10\n",
       "&quot;</td></tr></tbody></table></div>"
      ],
      "text/plain": [
       "shape: (100_480_507, 4)\n",
       "┌───────┬─────────┬────────┬────────────┐\n",
       "│ film  ┆ user    ┆ rating ┆ date       │\n",
       "│ ---   ┆ ---     ┆ ---    ┆ ---        │\n",
       "│ i64   ┆ i64     ┆ i64    ┆ str        │\n",
       "╞═══════╪═════════╪════════╪════════════╡\n",
       "│ 1     ┆ 1488844 ┆ 3      ┆ 2005-09-06 │\n",
       "│       ┆         ┆        ┆            │\n",
       "│ 1     ┆ 822109  ┆ 5      ┆ 2005-05-13 │\n",
       "│       ┆         ┆        ┆            │\n",
       "│ 1     ┆ 885013  ┆ 4      ┆ 2005-10-19 │\n",
       "│       ┆         ┆        ┆            │\n",
       "│ 1     ┆ 30878   ┆ 4      ┆ 2005-12-26 │\n",
       "│       ┆         ┆        ┆            │\n",
       "│ …     ┆ …       ┆ …      ┆ …          │\n",
       "│ 17770 ┆ 1608708 ┆ 3      ┆ 2005-07-19 │\n",
       "│       ┆         ┆        ┆            │\n",
       "│ 17770 ┆ 234275  ┆ 1      ┆ 2004-08-07 │\n",
       "│       ┆         ┆        ┆            │\n",
       "│ 17770 ┆ 255278  ┆ 4      ┆ 2004-05-28 │\n",
       "│       ┆         ┆        ┆            │\n",
       "│ 17770 ┆ 453585  ┆ 2      ┆ 2005-03-10 │\n",
       "│       ┆         ┆        ┆            │\n",
       "└───────┴─────────┴────────┴────────────┘"
      ]
     },
     "execution_count": 6,
     "metadata": {},
     "output_type": "execute_result"
    }
   ],
   "source": [
    "netflix_data"
   ]
  },
  {
   "attachments": {},
   "cell_type": "markdown",
   "metadata": {},
   "source": [
    "---\n",
    "# Functions\n",
    "\n",
    "Implement your recommendation engine logic in `predict_rating()`. Then, call\n",
    "`full_evaluation()` to evaluate your engine.\n",
    "\n",
    "| Function | Description |\n",
    "| --- | --- |\n",
    "| `get_user_ratings(user_id)` | Returns a DataFrame of all ratings for a given user. |\n",
    "| `ratings_to_vector(ratings, placeholder=-1)` | Transforms a DataFrame of ratings into a vector. |\n",
    "| `mask_ratings(ratings, split)` | Mask ratings in a user's rating DataFrame. Works like a training-/test-set split |\n",
    "| `predict_rating(user_id, movie_id)` | Predict how a user would rate a movie. **IMPLEMENT YOUR ENGINE HERE**|\n",
    "| `rate_all(user_id)` | Predict ratings of all movies for a given user |\n",
    "| `get_top_rated(ratings, split)` | Get the top rated movies for a user. |\n",
    "| `evaluate(masked_ratings, top_ratings)` | Evaluate the accuracy of the predictions. |\n",
    "| `full_evaluation(user_id, split_mask, split_top)` | Like evaluate() but contains all the steps. |"
   ]
  },
  {
   "cell_type": "code",
   "execution_count": 4,
   "metadata": {},
   "outputs": [],
   "source": [
    "# get all ratings for a specific user\n",
    "def get_user_ratings(user_id):\n",
    "    return netflix_data.filter(pl.col(\"user\") == user_id)"
   ]
  },
  {
   "cell_type": "code",
   "execution_count": 5,
   "metadata": {},
   "outputs": [],
   "source": [
    "# get all ratings for a specific user with rating > 3\n",
    "def get_highly_rated_user_ratings(user_id):\n",
    "    return netflix_data.filter((pl.col(\"user\") == user_id) & (pl.col(\"rating\") >= 5))\n"
   ]
  },
  {
   "cell_type": "code",
   "execution_count": 6,
   "metadata": {},
   "outputs": [],
   "source": [
    "# ratings to vector\n",
    "def ratings_to_vector(ratings, placeholder=-1):\n",
    "    \"\"\"\n",
    "    Convert a DataFrame of ratings to a vector of ratings\n",
    "\n",
    "    Args:\n",
    "        ratings (DataFrame): DataFrame of ratings\n",
    "        placeholder (int, optional): Placeholder value for missing ratings. Defaults to -1.\n",
    "\n",
    "    Returns:\n",
    "        list[float]: List of ratings\n",
    "    \"\"\"\n",
    "\n",
    "    ratings_list = [placeholder] * len(movie_titles)\n",
    "\n",
    "    # get the ratings as a numpy array\n",
    "    for current_rating in ratings.rows():\n",
    "\n",
    "        film = (current_rating[0]) - 1   # film id starts at 1, but list index starts at 0, so subtract 1\n",
    "        rating = current_rating[2]\n",
    "        ratings_list[film] = rating\n",
    "\n",
    "    return ratings_list\n"
   ]
  },
  {
   "cell_type": "code",
   "execution_count": 7,
   "metadata": {},
   "outputs": [],
   "source": [
    "# split ratings into masked and unmasked ratings based on a date\n",
    "# all ratings before the date are unmasked, all ratings after the date are masked\n",
    "def mask_ratings(ratings, split_date):\n",
    "    \"\"\"Mask ratings in a user's rating DataFrame\n",
    "\n",
    "    Args:\n",
    "        ratings (pl.DataFrame): A User's ratings\n",
    "        split_date (datetime.datetime): Date to split ratings on\n",
    "\n",
    "    Returns:\n",
    "        [pl.Dataframe, pl.Dataframe]: Masked ratings, unmasked ratings\n",
    "    \"\"\"\n",
    "\n",
    "    unmasked_ratings = []\n",
    "    masked_ratings = []\n",
    "\n",
    "    for rating in ratings.rows():\n",
    "\n",
    "        # get the ratings date as datetime\n",
    "        rating_date = datetime.datetime.strptime(rating[3][:-1], \"%Y-%m-%d\")\n",
    "\n",
    "        # if the rating is before the split date, mask it\n",
    "        if rating_date > split_date:\n",
    "            unmasked_ratings.append(rating)\n",
    "        else:\n",
    "            masked_ratings.append(rating)\n",
    "\n",
    "    # convert the lists to DataFrames\n",
    "    unmasked_ratings = pl.DataFrame(unmasked_ratings, schema=ratings.columns)\n",
    "    masked_ratings = pl.DataFrame(masked_ratings, schema=ratings.columns)\n",
    "\n",
    "    #keep only masked_ratings with a score of 4 or higher\n",
    "    masked_ratings = masked_ratings.filter(pl.col(\"rating\") >= 4)\n",
    "\n",
    "    return masked_ratings, unmasked_ratings"
   ]
  },
  {
   "cell_type": "code",
   "execution_count": 8,
   "metadata": {},
   "outputs": [],
   "source": [
    "# sort sums by score\n",
    "def sort_sums(sums):\n",
    "\n",
    "    # convert the sums to a list of tuples\n",
    "    sums_list = []\n",
    "    for i in range(len(sums)):\n",
    "        sums_list.append((i, sums[i]))\n",
    "\n",
    "    # sort the list\n",
    "    sums_list.sort(key=lambda x: x[1], reverse=True)\n",
    "\n",
    "    return sums_list"
   ]
  },
  {
   "cell_type": "code",
   "execution_count": 9,
   "metadata": {},
   "outputs": [],
   "source": [
    "# predict how a user would rate a movie\n",
    "import random\n",
    "\n",
    "\n",
    "def predict_rating(user_id, movie_id):\n",
    "    \"\"\"Predict how a user would rate a movie\n",
    "    \n",
    "    Args:\n",
    "        user_id (int): User ID\n",
    "        movie_id (int): Movie ID\n",
    "\n",
    "    Returns:\n",
    "        float: Predicted rating\n",
    "    \"\"\"\n",
    "\n",
    "    ### PUT YOUR EVALUATION CODE HERE ###\n",
    "\n",
    "    return random.uniform(1, 5)"
   ]
  },
  {
   "cell_type": "code",
   "execution_count": 10,
   "metadata": {},
   "outputs": [],
   "source": [
    "def get_cosine_similarities(movie_id):\n",
    "    \"\"\"Ermittelt die Kosinus-Ähnlichkeiten für alle Filme.\n",
    "    \n",
    "    Args:\n",
    "        movie_id (int): Die Film-ID, für die die Kosinus-Ähnlichkeiten berechnet werden sollen.\n",
    "        \n",
    "    Returns:\n",
    "        pl.Series: Eine Serie, die die Kosinus-Ähnlichkeiten für alle Filme enthält.\n",
    "    \"\"\"\n",
    "    \n",
    "    scores = []\n",
    "    \n",
    "    # Durchläuft alle Filme in der movie_titles-Liste\n",
    "    for movie in movie_titles[\"film\"]:\n",
    "        \n",
    "        # Berechnet die Kosinus-Ähnlichkeit für den aktuellen Film\n",
    "        score = cosine_similarity.get_cosine_sim_scores(movie)\n",
    "        \n",
    "        # Fügt den Ähnlichkeitsscore der scores-Liste hinzu\n",
    "        scores.append(score)\n",
    "        \n",
    "        # Setzt den Ähnlichkeitsscore auf 0, wenn der aktuelle Film der Ziel-Film ist\n",
    "        if movie == movie_id:\n",
    "            score = 0\n",
    "\n",
    "    # Wandelt die scores-Liste in eine Pandas-Serie um\n",
    "    scores = pl.Series(\"scores\", scores)\n",
    "    \n",
    "    return scores\n",
    "\n"
   ]
  },
  {
   "cell_type": "code",
   "execution_count": 11,
   "metadata": {},
   "outputs": [],
   "source": [
    "def sum_cosine_similarities(unmasked_ratings):\n",
    "    \"\"\"Berechnet die Summe der Kosinus-Ähnlichkeiten für nicht maskierte Bewertungen.\n",
    "    \n",
    "    Args:\n",
    "        unmasked_ratings (DataFrame): Die Bewertungen, die nicht maskiert sind.\n",
    "        \n",
    "    Returns:\n",
    "        DataFrame: Ein DataFrame, der die Summe der Kosinus-Ähnlichkeiten für jede Film-ID enthält.\n",
    "    \"\"\"\n",
    "    \n",
    "    # Hole die user_id aus unmasked_ratings\n",
    "    user_id = [unmasked_ratings[\"user\"][0]] * len(movie_titles[\"film\"])\n",
    "\n",
    "    # Initialisiere die sum_scores-Liste mit Nullen\n",
    "    sum_scores = [0] * len(movie_titles[\"film\"])\n",
    "    sum_scores = pl.Series(\"sum_scores\", sum_scores)\n",
    "\n",
    "    # Iteriere durch jede Bewertungszeile in unmasked_ratings\n",
    "    for rating in unmasked_ratings.rows():\n",
    "\n",
    "        # Überprüfe, ob die Bewertung größer oder gleich 3 ist\n",
    "        if rating[2] >= 3:\n",
    "\n",
    "            # Hole die vorausberechneten Kosinus-Ähnlichkeiten für den aktuellen Film\n",
    "            scores = get_cosine_similarities(rating)\n",
    "\n",
    "            # Aktualisiere sum_scores durch Addition der aktuellen scores\n",
    "            sum_scores = sum_scores + scores\n",
    "\n",
    "    # Füge die sum_scores mit den Film-IDs aus movie_titles zusammen\n",
    "    sum_scores = pl.DataFrame({\"user\": user_id, \"film\": movie_titles[\"film\"], \"rating\": sum_scores})\n",
    "            \n",
    "    return sum_scores\n"
   ]
  },
  {
   "cell_type": "code",
   "execution_count": 12,
   "metadata": {},
   "outputs": [],
   "source": [
    "# rate all movies for a given user\n",
    "def rate_all(user_id):\n",
    "    \"\"\"Returns a dataframe with all ratings for a given user\n",
    "\n",
    "    Args:\n",
    "        user_id (int): User ID\n",
    "\n",
    "    Returns:\n",
    "        pl.DataFrame: Ratings for a given user\n",
    "    \"\"\"\n",
    "\n",
    "\n",
    "    # get all movies\n",
    "    movies = movie_titles[\"film\"]\n",
    "    ratings = []\n",
    "\n",
    "    for movie in movies:\n",
    "        # predict rating\n",
    "        rating = predict_rating(user_id, movie)\n",
    "\n",
    "        # add rating to dataframe\n",
    "        ratings.append([user_id, movie, rating])\n",
    "\n",
    "    ratings = pl.DataFrame(ratings, schema=[\"user\", \"film\", \"rating\"])\n",
    "\n",
    "    return ratings"
   ]
  },
  {
   "cell_type": "code",
   "execution_count": 13,
   "metadata": {},
   "outputs": [],
   "source": [
    "# get the top n ratings for a given user\n",
    "def get_top_rated(ratings, n):\n",
    "    \"\"\"Get the top n of ratings for a given user\n",
    "\n",
    "    Args:\n",
    "        ratings (pl.DataFrame): Ratings\n",
    "        n (int): Number of ratings to get\n",
    "\n",
    "    Returns:\n",
    "        pl.DataFrame: Top n ratings\n",
    "    \"\"\"\n",
    "\n",
    "    # sort ratings by rating\n",
    "    ratings = ratings.sort(by=\"rating\", descending=True)\n",
    "\n",
    "    # take the top n ratings\n",
    "    top_ratings = ratings.head(n)\n",
    "\n",
    "    return top_ratings"
   ]
  },
  {
   "cell_type": "code",
   "execution_count": 14,
   "metadata": {},
   "outputs": [],
   "source": [
    "# evaluate how well a model performs\n",
    "# for this, we compare how well the model predicts the top m% of ratings\n",
    "# we calculate the intersection between the masked ratings and the top m% of ratings\n",
    "def evaluate(masked_ratings, top_ratings):\n",
    "    \"\"\"Evaluate how well a model performs\n",
    "\n",
    "    Args:\n",
    "        masked_ratings (pl.DataFrame): Masked ratings\n",
    "        top_ratings (pl.DataFrame): Top m% of ratings\n",
    "\n",
    "    Returns:\n",
    "        float: Percentage of ratings that were correctly predicted\n",
    "    \"\"\"\n",
    "\n",
    "    # get intersection between masked ratings and top ratings\n",
    "    intersection = masked_ratings.join(top_ratings, on=[\"user\", \"film\"], how=\"inner\")\n",
    "\n",
    "    # calculate percentage of ratings that were correctly predicted\n",
    "    percentage = len(intersection) / len(masked_ratings)\n",
    "\n",
    "    return percentage"
   ]
  },
  {
   "cell_type": "code",
   "execution_count": 15,
   "metadata": {},
   "outputs": [],
   "source": [
    "# all steps combined\n",
    "# TODO: update the parameters\n",
    "def full_evaluation(user_id, split_mask, split_top):\n",
    "    \"\"\"Evaluate how well a model performs (for a given user)\n",
    "\n",
    "    Args:\n",
    "        user_id (int): User ID\n",
    "        split_mask (float): Percentage of ratings to mask\n",
    "        split_top (float): Percentage of top ratings to compare with the masked ratings\n",
    "\n",
    "    Returns:\n",
    "        float: Percentage of ratings that were correctly predicted\n",
    "    \"\"\"\n",
    "\n",
    "    masked_ratings, unmasked_ratings = mask_ratings(get_user_ratings(user_id), split_mask)\n",
    "\n",
    "    all_ratings = rate_all(user_id)\n",
    "    top_ratings = get_top_rated(all_ratings, split_top)\n",
    "\n",
    "    evaluation =  evaluate(masked_ratings, top_ratings)\n",
    "\n",
    "    return evaluation"
   ]
  },
  {
   "cell_type": "code",
   "execution_count": 16,
   "metadata": {},
   "outputs": [],
   "source": [
    "def full_evaluate_cosine_similarity(user_id, split_date, top_n):\n",
    "    \"\"\"Bewertet die Leistung eines Modells für einen bestimmten Benutzer.\n",
    "    \n",
    "    Achtung: Diese Funktion kann bei großen Datensätzen Laufzeitprobleme verursachen.\n",
    "\n",
    "    Args:\n",
    "        user_id (int): Benutzer-ID\n",
    "        split_date (datetime.datetime): Datum, an dem die Bewertungen aufgeteilt werden\n",
    "        top_n (int): Anzahl der besten Bewertungen, die mit den maskierten Bewertungen verglichen werden sollen\n",
    "\n",
    "    Returns:\n",
    "        float: Prozentsatz der Bewertungen, die korrekt vorhergesagt wurden\n",
    "    \"\"\"\n",
    "    \n",
    "    # Hole alle hoch bewerteten Filme für den Benutzer\n",
    "    ratings = get_highly_rated_user_ratings(user_id)\n",
    "\n",
    "    # Teile die Bewertungen in maskierte und nicht maskierte Bewertungen auf\n",
    "    unmasked_ratings, masked_ratings = mask_ratings(ratings, split_date)\n",
    "\n",
    "    # Berechne die Summe der Kosinus-Ähnlichkeiten für die nicht maskierten Bewertungen\n",
    "    sums = sum_cosine_similarities(unmasked_ratings)\n",
    "\n",
    "    # Hole die Top-n-Bewertungen basierend auf den Kosinus-Ähnlichkeiten\n",
    "    top_ratings = get_top_rated(sums, top_n)\n",
    "\n",
    "    # Evaluierung durchführen\n",
    "    evaluation = evaluate(masked_ratings, top_ratings)\n",
    "\n",
    "    return evaluation\n"
   ]
  },
  {
   "cell_type": "code",
   "execution_count": null,
   "metadata": {},
   "outputs": [],
   "source": [
    "# Funktion zur Berechnung der fokussierten Genauigkeit der Filmempfehlungen für einen Benutzer\n",
    "def calculate_focused_accuracy(user, recommended_movies, user_ratings):\n",
    "    # Filtert den DataFrame user_ratings, um nur die Bewertungen des gegebenen Benutzers zu erhalten\n",
    "    user_ratings_filtered = user_ratings.filter(user_ratings['user'] == user)\n",
    "    \n",
    "    # Erstellt ein Wörterbuch aus den gefilterten Bewertungen für einfachen Zugriff\n",
    "    user_ratings_dict = {row[0]: row[2] for row in user_ratings_filtered.iter_rows()}\n",
    "\n",
    "    # Ermittelt die Schnittmenge der Filme, die dem Benutzer empfohlen wurden und die er bewertet hat\n",
    "    intersect_movies = set(recommended_movies).intersection(set(user_ratings_dict.keys()))\n",
    "\n",
    "    # Überprüft, ob die Schnittmenge leer ist\n",
    "    if len(intersect_movies) == 0:\n",
    "        return \"Keiner der empfohlenen Filme wurde vom Nutzer bewertet\"\n",
    "\n",
    "    # Zählt, wie viele der Filme in der Schnittmenge vom Benutzer positiv bewertet wurden\n",
    "    count_positive_ratings = sum(1 for movie in intersect_movies if user_ratings_dict[movie] >= 3)\n",
    "\n",
    "    # Gibt die fokussierte Genauigkeit zurück, die das Verhältnis der positiv bewerteten Filme zur Gesamtzahl ist\n",
    "    return count_positive_ratings / len(intersect_movies)\n",
    "\n",
    "\n",
    "# Funktion zur Ermittlung des am besten bewerteten Films eines Benutzers\n",
    "def get_best_rated_movie(user_id):\n",
    "    # Holt alle Bewertungen des gegebenen Benutzers\n",
    "    user_ratings = get_user_ratings(user_id)\n",
    "    \n",
    "    # Sortiert die Bewertungen in absteigender Reihenfolge und wählt den ersten Film aus\n",
    "    best_rated_movie = user_ratings.sort(by=['rating'], descending=True).row(0)[0]\n",
    "    \n",
    "    return best_rated_movie\n",
    "\n",
    "# Beispielanwendung\n",
    "# Ermittlung des am besten bewerteten Films für einen bestimmten Benutzer\n",
    "best_rated_movie = get_best_rated_movie(387418)\n",
    "\n",
    "# Ermittlung aller Bewertungen, die der Benutzer abgegeben hat\n",
    "user_ratings_given = get_user_ratings(387418)\n",
    "\n",
    "# Ermittlung der Top-50-Filmempfehlungen basierend auf dem am besten bewerteten Film\n",
    "top_50_movies_for_movie = cosine_similarity.get_movie_cos_scores(best_rated_movie, bonus_actor=0.08, \n",
    "                            bonus_same_director=0.02)\n",
    "\n",
    "# Ermittlung der fokussierten Genauigkeit der Filmempfehlungen\n",
    "recommended_movies = top_50_movies_for_movie\n",
    "focused_accuracy = calculate_focused_accuracy(387418, recommended_movies, user_ratings_given)\n",
    "\n",
    "# Ausgabe der fokussierten Genauigkeit\n",
    "print(\"Fokussierte Genauigkeit für den Benutzer:\", focused_accuracy)\n",
    "\n"
   ]
  },
  {
   "cell_type": "code",
   "execution_count": null,
   "metadata": {},
   "outputs": [],
   "source": [
    "# Funktion zur Berechnung der mittleren fokussierten Genauigkeit für eine Liste von Benutzern\n",
    "def calculate_mean_focused_accuracy(list_of_users, netflix_data):\n",
    "    # Initialisiere Variablen für die Summe der fokussierten Genauigkeiten und die Anzahl der Benutzer mit Schnittmengen\n",
    "    sum_focused_accuracy = 0\n",
    "    count_users_with_intersection = 0\n",
    "    \n",
    "    # Iteriere durch die Liste der Benutzer\n",
    "    for user in list_of_users:\n",
    "        # Hole alle Bewertungen des Benutzers\n",
    "        user_ratings_given = get_user_ratings(user)\n",
    "        \n",
    "        # Ermittle den am besten bewerteten Film für den Benutzer\n",
    "        best_rated_movie = get_best_rated_movie(user)\n",
    "        \n",
    "        # Erhalte die Top-50-Filmempfehlungen für den am besten bewerteten Film\n",
    "        recommended_movies = cosine_similarity.get_movie_cos_scores(best_rated_movie, bonus_actor=0.08, bonus_same_director=0.02)\n",
    "        \n",
    "        # Berechne die fokussierte Genauigkeit für den Benutzer\n",
    "        focused_accuracy = calculate_focused_accuracy(user, recommended_movies, user_ratings_given)\n",
    "        \n",
    "        # Füge die fokussierte Genauigkeit zur Gesamtsumme hinzu, falls sie existiert\n",
    "        if focused_accuracy != \"Keiner der empfohlenen Filme wurde vom Nutzer bewertet\":\n",
    "            sum_focused_accuracy += focused_accuracy\n",
    "            count_users_with_intersection += 1\n",
    "            \n",
    "    # Berechne die durchschnittliche fokussierte Genauigkeit\n",
    "    if count_users_with_intersection == 0:\n",
    "        return \"Keiner der empfohlenen Filme wurde von den Benutzern bewertet\"\n",
    "    else:\n",
    "        return sum_focused_accuracy / count_users_with_intersection\n",
    "\n",
    "# Erzeuge eine Liste aller einzigartigen Benutzer aus den Daten\n",
    "list_of_unique_users = netflix_data['user'].unique().to_list()\n",
    "\n",
    "# Berechne und drucke die durchschnittliche fokussierte Genauigkeit\n",
    "mean_focused_accuracy = calculate_mean_focused_accuracy(list_of_unique_users, netflix_data)\n",
    "print(\"Durchschnittliche fokussierte Genauigkeit:\", mean_focused_accuracy)\n"
   ]
  },
  {
   "attachments": {},
   "cell_type": "markdown",
   "metadata": {},
   "source": [
    "---\n",
    "# Testing"
   ]
  },
  {
   "cell_type": "code",
   "execution_count": 18,
   "metadata": {},
   "outputs": [
    {
     "data": {
      "text/html": [
       "<div><style>\n",
       ".dataframe > thead > tr > th,\n",
       ".dataframe > tbody > tr > td {\n",
       "  text-align: right;\n",
       "}\n",
       "</style>\n",
       "<small>shape: (5, 2)</small><table border=\"1\" class=\"dataframe\"><thead><tr><th>user</th><th>count</th></tr><tr><td>i64</td><td>u32</td></tr></thead><tbody><tr><td>305344</td><td>17653</td></tr><tr><td>387418</td><td>17436</td></tr><tr><td>2439493</td><td>16565</td></tr><tr><td>1664010</td><td>15813</td></tr><tr><td>2118461</td><td>14831</td></tr></tbody></table></div>"
      ],
      "text/plain": [
       "shape: (5, 2)\n",
       "┌─────────┬───────┐\n",
       "│ user    ┆ count │\n",
       "│ ---     ┆ ---   │\n",
       "│ i64     ┆ u32   │\n",
       "╞═════════╪═══════╡\n",
       "│ 305344  ┆ 17653 │\n",
       "│ 387418  ┆ 17436 │\n",
       "│ 2439493 ┆ 16565 │\n",
       "│ 1664010 ┆ 15813 │\n",
       "│ 2118461 ┆ 14831 │\n",
       "└─────────┴───────┘"
      ]
     },
     "execution_count": 18,
     "metadata": {},
     "output_type": "execute_result"
    }
   ],
   "source": [
    "# find the 5 users with the most ratings\n",
    "user_rating_counts = netflix_data.groupby(\"user\").count().sort(by=\"count\", descending=True)\n",
    "user_rating_counts.head(5)"
   ]
  },
  {
   "cell_type": "code",
   "execution_count": 23,
   "metadata": {},
   "outputs": [
    {
     "name": "stdout",
     "output_type": "stream",
     "text": [
      "User 10 hat 40 Bewertungen abgegeben, die größer gleich 4 sind.\n"
     ]
    }
   ],
   "source": [
    "user_ratings = get_highly_rated_user_ratings(10)\n",
    "num_ratings = len(user_ratings)\n",
    "print(f\"User 10 hat {num_ratings} Bewertungen abgegeben, die größer gleich 4 sind.\")\n"
   ]
  },
  {
   "cell_type": "code",
   "execution_count": 47,
   "metadata": {},
   "outputs": [
    {
     "data": {
      "text/html": [
       "<div><style>\n",
       ".dataframe > thead > tr > th,\n",
       ".dataframe > tbody > tr > td {\n",
       "  text-align: right;\n",
       "}\n",
       "</style>\n",
       "<small>shape: (260, 4)</small><table border=\"1\" class=\"dataframe\"><thead><tr><th>film</th><th>user</th><th>rating</th><th>date</th></tr><tr><td>i64</td><td>i64</td><td>i64</td><td>str</td></tr></thead><tbody><tr><td>175</td><td>10</td><td>3</td><td>&quot;2003-04-18\n",
       "&quot;</td></tr><tr><td>191</td><td>10</td><td>4</td><td>&quot;2003-12-30\n",
       "&quot;</td></tr><tr><td>197</td><td>10</td><td>4</td><td>&quot;2005-08-08\n",
       "&quot;</td></tr><tr><td>285</td><td>10</td><td>3</td><td>&quot;2002-12-28\n",
       "&quot;</td></tr><tr><td>299</td><td>10</td><td>2</td><td>&quot;2003-05-21\n",
       "&quot;</td></tr><tr><td>468</td><td>10</td><td>3</td><td>&quot;2004-06-13\n",
       "&quot;</td></tr><tr><td>473</td><td>10</td><td>5</td><td>&quot;2003-07-29\n",
       "&quot;</td></tr><tr><td>483</td><td>10</td><td>2</td><td>&quot;2004-02-05\n",
       "&quot;</td></tr><tr><td>571</td><td>10</td><td>4</td><td>&quot;2002-12-20\n",
       "&quot;</td></tr><tr><td>886</td><td>10</td><td>3</td><td>&quot;2005-08-08\n",
       "&quot;</td></tr><tr><td>900</td><td>10</td><td>2</td><td>&quot;2004-05-31\n",
       "&quot;</td></tr><tr><td>985</td><td>10</td><td>5</td><td>&quot;2002-12-31\n",
       "&quot;</td></tr><tr><td>&hellip;</td><td>&hellip;</td><td>&hellip;</td><td>&hellip;</td></tr><tr><td>17295</td><td>10</td><td>3</td><td>&quot;2005-10-25\n",
       "&quot;</td></tr><tr><td>17308</td><td>10</td><td>3</td><td>&quot;2002-12-20\n",
       "&quot;</td></tr><tr><td>17387</td><td>10</td><td>3</td><td>&quot;2003-08-19\n",
       "&quot;</td></tr><tr><td>17431</td><td>10</td><td>3</td><td>&quot;2004-03-02\n",
       "&quot;</td></tr><tr><td>17441</td><td>10</td><td>3</td><td>&quot;2005-10-25\n",
       "&quot;</td></tr><tr><td>17479</td><td>10</td><td>2</td><td>&quot;2004-06-13\n",
       "&quot;</td></tr><tr><td>17555</td><td>10</td><td>3</td><td>&quot;2003-12-13\n",
       "&quot;</td></tr><tr><td>17560</td><td>10</td><td>4</td><td>&quot;2005-10-25\n",
       "&quot;</td></tr><tr><td>17580</td><td>10</td><td>3</td><td>&quot;2005-10-25\n",
       "&quot;</td></tr><tr><td>17622</td><td>10</td><td>2</td><td>&quot;2004-06-13\n",
       "&quot;</td></tr><tr><td>17628</td><td>10</td><td>1</td><td>&quot;2003-01-01\n",
       "&quot;</td></tr><tr><td>17703</td><td>10</td><td>2</td><td>&quot;2003-12-30\n",
       "&quot;</td></tr></tbody></table></div>"
      ],
      "text/plain": [
       "shape: (260, 4)\n",
       "┌───────┬──────┬────────┬────────────┐\n",
       "│ film  ┆ user ┆ rating ┆ date       │\n",
       "│ ---   ┆ ---  ┆ ---    ┆ ---        │\n",
       "│ i64   ┆ i64  ┆ i64    ┆ str        │\n",
       "╞═══════╪══════╪════════╪════════════╡\n",
       "│ 175   ┆ 10   ┆ 3      ┆ 2003-04-18 │\n",
       "│       ┆      ┆        ┆            │\n",
       "│ 191   ┆ 10   ┆ 4      ┆ 2003-12-30 │\n",
       "│       ┆      ┆        ┆            │\n",
       "│ 197   ┆ 10   ┆ 4      ┆ 2005-08-08 │\n",
       "│       ┆      ┆        ┆            │\n",
       "│ 285   ┆ 10   ┆ 3      ┆ 2002-12-28 │\n",
       "│       ┆      ┆        ┆            │\n",
       "│ …     ┆ …    ┆ …      ┆ …          │\n",
       "│ 17580 ┆ 10   ┆ 3      ┆ 2005-10-25 │\n",
       "│       ┆      ┆        ┆            │\n",
       "│ 17622 ┆ 10   ┆ 2      ┆ 2004-06-13 │\n",
       "│       ┆      ┆        ┆            │\n",
       "│ 17628 ┆ 10   ┆ 1      ┆ 2003-01-01 │\n",
       "│       ┆      ┆        ┆            │\n",
       "│ 17703 ┆ 10   ┆ 2      ┆ 2003-12-30 │\n",
       "│       ┆      ┆        ┆            │\n",
       "└───────┴──────┴────────┴────────────┘"
      ]
     },
     "execution_count": 47,
     "metadata": {},
     "output_type": "execute_result"
    }
   ],
   "source": [
    "# get all ratings for a user\n",
    "get_user_ratings(10)\n",
    "user_ratings_list = get_user_ratings(10).to_pandas().to_dict(orient='records')\n",
    "print(user_ratings_list)"
   ]
  },
  {
   "cell_type": "code",
   "execution_count": 48,
   "metadata": {},
   "outputs": [
    {
     "name": "stdout",
     "output_type": "stream",
     "text": [
      "[{'film': 175, 'user': 10, 'rating': 3, 'date': '2003-04-18\\n'}, {'film': 191, 'user': 10, 'rating': 4, 'date': '2003-12-30\\n'}, {'film': 197, 'user': 10, 'rating': 4, 'date': '2005-08-08\\n'}, {'film': 285, 'user': 10, 'rating': 3, 'date': '2002-12-28\\n'}, {'film': 299, 'user': 10, 'rating': 2, 'date': '2003-05-21\\n'}, {'film': 468, 'user': 10, 'rating': 3, 'date': '2004-06-13\\n'}, {'film': 473, 'user': 10, 'rating': 5, 'date': '2003-07-29\\n'}, {'film': 483, 'user': 10, 'rating': 2, 'date': '2004-02-05\\n'}, {'film': 571, 'user': 10, 'rating': 4, 'date': '2002-12-20\\n'}, {'film': 886, 'user': 10, 'rating': 3, 'date': '2005-08-08\\n'}, {'film': 900, 'user': 10, 'rating': 2, 'date': '2004-05-31\\n'}, {'film': 985, 'user': 10, 'rating': 5, 'date': '2002-12-31\\n'}, {'film': 1145, 'user': 10, 'rating': 3, 'date': '2003-02-14\\n'}, {'film': 1180, 'user': 10, 'rating': 3, 'date': '2004-06-13\\n'}, {'film': 1542, 'user': 10, 'rating': 5, 'date': '2003-02-12\\n'}, {'film': 1645, 'user': 10, 'rating': 2, 'date': '2003-12-30\\n'}, {'film': 1744, 'user': 10, 'rating': 3, 'date': '2005-10-25\\n'}, {'film': 1816, 'user': 10, 'rating': 2, 'date': '2004-07-01\\n'}, {'film': 1819, 'user': 10, 'rating': 2, 'date': '2003-01-03\\n'}, {'film': 1905, 'user': 10, 'rating': 5, 'date': '2005-10-25\\n'}, {'film': 1975, 'user': 10, 'rating': 3, 'date': '2003-01-03\\n'}, {'film': 2037, 'user': 10, 'rating': 4, 'date': '2003-02-13\\n'}, {'film': 2112, 'user': 10, 'rating': 3, 'date': '2003-12-30\\n'}, {'film': 2122, 'user': 10, 'rating': 4, 'date': '2002-12-20\\n'}, {'film': 2152, 'user': 10, 'rating': 4, 'date': '2003-02-13\\n'}, {'film': 2172, 'user': 10, 'rating': 5, 'date': '2005-08-08\\n'}, {'film': 2518, 'user': 10, 'rating': 4, 'date': '2003-12-04\\n'}, {'film': 2578, 'user': 10, 'rating': 3, 'date': '2004-03-02\\n'}, {'film': 2782, 'user': 10, 'rating': 4, 'date': '2005-08-08\\n'}, {'film': 2905, 'user': 10, 'rating': 3, 'date': '2004-06-13\\n'}, {'film': 2986, 'user': 10, 'rating': 1, 'date': '2003-05-30\\n'}, {'film': 2992, 'user': 10, 'rating': 4, 'date': '2004-06-13\\n'}, {'film': 3124, 'user': 10, 'rating': 5, 'date': '2005-08-08\\n'}, {'film': 3254, 'user': 10, 'rating': 4, 'date': '2003-09-15\\n'}, {'film': 3282, 'user': 10, 'rating': 3, 'date': '2005-10-25\\n'}, {'film': 3333, 'user': 10, 'rating': 2, 'date': '2005-10-25\\n'}, {'film': 3371, 'user': 10, 'rating': 5, 'date': '2003-12-30\\n'}, {'film': 3434, 'user': 10, 'rating': 2, 'date': '2004-06-13\\n'}, {'film': 3538, 'user': 10, 'rating': 4, 'date': '2002-12-31\\n'}, {'film': 3579, 'user': 10, 'rating': 2, 'date': '2003-12-30\\n'}, {'film': 3610, 'user': 10, 'rating': 4, 'date': '2005-08-08\\n'}, {'film': 3623, 'user': 10, 'rating': 2, 'date': '2004-02-05\\n'}, {'film': 3713, 'user': 10, 'rating': 2, 'date': '2005-08-08\\n'}, {'film': 3886, 'user': 10, 'rating': 1, 'date': '2003-12-04\\n'}, {'film': 3900, 'user': 10, 'rating': 2, 'date': '2004-07-01\\n'}, {'film': 3962, 'user': 10, 'rating': 5, 'date': '2003-12-30\\n'}, {'film': 4043, 'user': 10, 'rating': 5, 'date': '2004-06-13\\n'}, {'film': 4306, 'user': 10, 'rating': 5, 'date': '2005-06-01\\n'}, {'film': 4345, 'user': 10, 'rating': 4, 'date': '2004-02-05\\n'}, {'film': 4577, 'user': 10, 'rating': 4, 'date': '2002-12-31\\n'}, {'film': 4633, 'user': 10, 'rating': 2, 'date': '2005-08-08\\n'}, {'film': 4641, 'user': 10, 'rating': 2, 'date': '2003-10-15\\n'}, {'film': 4656, 'user': 10, 'rating': 5, 'date': '2005-06-01\\n'}, {'film': 4661, 'user': 10, 'rating': 4, 'date': '2005-10-25\\n'}, {'film': 4677, 'user': 10, 'rating': 1, 'date': '2003-01-03\\n'}, {'film': 4683, 'user': 10, 'rating': 2, 'date': '2003-05-14\\n'}, {'film': 4949, 'user': 10, 'rating': 2, 'date': '2003-01-03\\n'}, {'film': 5112, 'user': 10, 'rating': 5, 'date': '2003-01-03\\n'}, {'film': 5181, 'user': 10, 'rating': 5, 'date': '2004-06-13\\n'}, {'film': 5191, 'user': 10, 'rating': 4, 'date': '2003-01-03\\n'}, {'film': 5199, 'user': 10, 'rating': 3, 'date': '2004-07-13\\n'}, {'film': 5223, 'user': 10, 'rating': 4, 'date': '2003-01-03\\n'}, {'film': 5287, 'user': 10, 'rating': 4, 'date': '2002-12-28\\n'}, {'film': 5293, 'user': 10, 'rating': 3, 'date': '2003-12-30\\n'}, {'film': 5317, 'user': 10, 'rating': 3, 'date': '2002-12-27\\n'}, {'film': 5318, 'user': 10, 'rating': 5, 'date': '2005-08-08\\n'}, {'film': 5345, 'user': 10, 'rating': 3, 'date': '2005-07-18\\n'}, {'film': 5434, 'user': 10, 'rating': 3, 'date': '2003-01-03\\n'}, {'film': 5472, 'user': 10, 'rating': 4, 'date': '2005-10-25\\n'}, {'film': 5605, 'user': 10, 'rating': 2, 'date': '2005-08-08\\n'}, {'film': 5614, 'user': 10, 'rating': 4, 'date': '2003-04-18\\n'}, {'film': 5663, 'user': 10, 'rating': 2, 'date': '2005-08-08\\n'}, {'film': 5708, 'user': 10, 'rating': 3, 'date': '2003-01-13\\n'}, {'film': 5732, 'user': 10, 'rating': 3, 'date': '2005-06-01\\n'}, {'film': 5775, 'user': 10, 'rating': 4, 'date': '2002-12-31\\n'}, {'film': 5793, 'user': 10, 'rating': 3, 'date': '2004-06-13\\n'}, {'film': 5924, 'user': 10, 'rating': 4, 'date': '2005-10-25\\n'}, {'film': 5926, 'user': 10, 'rating': 4, 'date': '2003-04-18\\n'}, {'film': 5939, 'user': 10, 'rating': 5, 'date': '2005-08-08\\n'}, {'film': 6029, 'user': 10, 'rating': 3, 'date': '2002-12-20\\n'}, {'film': 6037, 'user': 10, 'rating': 3, 'date': '2005-10-25\\n'}, {'film': 6122, 'user': 10, 'rating': 3, 'date': '2003-10-07\\n'}, {'film': 6206, 'user': 10, 'rating': 3, 'date': '2003-06-15\\n'}, {'film': 6287, 'user': 10, 'rating': 5, 'date': '2003-12-30\\n'}, {'film': 6464, 'user': 10, 'rating': 2, 'date': '2003-07-19\\n'}, {'film': 6497, 'user': 10, 'rating': 3, 'date': '2004-06-13\\n'}, {'film': 6615, 'user': 10, 'rating': 5, 'date': '2004-05-31\\n'}, {'film': 6631, 'user': 10, 'rating': 3, 'date': '2005-10-25\\n'}, {'film': 6687, 'user': 10, 'rating': 4, 'date': '2003-01-03\\n'}, {'film': 6720, 'user': 10, 'rating': 3, 'date': '2004-06-13\\n'}, {'film': 6760, 'user': 10, 'rating': 3, 'date': '2003-06-30\\n'}, {'film': 6776, 'user': 10, 'rating': 1, 'date': '2004-02-05\\n'}, {'film': 6797, 'user': 10, 'rating': 4, 'date': '2005-10-25\\n'}, {'film': 6833, 'user': 10, 'rating': 5, 'date': '2005-08-08\\n'}, {'film': 6872, 'user': 10, 'rating': 3, 'date': '2005-10-25\\n'}, {'film': 6874, 'user': 10, 'rating': 4, 'date': '2004-06-13\\n'}, {'film': 6927, 'user': 10, 'rating': 3, 'date': '2004-02-05\\n'}, {'film': 6931, 'user': 10, 'rating': 2, 'date': '2003-12-30\\n'}, {'film': 6971, 'user': 10, 'rating': 4, 'date': '2002-12-31\\n'}, {'film': 6972, 'user': 10, 'rating': 4, 'date': '2002-12-20\\n'}, {'film': 6994, 'user': 10, 'rating': 4, 'date': '2005-10-25\\n'}, {'film': 7032, 'user': 10, 'rating': 5, 'date': '2002-12-27\\n'}, {'film': 7067, 'user': 10, 'rating': 4, 'date': '2003-12-30\\n'}, {'film': 7234, 'user': 10, 'rating': 5, 'date': '2003-12-30\\n'}, {'film': 7237, 'user': 10, 'rating': 4, 'date': '2004-05-03\\n'}, {'film': 7330, 'user': 10, 'rating': 4, 'date': '2005-10-25\\n'}, {'film': 7364, 'user': 10, 'rating': 4, 'date': '2002-12-31\\n'}, {'film': 7453, 'user': 10, 'rating': 2, 'date': '2003-03-12\\n'}, {'film': 7509, 'user': 10, 'rating': 3, 'date': '2005-10-25\\n'}, {'film': 7586, 'user': 10, 'rating': 2, 'date': '2005-08-08\\n'}, {'film': 7589, 'user': 10, 'rating': 3, 'date': '2003-09-15\\n'}, {'film': 7624, 'user': 10, 'rating': 3, 'date': '2002-12-27\\n'}, {'film': 7627, 'user': 10, 'rating': 2, 'date': '2004-06-13\\n'}, {'film': 7735, 'user': 10, 'rating': 1, 'date': '2004-05-03\\n'}, {'film': 7739, 'user': 10, 'rating': 3, 'date': '2003-01-03\\n'}, {'film': 7904, 'user': 10, 'rating': 4, 'date': '2005-10-25\\n'}, {'film': 8327, 'user': 10, 'rating': 4, 'date': '2002-12-28\\n'}, {'film': 8334, 'user': 10, 'rating': 4, 'date': '2005-10-25\\n'}, {'film': 8531, 'user': 10, 'rating': 3, 'date': '2003-10-01\\n'}, {'film': 8603, 'user': 10, 'rating': 4, 'date': '2003-12-04\\n'}, {'film': 8636, 'user': 10, 'rating': 3, 'date': '2004-06-13\\n'}, {'film': 8736, 'user': 10, 'rating': 3, 'date': '2003-09-15\\n'}, {'film': 8782, 'user': 10, 'rating': 4, 'date': '2003-04-14\\n'}, {'film': 8808, 'user': 10, 'rating': 3, 'date': '2003-03-08\\n'}, {'film': 8904, 'user': 10, 'rating': 4, 'date': '2002-12-31\\n'}, {'film': 9032, 'user': 10, 'rating': 4, 'date': '2005-10-25\\n'}, {'film': 9049, 'user': 10, 'rating': 3, 'date': '2005-10-25\\n'}, {'film': 9156, 'user': 10, 'rating': 2, 'date': '2005-06-01\\n'}, {'film': 9170, 'user': 10, 'rating': 3, 'date': '2003-04-14\\n'}, {'film': 9180, 'user': 10, 'rating': 3, 'date': '2004-07-01\\n'}, {'film': 9189, 'user': 10, 'rating': 3, 'date': '2003-12-13\\n'}, {'film': 9340, 'user': 10, 'rating': 5, 'date': '2002-12-20\\n'}, {'film': 9592, 'user': 10, 'rating': 5, 'date': '2005-08-08\\n'}, {'film': 9617, 'user': 10, 'rating': 4, 'date': '2002-12-27\\n'}, {'film': 9733, 'user': 10, 'rating': 2, 'date': '2003-12-04\\n'}, {'film': 9756, 'user': 10, 'rating': 4, 'date': '2004-06-13\\n'}, {'film': 9776, 'user': 10, 'rating': 3, 'date': '2003-01-03\\n'}, {'film': 9863, 'user': 10, 'rating': 3, 'date': '2003-01-03\\n'}, {'film': 10042, 'user': 10, 'rating': 4, 'date': '2005-10-25\\n'}, {'film': 10078, 'user': 10, 'rating': 3, 'date': '2005-08-08\\n'}, {'film': 10344, 'user': 10, 'rating': 3, 'date': '2005-10-25\\n'}, {'film': 10358, 'user': 10, 'rating': 2, 'date': '2005-10-25\\n'}, {'film': 10375, 'user': 10, 'rating': 4, 'date': '2005-10-25\\n'}, {'film': 10451, 'user': 10, 'rating': 4, 'date': '2003-04-18\\n'}, {'film': 10583, 'user': 10, 'rating': 5, 'date': '2004-06-13\\n'}, {'film': 10586, 'user': 10, 'rating': 2, 'date': '2003-12-04\\n'}, {'film': 10622, 'user': 10, 'rating': 3, 'date': '2003-01-03\\n'}, {'film': 10729, 'user': 10, 'rating': 2, 'date': '2004-06-22\\n'}, {'film': 10774, 'user': 10, 'rating': 4, 'date': '2003-02-12\\n'}, {'film': 10808, 'user': 10, 'rating': 4, 'date': '2002-12-31\\n'}, {'film': 10835, 'user': 10, 'rating': 3, 'date': '2003-01-03\\n'}, {'film': 10927, 'user': 10, 'rating': 2, 'date': '2005-10-25\\n'}, {'film': 10947, 'user': 10, 'rating': 4, 'date': '2005-06-01\\n'}, {'film': 11040, 'user': 10, 'rating': 2, 'date': '2005-08-08\\n'}, {'film': 11064, 'user': 10, 'rating': 3, 'date': '2002-12-20\\n'}, {'film': 11077, 'user': 10, 'rating': 4, 'date': '2005-07-18\\n'}, {'film': 11089, 'user': 10, 'rating': 5, 'date': '2004-06-13\\n'}, {'film': 11132, 'user': 10, 'rating': 2, 'date': '2005-08-08\\n'}, {'film': 11149, 'user': 10, 'rating': 3, 'date': '2004-06-13\\n'}, {'film': 11152, 'user': 10, 'rating': 4, 'date': '2004-06-13\\n'}, {'film': 11173, 'user': 10, 'rating': 4, 'date': '2004-06-13\\n'}, {'film': 11251, 'user': 10, 'rating': 3, 'date': '2005-08-08\\n'}, {'film': 11283, 'user': 10, 'rating': 4, 'date': '2002-12-31\\n'}, {'film': 11607, 'user': 10, 'rating': 3, 'date': '2005-08-08\\n'}, {'film': 11630, 'user': 10, 'rating': 3, 'date': '2004-06-13\\n'}, {'film': 11647, 'user': 10, 'rating': 3, 'date': '2005-10-25\\n'}, {'film': 11663, 'user': 10, 'rating': 5, 'date': '2003-01-03\\n'}, {'film': 11745, 'user': 10, 'rating': 3, 'date': '2005-10-25\\n'}, {'film': 11771, 'user': 10, 'rating': 3, 'date': '2004-02-05\\n'}, {'film': 11781, 'user': 10, 'rating': 4, 'date': '2005-10-25\\n'}, {'film': 11910, 'user': 10, 'rating': 2, 'date': '2005-05-16\\n'}, {'film': 12014, 'user': 10, 'rating': 4, 'date': '2005-10-25\\n'}, {'film': 12056, 'user': 10, 'rating': 2, 'date': '2005-10-25\\n'}, {'film': 12160, 'user': 10, 'rating': 1, 'date': '2005-10-25\\n'}, {'film': 12194, 'user': 10, 'rating': 3, 'date': '2005-08-08\\n'}, {'film': 12244, 'user': 10, 'rating': 3, 'date': '2003-05-02\\n'}, {'film': 12299, 'user': 10, 'rating': 4, 'date': '2003-01-03\\n'}, {'film': 12305, 'user': 10, 'rating': 4, 'date': '2004-06-13\\n'}, {'film': 12343, 'user': 10, 'rating': 4, 'date': '2005-10-25\\n'}, {'film': 12605, 'user': 10, 'rating': 4, 'date': '2005-10-25\\n'}, {'film': 12703, 'user': 10, 'rating': 2, 'date': '2005-08-08\\n'}, {'film': 12799, 'user': 10, 'rating': 3, 'date': '2005-08-08\\n'}, {'film': 12911, 'user': 10, 'rating': 4, 'date': '2002-12-31\\n'}, {'film': 12918, 'user': 10, 'rating': 4, 'date': '2002-12-31\\n'}, {'film': 12966, 'user': 10, 'rating': 3, 'date': '2005-10-25\\n'}, {'film': 13195, 'user': 10, 'rating': 5, 'date': '2005-08-08\\n'}, {'film': 13273, 'user': 10, 'rating': 4, 'date': '2005-10-25\\n'}, {'film': 13391, 'user': 10, 'rating': 4, 'date': '2005-10-25\\n'}, {'film': 13462, 'user': 10, 'rating': 4, 'date': '2003-01-03\\n'}, {'film': 13651, 'user': 10, 'rating': 4, 'date': '2003-02-12\\n'}, {'film': 13728, 'user': 10, 'rating': 2, 'date': '2005-08-08\\n'}, {'film': 13748, 'user': 10, 'rating': 5, 'date': '2005-10-25\\n'}, {'film': 13955, 'user': 10, 'rating': 5, 'date': '2005-07-18\\n'}, {'film': 14047, 'user': 10, 'rating': 1, 'date': '2003-12-30\\n'}, {'film': 14050, 'user': 10, 'rating': 5, 'date': '2005-10-25\\n'}, {'film': 14149, 'user': 10, 'rating': 4, 'date': '2002-12-27\\n'}, {'film': 14209, 'user': 10, 'rating': 3, 'date': '2003-03-12\\n'}, {'film': 14265, 'user': 10, 'rating': 3, 'date': '2003-01-03\\n'}, {'film': 14313, 'user': 10, 'rating': 5, 'date': '2002-12-27\\n'}, {'film': 14330, 'user': 10, 'rating': 3, 'date': '2003-09-15\\n'}, {'film': 14367, 'user': 10, 'rating': 5, 'date': '2002-12-20\\n'}, {'film': 14384, 'user': 10, 'rating': 2, 'date': '2005-10-25\\n'}, {'film': 14410, 'user': 10, 'rating': 2, 'date': '2005-06-01\\n'}, {'film': 14454, 'user': 10, 'rating': 4, 'date': '2004-06-13\\n'}, {'film': 14545, 'user': 10, 'rating': 2, 'date': '2005-10-25\\n'}, {'film': 14574, 'user': 10, 'rating': 4, 'date': '2005-08-08\\n'}, {'film': 14621, 'user': 10, 'rating': 5, 'date': '2005-08-08\\n'}, {'film': 14691, 'user': 10, 'rating': 4, 'date': '2004-06-13\\n'}, {'film': 14725, 'user': 10, 'rating': 5, 'date': '2005-08-08\\n'}, {'film': 14909, 'user': 10, 'rating': 4, 'date': '2004-05-31\\n'}, {'film': 14940, 'user': 10, 'rating': 4, 'date': '2005-10-25\\n'}, {'film': 14953, 'user': 10, 'rating': 3, 'date': '2005-10-25\\n'}, {'film': 14999, 'user': 10, 'rating': 2, 'date': '2005-08-08\\n'}, {'film': 15107, 'user': 10, 'rating': 4, 'date': '2002-12-31\\n'}, {'film': 15124, 'user': 10, 'rating': 4, 'date': '2002-12-20\\n'}, {'film': 15154, 'user': 10, 'rating': 3, 'date': '2003-01-03\\n'}, {'film': 15205, 'user': 10, 'rating': 4, 'date': '2005-10-25\\n'}, {'film': 15234, 'user': 10, 'rating': 2, 'date': '2003-01-03\\n'}, {'film': 15296, 'user': 10, 'rating': 5, 'date': '2003-10-01\\n'}, {'film': 15563, 'user': 10, 'rating': 3, 'date': '2005-06-01\\n'}, {'film': 15578, 'user': 10, 'rating': 5, 'date': '2002-12-27\\n'}, {'film': 15657, 'user': 10, 'rating': 4, 'date': '2004-01-03\\n'}, {'film': 15769, 'user': 10, 'rating': 3, 'date': '2005-10-25\\n'}, {'film': 15800, 'user': 10, 'rating': 3, 'date': '2003-03-24\\n'}, {'film': 15805, 'user': 10, 'rating': 3, 'date': '2004-06-13\\n'}, {'film': 15844, 'user': 10, 'rating': 4, 'date': '2003-02-12\\n'}, {'film': 16002, 'user': 10, 'rating': 4, 'date': '2003-07-09\\n'}, {'film': 16150, 'user': 10, 'rating': 3, 'date': '2003-02-13\\n'}, {'film': 16169, 'user': 10, 'rating': 2, 'date': '2003-01-03\\n'}, {'film': 16270, 'user': 10, 'rating': 2, 'date': '2005-10-25\\n'}, {'film': 16272, 'user': 10, 'rating': 4, 'date': '2003-04-18\\n'}, {'film': 16302, 'user': 10, 'rating': 5, 'date': '2005-10-25\\n'}, {'film': 16377, 'user': 10, 'rating': 4, 'date': '2002-12-27\\n'}, {'film': 16439, 'user': 10, 'rating': 3, 'date': '2002-12-20\\n'}, {'film': 16452, 'user': 10, 'rating': 4, 'date': '2004-06-13\\n'}, {'film': 16459, 'user': 10, 'rating': 3, 'date': '2003-07-12\\n'}, {'film': 16644, 'user': 10, 'rating': 5, 'date': '2004-05-31\\n'}, {'film': 16707, 'user': 10, 'rating': 4, 'date': '2004-06-13\\n'}, {'film': 16740, 'user': 10, 'rating': 5, 'date': '2003-04-18\\n'}, {'film': 16862, 'user': 10, 'rating': 4, 'date': '2003-10-21\\n'}, {'film': 16871, 'user': 10, 'rating': 2, 'date': '2004-02-05\\n'}, {'film': 16879, 'user': 10, 'rating': 5, 'date': '2002-12-27\\n'}, {'film': 16882, 'user': 10, 'rating': 4, 'date': '2003-12-30\\n'}, {'film': 17031, 'user': 10, 'rating': 4, 'date': '2004-02-05\\n'}, {'film': 17088, 'user': 10, 'rating': 5, 'date': '2005-08-08\\n'}, {'film': 17129, 'user': 10, 'rating': 4, 'date': '2003-01-03\\n'}, {'film': 17149, 'user': 10, 'rating': 2, 'date': '2005-05-16\\n'}, {'film': 17169, 'user': 10, 'rating': 3, 'date': '2005-10-25\\n'}, {'film': 17295, 'user': 10, 'rating': 3, 'date': '2005-10-25\\n'}, {'film': 17308, 'user': 10, 'rating': 3, 'date': '2002-12-20\\n'}, {'film': 17387, 'user': 10, 'rating': 3, 'date': '2003-08-19\\n'}, {'film': 17431, 'user': 10, 'rating': 3, 'date': '2004-03-02\\n'}, {'film': 17441, 'user': 10, 'rating': 3, 'date': '2005-10-25\\n'}, {'film': 17479, 'user': 10, 'rating': 2, 'date': '2004-06-13\\n'}, {'film': 17555, 'user': 10, 'rating': 3, 'date': '2003-12-13\\n'}, {'film': 17560, 'user': 10, 'rating': 4, 'date': '2005-10-25\\n'}, {'film': 17580, 'user': 10, 'rating': 3, 'date': '2005-10-25\\n'}, {'film': 17622, 'user': 10, 'rating': 2, 'date': '2004-06-13\\n'}, {'film': 17628, 'user': 10, 'rating': 1, 'date': '2003-01-01\\n'}, {'film': 17703, 'user': 10, 'rating': 2, 'date': '2003-12-30\\n'}]\n"
     ]
    }
   ],
   "source": [
    "user_ratings_list = get_user_ratings(10).to_pandas().to_dict(orient='records')\n",
    "print(user_ratings_list)"
   ]
  },
  {
   "cell_type": "code",
   "execution_count": 46,
   "metadata": {},
   "outputs": [],
   "source": [
    "get_user_ratings(10).write_csv('user_10_ratings.csv')\n"
   ]
  },
  {
   "cell_type": "code",
   "execution_count": null,
   "metadata": {},
   "outputs": [],
   "source": [
    "# transform the ratings into a vector\n",
    "# here, all missing ratings get the placeholder value 0\n",
    "ratings_to_vector(get_user_ratings(7), 0)"
   ]
  },
  {
   "cell_type": "code",
   "execution_count": 214,
   "metadata": {},
   "outputs": [
    {
     "data": {
      "text/plain": [
       "0.14285714285714285"
      ]
     },
     "execution_count": 214,
     "metadata": {},
     "output_type": "execute_result"
    }
   ],
   "source": [
    "# evaluate the model for a user\n",
    "full_evaluation(2118461, 0.5, 0.1)"
   ]
  },
  {
   "cell_type": "code",
   "execution_count": 22,
   "metadata": {},
   "outputs": [
    {
     "ename": "KeyboardInterrupt",
     "evalue": "",
     "output_type": "error",
     "traceback": [
      "\u001b[1;31m---------------------------------------------------------------------------\u001b[0m",
      "\u001b[1;31mKeyboardInterrupt\u001b[0m                         Traceback (most recent call last)",
      "Cell \u001b[1;32mIn[22], line 2\u001b[0m\n\u001b[0;32m      1\u001b[0m split_date \u001b[39m=\u001b[39m datetime\u001b[39m.\u001b[39mdatetime(\u001b[39m2005\u001b[39m, \u001b[39m9\u001b[39m, \u001b[39m1\u001b[39m)\n\u001b[1;32m----> 2\u001b[0m full_evaluate_cosine_similarity(\u001b[39m10\u001b[39;49m, split_date, \u001b[39m500\u001b[39;49m)\n",
      "Cell \u001b[1;32mIn[21], line 20\u001b[0m, in \u001b[0;36mfull_evaluate_cosine_similarity\u001b[1;34m(user_id, split_date, top_n)\u001b[0m\n\u001b[0;32m     17\u001b[0m unmasked_ratings, masked_ratings \u001b[39m=\u001b[39m mask_ratings(ratings, split_date)\n\u001b[0;32m     19\u001b[0m \u001b[39m# get sum of cosine similarities for unmasked ratings\u001b[39;00m\n\u001b[1;32m---> 20\u001b[0m sums \u001b[39m=\u001b[39m sum_cosine_similarities(unmasked_ratings)\n\u001b[0;32m     22\u001b[0m \u001b[39m# get top n ratings\u001b[39;00m\n\u001b[0;32m     23\u001b[0m top_ratings \u001b[39m=\u001b[39m get_top_rated(sums, top_n)\n",
      "Cell \u001b[1;32mIn[16], line 14\u001b[0m, in \u001b[0;36msum_cosine_similarities\u001b[1;34m(unmasked_ratings)\u001b[0m\n\u001b[0;32m      9\u001b[0m \u001b[39mfor\u001b[39;00m rating \u001b[39min\u001b[39;00m unmasked_ratings\u001b[39m.\u001b[39mrows():\n\u001b[0;32m     11\u001b[0m     \u001b[39mif\u001b[39;00m rating[\u001b[39m2\u001b[39m] \u001b[39m>\u001b[39m\u001b[39m=\u001b[39m \u001b[39m3\u001b[39m:\n\u001b[0;32m     12\u001b[0m \n\u001b[0;32m     13\u001b[0m         \u001b[39m# get precomputed cosine similarities for the current movie\u001b[39;00m\n\u001b[1;32m---> 14\u001b[0m         scores \u001b[39m=\u001b[39m get_cosine_similarities(rating)\n\u001b[0;32m     16\u001b[0m         sum_scores \u001b[39m=\u001b[39m sum_scores \u001b[39m+\u001b[39m scores\n\u001b[0;32m     18\u001b[0m \u001b[39m# join the scores with the movie_ids from movie_titles\u001b[39;00m\n",
      "Cell \u001b[1;32mIn[15], line 19\u001b[0m, in \u001b[0;36mget_cosine_similarities\u001b[1;34m(movie_id)\u001b[0m\n\u001b[0;32m     15\u001b[0m \u001b[39m# go through all movies\u001b[39;00m\n\u001b[0;32m     16\u001b[0m \u001b[39mfor\u001b[39;00m movie \u001b[39min\u001b[39;00m movie_titles[\u001b[39m\"\u001b[39m\u001b[39mfilm\u001b[39m\u001b[39m\"\u001b[39m]:\n\u001b[0;32m     17\u001b[0m     \n\u001b[0;32m     18\u001b[0m     \u001b[39m# calculate cosine similarity\u001b[39;00m\n\u001b[1;32m---> 19\u001b[0m     score \u001b[39m=\u001b[39m cosine_similarity\u001b[39m.\u001b[39;49mget_cosine_sim_scores(movie)\n\u001b[0;32m     21\u001b[0m     scores\u001b[39m.\u001b[39mappend(score)\n\u001b[0;32m     23\u001b[0m     \u001b[39mif\u001b[39;00m movie \u001b[39m==\u001b[39m movie_id:\n",
      "File \u001b[1;32mc:\\Users\\julia\\OneDrive\\Desktop\\netflix_recommendation\\Source\\JulianClusterMatrix.py:74\u001b[0m, in \u001b[0;36mCosine_Similarity_Cluster_Matrix.get_cosine_sim_scores\u001b[1;34m(self, movie_id)\u001b[0m\n\u001b[0;32m     70\u001b[0m     \u001b[39mreturn\u001b[39;00m pd\u001b[39m.\u001b[39mSeries(np\u001b[39m.\u001b[39mzeros(\u001b[39mlen\u001b[39m(\u001b[39mself\u001b[39m\u001b[39m.\u001b[39mdf)), index\u001b[39m=\u001b[39m\u001b[39mself\u001b[39m\u001b[39m.\u001b[39mdf\u001b[39m.\u001b[39mindex)\n\u001b[0;32m     72\u001b[0m cluster \u001b[39m=\u001b[39m \u001b[39mself\u001b[39m\u001b[39m.\u001b[39mdf\u001b[39m.\u001b[39mloc[idx, \u001b[39m'\u001b[39m\u001b[39mGenreCluster\u001b[39m\u001b[39m'\u001b[39m]\n\u001b[1;32m---> 74\u001b[0m cosine_sim_matrix, movie_indices \u001b[39m=\u001b[39m \u001b[39mself\u001b[39;49m\u001b[39m.\u001b[39;49mread_from_csv(cluster)\n\u001b[0;32m     76\u001b[0m idx_cluster \u001b[39m=\u001b[39m np\u001b[39m.\u001b[39mwhere(movie_indices \u001b[39m==\u001b[39m idx)[\u001b[39m0\u001b[39m][\u001b[39m0\u001b[39m]\n\u001b[0;32m     77\u001b[0m sim_scores \u001b[39m=\u001b[39m pd\u001b[39m.\u001b[39mSeries(cosine_sim_matrix[idx_cluster], index\u001b[39m=\u001b[39mmovie_indices)\n",
      "File \u001b[1;32mc:\\Users\\julia\\OneDrive\\Desktop\\netflix_recommendation\\Source\\JulianClusterMatrix.py:60\u001b[0m, in \u001b[0;36mCosine_Similarity_Cluster_Matrix.read_from_csv\u001b[1;34m(cluster_id)\u001b[0m\n\u001b[0;32m     58\u001b[0m \u001b[39m@staticmethod\u001b[39m\n\u001b[0;32m     59\u001b[0m \u001b[39mdef\u001b[39;00m \u001b[39mread_from_csv\u001b[39m(cluster_id):\n\u001b[1;32m---> 60\u001b[0m     cosine_sim_matrix \u001b[39m=\u001b[39m np\u001b[39m.\u001b[39;49mloadtxt(\u001b[39mrf\u001b[39;49m\u001b[39m\"\u001b[39;49m\u001b[39mC:\u001b[39;49m\u001b[39m\\\u001b[39;49m\u001b[39mUsers\u001b[39;49m\u001b[39m\\\u001b[39;49m\u001b[39mjulia\u001b[39;49m\u001b[39m\\\u001b[39;49m\u001b[39mOneDrive\u001b[39;49m\u001b[39m\\\u001b[39;49m\u001b[39mDesktop\u001b[39;49m\u001b[39m\\\u001b[39;49m\u001b[39mnetflix_recommendation\u001b[39;49m\u001b[39m\\\u001b[39;49m\u001b[39mcosine_sim_cluster_\u001b[39;49m\u001b[39m{\u001b[39;49;00mcluster_id\u001b[39m}\u001b[39;49;00m\u001b[39m.csv\u001b[39;49m\u001b[39m\"\u001b[39;49m, delimiter\u001b[39m=\u001b[39;49m\u001b[39m\"\u001b[39;49m\u001b[39m,\u001b[39;49m\u001b[39m\"\u001b[39;49m)\n\u001b[0;32m     61\u001b[0m     movie_indices \u001b[39m=\u001b[39m pd\u001b[39m.\u001b[39mread_csv(\u001b[39mrf\u001b[39m\u001b[39m\"\u001b[39m\u001b[39mC:\u001b[39m\u001b[39m\\\u001b[39m\u001b[39mUsers\u001b[39m\u001b[39m\\\u001b[39m\u001b[39mjulia\u001b[39m\u001b[39m\\\u001b[39m\u001b[39mOneDrive\u001b[39m\u001b[39m\\\u001b[39m\u001b[39mDesktop\u001b[39m\u001b[39m\\\u001b[39m\u001b[39mnetflix_recommendation\u001b[39m\u001b[39m\\\u001b[39m\u001b[39mmovie_indices_cluster_\u001b[39m\u001b[39m{\u001b[39;00mcluster_id\u001b[39m}\u001b[39;00m\u001b[39m.csv\u001b[39m\u001b[39m\"\u001b[39m)\n\u001b[0;32m     62\u001b[0m     movie_indices \u001b[39m=\u001b[39m movie_indices\u001b[39m.\u001b[39msqueeze()  \u001b[39m# Umwandlung des DataFrame in eine Series\u001b[39;00m\n",
      "File \u001b[1;32mc:\\Users\\julia\\AppData\\Local\\Programs\\Python\\Python310\\lib\\site-packages\\numpy\\lib\\npyio.py:1154\u001b[0m, in \u001b[0;36mloadtxt\u001b[1;34m(fname, dtype, comments, delimiter, converters, skiprows, usecols, unpack, ndmin, encoding, max_rows, like)\u001b[0m\n\u001b[0;32m   1152\u001b[0m \u001b[39mwhile\u001b[39;00m \u001b[39mTrue\u001b[39;00m:\n\u001b[0;32m   1153\u001b[0m     chunk \u001b[39m=\u001b[39m []\n\u001b[1;32m-> 1154\u001b[0m     \u001b[39mfor\u001b[39;00m lineno, words \u001b[39min\u001b[39;00m itertools\u001b[39m.\u001b[39mislice(\n\u001b[0;32m   1155\u001b[0m             lineno_words_iter, _loadtxt_chunksize):\n\u001b[0;32m   1156\u001b[0m         \u001b[39mif\u001b[39;00m usecols_getter \u001b[39mis\u001b[39;00m \u001b[39mnot\u001b[39;00m \u001b[39mNone\u001b[39;00m:\n\u001b[0;32m   1157\u001b[0m             words \u001b[39m=\u001b[39m usecols_getter(words)\n",
      "File \u001b[1;32mc:\\Users\\julia\\AppData\\Local\\Programs\\Python\\Python310\\lib\\encodings\\cp1252.py:22\u001b[0m, in \u001b[0;36mIncrementalDecoder.decode\u001b[1;34m(self, input, final)\u001b[0m\n\u001b[0;32m     21\u001b[0m \u001b[39mclass\u001b[39;00m \u001b[39mIncrementalDecoder\u001b[39;00m(codecs\u001b[39m.\u001b[39mIncrementalDecoder):\n\u001b[1;32m---> 22\u001b[0m     \u001b[39mdef\u001b[39;00m \u001b[39mdecode\u001b[39m(\u001b[39mself\u001b[39m, \u001b[39minput\u001b[39m, final\u001b[39m=\u001b[39m\u001b[39mFalse\u001b[39;00m):\n\u001b[0;32m     23\u001b[0m         \u001b[39mreturn\u001b[39;00m codecs\u001b[39m.\u001b[39mcharmap_decode(\u001b[39minput\u001b[39m,\u001b[39mself\u001b[39m\u001b[39m.\u001b[39merrors,decoding_table)[\u001b[39m0\u001b[39m]\n",
      "\u001b[1;31mKeyboardInterrupt\u001b[0m: "
     ]
    }
   ],
   "source": [
    "split_date = datetime.datetime(2005, 9, 1)\n",
    "full_evaluate_cosine_similarity(10, split_date, 500)"
   ]
  },
  {
   "cell_type": "code",
   "execution_count": null,
   "metadata": {},
   "outputs": [],
   "source": [
    "split_date = datetime.datetime(2005, 9, 1)\n",
    "full_evaluate_cosine_similarity(305344, split_date, 500)"
   ]
  },
  {
   "cell_type": "code",
   "execution_count": 43,
   "metadata": {},
   "outputs": [
    {
     "name": "stdout",
     "output_type": "stream",
     "text": [
      "0\n"
     ]
    }
   ],
   "source": [
    "\n",
    "\n",
    "def get_best_rated_movie(user_id):\n",
    "    user_ratings = get_user_ratings(user_id)\n",
    "    best_rated_movie = user_ratings.sort(by=['rating'], descending=True).row(0)[0]\n",
    "    return best_rated_movie\n",
    "\n",
    "best_rated_movie = get_best_rated_movie(10)\n",
    "user_ratings_given = get_user_ratings(10)\n",
    "\n",
    "top_50_movies_for_movie = cosine_similarity.get_movie_cos_scores(best_rated_movie, bonus_actor=0.1, \n",
    "                            bonus_same_director=0.2, bonus_same_genre=0.2, min_same_genre_count=4)\n",
    "\n",
    "def calculate_MAP(user, recommended_movies, user_ratings):\n",
    "    sum_precision = 0\n",
    "    relevant_items = 0\n",
    "    total_recommended = 0\n",
    "    \n",
    "    # Filtere den DataFrame nach dem Benutzer\n",
    "    user_ratings_filtered = user_ratings.filter(user_ratings['user'] == user)\n",
    "    \n",
    "    # Erstelle ein Dictionary der Bewertungen für schnellen Zugriff\n",
    "    user_ratings_dict = {row[0]: row[1] for row in user_ratings_filtered.iter_rows()}\n",
    "    \n",
    "    for i, movie in enumerate(recommended_movies):\n",
    "        user_rating = user_ratings_dict.get(movie, None)\n",
    "        \n",
    "        if user_rating is not None:\n",
    "            if user_rating >= 4:\n",
    "                relevant_items += 1\n",
    "            total_recommended += 1\n",
    "            sum_precision += (relevant_items / total_recommended)\n",
    "    \n",
    "    MAP = sum_precision / total_recommended if total_recommended > 0 else 0\n",
    "    \n",
    "    return MAP\n",
    "\n",
    "\n",
    "\n",
    "\n",
    "\n",
    "\n",
    "MAP_for_movie = calculate_MAP(10, top_50_movies_for_movie, user_ratings_given)\n",
    "print(MAP_for_movie)"
   ]
  },
  {
   "cell_type": "code",
   "execution_count": 28,
   "metadata": {},
   "outputs": [
    {
     "name": "stdout",
     "output_type": "stream",
     "text": [
      "Fokussierte Genauigkeit für den Benutzer: 0.24067796610169492\n"
     ]
    }
   ],
   "source": [
    "def calculate_focused_accuracy(user, recommended_movies, user_ratings):\n",
    "    # Filtere den DataFrame nach dem Benutzer\n",
    "    user_ratings_filtered = user_ratings.filter(user_ratings['user'] == user)\n",
    "    user_ratings_dict = {row[0]: row[2] for row in user_ratings_filtered.iter_rows()}\n",
    "\n",
    "    # Finde die Schnittmenge der empfohlenen und bewerteten Filme\n",
    "    intersect_movies = set(recommended_movies).intersection(set(user_ratings_dict.keys()))\n",
    "\n",
    "    # Überprüfe, ob es eine Schnittmenge gibt\n",
    "    if len(intersect_movies) == 0:\n",
    "        return \"Keiner der empfohlenen Filme wurde vom Nutzer bewertet\"\n",
    "\n",
    "    # Zähle, wie viele der Schnittmengenfilme positiv bewertet wurden\n",
    "    count_positive_ratings = sum(1 for movie in intersect_movies if user_ratings_dict[movie] >= 3)\n",
    "\n",
    "    return count_positive_ratings / len(intersect_movies)\n",
    "\n",
    "def get_best_rated_movie(user_id):\n",
    "    user_ratings = get_user_ratings(user_id)\n",
    "    best_rated_movie = user_ratings.sort(by=['rating'], descending=True).row(0)[0]\n",
    "    return best_rated_movie\n",
    "\n",
    "best_rated_movie = get_best_rated_movie(387418)\n",
    "user_ratings_given = get_user_ratings(387418)\n",
    "\n",
    "top_50_movies_for_movie = cosine_similarity.get_movie_cos_scores(best_rated_movie, bonus_actor=0.08, \n",
    "                            bonus_same_director=0.02)\n",
    "# Beispielanwendung\n",
    "recommended_movies = top_50_movies_for_movie\n",
    "focused_accuracy = calculate_focused_accuracy(387418, recommended_movies, user_ratings_given)\n",
    "print(\"Fokussierte Genauigkeit für den Benutzer:\", focused_accuracy)\n"
   ]
  },
  {
   "cell_type": "code",
   "execution_count": 25,
   "metadata": {},
   "outputs": [
    {
     "name": "stdout",
     "output_type": "stream",
     "text": [
      "['__add__', '__annotations__', '__array__', '__bool__', '__class__', '__contains__', '__copy__', '__dataframe__', '__deepcopy__', '__delattr__', '__dict__', '__dir__', '__doc__', '__eq__', '__floordiv__', '__format__', '__ge__', '__getattribute__', '__getitem__', '__getstate__', '__gt__', '__hash__', '__init__', '__init_subclass__', '__iter__', '__le__', '__len__', '__lt__', '__mod__', '__module__', '__mul__', '__ne__', '__new__', '__radd__', '__reduce__', '__reduce_ex__', '__repr__', '__rmul__', '__setattr__', '__setitem__', '__setstate__', '__sizeof__', '__str__', '__sub__', '__subclasshook__', '__truediv__', '__weakref__', '_accessors', '_cast_all_from_to', '_comp', '_compare_to_non_df', '_compare_to_other_df', '_df', '_div', '_from_arrow', '_from_dict', '_from_dicts', '_from_numpy', '_from_pandas', '_from_pydf', '_from_records', '_ipython_key_completions_', '_pos_idx', '_pos_idxs', '_read_avro', '_read_csv', '_read_ipc', '_read_json', '_read_ndjson', '_read_parquet', '_repr_html_', 'apply', 'bottom_k', 'clear', 'clone', 'columns', 'corr', 'describe', 'drop', 'drop_in_place', 'drop_nulls', 'dtypes', 'estimated_size', 'explode', 'extend', 'fill_nan', 'fill_null', 'filter', 'find_idx_by_name', 'fold', 'frame_equal', 'get_column', 'get_columns', 'glimpse', 'groupby', 'groupby_dynamic', 'groupby_rolling', 'hash_rows', 'head', 'height', 'hstack', 'insert_at_idx', 'interpolate', 'is_duplicated', 'is_empty', 'is_unique', 'item', 'iter_rows', 'iter_slices', 'join', 'join_asof', 'lazy', 'limit', 'max', 'mean', 'median', 'melt', 'merge_sorted', 'min', 'n_chunks', 'n_unique', 'null_count', 'partition_by', 'pipe', 'pivot', 'product', 'quantile', 'rechunk', 'rename', 'replace', 'replace_at_idx', 'reverse', 'row', 'rows', 'sample', 'schema', 'select', 'set_sorted', 'shape', 'shift', 'shift_and_fill', 'shrink_to_fit', 'slice', 'sort', 'std', 'sum', 'tail', 'take_every', 'to_arrow', 'to_dict', 'to_dicts', 'to_dummies', 'to_init_repr', 'to_numpy', 'to_pandas', 'to_series', 'to_struct', 'top_k', 'transpose', 'unique', 'unnest', 'unstack', 'update', 'upsample', 'var', 'vstack', 'width', 'with_columns', 'with_row_count', 'write_avro', 'write_csv', 'write_database', 'write_excel', 'write_ipc', 'write_json', 'write_ndjson', 'write_parquet']\n",
      "<class 'polars.dataframe.frame.DataFrame'>\n",
      "473\n"
     ]
    }
   ],
   "source": [
    "def get_best_rated_movie(user_id):\n",
    "    user_ratings = get_user_ratings(user_id)\n",
    "    best_rated_movie = user_ratings.sort(by=['rating'], descending=True).row(0)[0]\n",
    "    return best_rated_movie\n",
    "\n",
    "  \n",
    "print(get_best_rated_movie(10))\n",
    "    \n"
   ]
  },
  {
   "cell_type": "code",
   "execution_count": 11,
   "metadata": {},
   "outputs": [
    {
     "ename": "NameError",
     "evalue": "name 'user_ratings' is not defined",
     "output_type": "error",
     "traceback": [
      "\u001b[1;31m---------------------------------------------------------------------------\u001b[0m",
      "\u001b[1;31mNameError\u001b[0m                                 Traceback (most recent call last)",
      "Cell \u001b[1;32mIn[11], line 12\u001b[0m\n\u001b[0;32m      9\u001b[0m     \u001b[39mreturn\u001b[39;00m count_positive_ratings \u001b[39m/\u001b[39m \u001b[39mlen\u001b[39m(intersect_movies)\n\u001b[0;32m     11\u001b[0m \u001b[39m# Initialisierung\u001b[39;00m\n\u001b[1;32m---> 12\u001b[0m unique_users \u001b[39m=\u001b[39m user_ratings[\u001b[39m'\u001b[39m\u001b[39muser\u001b[39m\u001b[39m'\u001b[39m]\u001b[39m.\u001b[39munique()\n\u001b[0;32m     13\u001b[0m total_accuracy \u001b[39m=\u001b[39m \u001b[39m0\u001b[39m\n\u001b[0;32m     14\u001b[0m count_users \u001b[39m=\u001b[39m \u001b[39m0\u001b[39m\n",
      "\u001b[1;31mNameError\u001b[0m: name 'user_ratings' is not defined"
     ]
    }
   ],
   "source": [
    "# Funktion zur Berechnung der fokussierten Genauigkeit\n",
    "def calculate_focused_accuracy(user, recommended_movies, user_ratings):\n",
    "    user_ratings_filtered = user_ratings.filter(user_ratings['user'] == user)\n",
    "    user_ratings_dict = {row[0]: row[2] for row in user_ratings_filtered.iter_rows()}\n",
    "    intersect_movies = set(recommended_movies).intersection(set(user_ratings_dict.keys()))\n",
    "    if len(intersect_movies) == 0:\n",
    "        return \"Keiner der empfohlenen Filme wurde vom Nutzer bewertet\"\n",
    "    count_positive_ratings = sum(1 for movie in intersect_movies if user_ratings_dict[movie] > 4)\n",
    "    return count_positive_ratings / len(intersect_movies)\n",
    "\n",
    "# Initialisierung\n",
    "unique_users = user_ratings['user'].unique()\n",
    "total_accuracy = 0\n",
    "count_users = 0\n",
    "\n",
    "# Durch alle Benutzer iterieren\n",
    "for user_id in unique_users:\n",
    "    best_rated_movie = get_best_rated_movie(user_id)\n",
    "    user_ratings_given = get_user_ratings(user_id)\n",
    "    top_50_movies_for_movie = cosine_similarity.get_movie_cos_scores(best_rated_movie)\n",
    "    focused_accuracy = calculate_focused_accuracy(user_id, top_50_movies_for_movie, user_ratings_given)\n",
    "    \n",
    "    if isinstance(focused_accuracy, float):\n",
    "        total_accuracy += focused_accuracy\n",
    "        count_users += 1\n",
    "\n",
    "# Durchschnittliche Genauigkeit berechnen\n",
    "if count_users > 0:\n",
    "    average_accuracy = total_accuracy / count_users\n",
    "    print(\"Durchschnittliche fokussierte Genauigkeit:\", average_accuracy)\n",
    "else:\n",
    "    print(\"Keine auswertbaren Daten gefunden.\")\n",
    "\n",
    "\n",
    "def get_unique_users():\n",
    "    return netflix_data.select(\"user\").unique().to_list()\n",
    "\n",
    "# Beispielanwendung\n",
    "list_of_unique_users = get_unique_users()\n",
    "mean_focused_accuracy = calculate_mean_focused_accuracy(list_of_unique_users, recommended_movies, netflix_data)\n",
    "print(\"Mittlere fokussierte Genauigkeit:\", mean_focused_accuracy)"
   ]
  },
  {
   "cell_type": "code",
   "execution_count": 18,
   "metadata": {},
   "outputs": [],
   "source": [
    "def get_best_rated_movie(user_id):\n",
    "    user_ratings = get_user_ratings(user_id)\n",
    "    best_rated_movie = user_ratings.sort(by=['rating'], descending=True).row(0)[0]\n",
    "    return best_rated_movie"
   ]
  },
  {
   "cell_type": "code",
   "execution_count": 29,
   "metadata": {},
   "outputs": [
    {
     "ename": "KeyboardInterrupt",
     "evalue": "",
     "output_type": "error",
     "traceback": [
      "\u001b[1;31m---------------------------------------------------------------------------\u001b[0m",
      "\u001b[1;31mKeyboardInterrupt\u001b[0m                         Traceback (most recent call last)",
      "Cell \u001b[1;32mIn[29], line 32\u001b[0m\n\u001b[0;32m     29\u001b[0m list_of_unique_users \u001b[39m=\u001b[39m netflix_data[\u001b[39m'\u001b[39m\u001b[39muser\u001b[39m\u001b[39m'\u001b[39m]\u001b[39m.\u001b[39munique()\u001b[39m.\u001b[39mto_list()\n\u001b[0;32m     31\u001b[0m \u001b[39m# Berechne die durchschnittliche fokussierte Genauigkeit\u001b[39;00m\n\u001b[1;32m---> 32\u001b[0m mean_focused_accuracy \u001b[39m=\u001b[39m calculate_mean_focused_accuracy(list_of_unique_users, netflix_data)\n\u001b[0;32m     34\u001b[0m \u001b[39mprint\u001b[39m(\u001b[39m\"\u001b[39m\u001b[39mDurchschnittliche fokussierte Genauigkeit:\u001b[39m\u001b[39m\"\u001b[39m, mean_focused_accuracy)\n",
      "Cell \u001b[1;32mIn[29], line 6\u001b[0m, in \u001b[0;36mcalculate_mean_focused_accuracy\u001b[1;34m(list_of_users, netflix_data)\u001b[0m\n\u001b[0;32m      3\u001b[0m count_users_with_intersection \u001b[39m=\u001b[39m \u001b[39m0\u001b[39m\n\u001b[0;32m      5\u001b[0m \u001b[39mfor\u001b[39;00m user \u001b[39min\u001b[39;00m list_of_users:\n\u001b[1;32m----> 6\u001b[0m     user_ratings_given \u001b[39m=\u001b[39m get_user_ratings(user)\n\u001b[0;32m      8\u001b[0m     \u001b[39m# Finde den am besten bewerteten Film für den Benutzer\u001b[39;00m\n\u001b[0;32m      9\u001b[0m     best_rated_movie \u001b[39m=\u001b[39m get_best_rated_movie(user)\n",
      "Cell \u001b[1;32mIn[4], line 3\u001b[0m, in \u001b[0;36mget_user_ratings\u001b[1;34m(user_id)\u001b[0m\n\u001b[0;32m      2\u001b[0m \u001b[39mdef\u001b[39;00m \u001b[39mget_user_ratings\u001b[39m(user_id):\n\u001b[1;32m----> 3\u001b[0m     \u001b[39mreturn\u001b[39;00m netflix_data\u001b[39m.\u001b[39;49mfilter(pl\u001b[39m.\u001b[39;49mcol(\u001b[39m\"\u001b[39;49m\u001b[39muser\u001b[39;49m\u001b[39m\"\u001b[39;49m) \u001b[39m==\u001b[39;49m user_id)\n",
      "File \u001b[1;32mc:\\Users\\julia\\AppData\\Local\\Programs\\Python\\Python310\\lib\\site-packages\\polars\\dataframe\\frame.py:3505\u001b[0m, in \u001b[0;36mDataFrame.filter\u001b[1;34m(self, predicate)\u001b[0m\n\u001b[0;32m   3501\u001b[0m \u001b[39mif\u001b[39;00m _check_for_numpy(predicate) \u001b[39mand\u001b[39;00m \u001b[39misinstance\u001b[39m(predicate, np\u001b[39m.\u001b[39mndarray):\n\u001b[0;32m   3502\u001b[0m     predicate \u001b[39m=\u001b[39m pli\u001b[39m.\u001b[39mSeries(predicate)\n\u001b[0;32m   3504\u001b[0m \u001b[39mreturn\u001b[39;00m \u001b[39mself\u001b[39m\u001b[39m.\u001b[39m_from_pydf(\n\u001b[1;32m-> 3505\u001b[0m     \u001b[39mself\u001b[39;49m\u001b[39m.\u001b[39;49mlazy()\n\u001b[0;32m   3506\u001b[0m     \u001b[39m.\u001b[39;49mfilter(predicate)  \u001b[39m# type: ignore[arg-type]\u001b[39;49;00m\n\u001b[0;32m   3507\u001b[0m     \u001b[39m.\u001b[39;49mcollect(no_optimization\u001b[39m=\u001b[39;49m\u001b[39mTrue\u001b[39;49;00m)\n\u001b[0;32m   3508\u001b[0m     \u001b[39m.\u001b[39m_df\n\u001b[0;32m   3509\u001b[0m )\n",
      "File \u001b[1;32mc:\\Users\\julia\\AppData\\Local\\Programs\\Python\\Python310\\lib\\site-packages\\polars\\lazyframe\\frame.py:1606\u001b[0m, in \u001b[0;36mLazyFrame.collect\u001b[1;34m(self, type_coercion, predicate_pushdown, projection_pushdown, simplify_expression, no_optimization, slice_pushdown, common_subplan_elimination, streaming)\u001b[0m\n\u001b[0;32m   1595\u001b[0m     common_subplan_elimination \u001b[39m=\u001b[39m \u001b[39mFalse\u001b[39;00m\n\u001b[0;32m   1597\u001b[0m ldf \u001b[39m=\u001b[39m \u001b[39mself\u001b[39m\u001b[39m.\u001b[39m_ldf\u001b[39m.\u001b[39moptimization_toggle(\n\u001b[0;32m   1598\u001b[0m     type_coercion,\n\u001b[0;32m   1599\u001b[0m     predicate_pushdown,\n\u001b[1;32m   (...)\u001b[0m\n\u001b[0;32m   1604\u001b[0m     streaming,\n\u001b[0;32m   1605\u001b[0m )\n\u001b[1;32m-> 1606\u001b[0m \u001b[39mreturn\u001b[39;00m wrap_df(ldf\u001b[39m.\u001b[39;49mcollect())\n",
      "\u001b[1;31mKeyboardInterrupt\u001b[0m: "
     ]
    }
   ],
   "source": [
    "def calculate_mean_focused_accuracy(list_of_users, netflix_data):\n",
    "    sum_focused_accuracy = 0\n",
    "    count_users_with_intersection = 0\n",
    "\n",
    "    for user in list_of_users:\n",
    "        user_ratings_given = get_user_ratings(user)\n",
    "        \n",
    "        # Finde den am besten bewerteten Film für den Benutzer\n",
    "        best_rated_movie = get_best_rated_movie(user)\n",
    "        \n",
    "        # Erhalte Top-50-Filme basierend auf dem am besten bewerteten Film\n",
    "        recommended_movies = cosine_similarity.get_movie_cos_scores(best_rated_movie, bonus_actor=0.08, bonus_same_director=0.02)\n",
    "        \n",
    "        # Berechne die fokussierte Genauigkeit\n",
    "        focused_accuracy = calculate_focused_accuracy(user, recommended_movies, user_ratings_given)\n",
    "        \n",
    "        if focused_accuracy != \"Keiner der empfohlenen Filme wurde vom Nutzer bewertet\":\n",
    "            sum_focused_accuracy += focused_accuracy\n",
    "            count_users_with_intersection += 1\n",
    "            \n",
    "    if count_users_with_intersection == 0:\n",
    "        return \"Keiner der empfohlenen Filme wurde von den Benutzern bewertet\"\n",
    "    else:\n",
    "        return sum_focused_accuracy / count_users_with_intersection\n",
    "    \n",
    "\n",
    "\n",
    "# Extrahiere eine Liste der einzigartigen Benutzer\n",
    "list_of_unique_users = netflix_data['user'].unique().to_list()\n",
    "\n",
    "# Berechne die durchschnittliche fokussierte Genauigkeit\n",
    "mean_focused_accuracy = calculate_mean_focused_accuracy(list_of_unique_users, netflix_data)\n",
    "\n",
    "print(\"Durchschnittliche fokussierte Genauigkeit:\", mean_focused_accuracy)"
   ]
  },
  {
   "cell_type": "code",
   "execution_count": 52,
   "metadata": {},
   "outputs": [
    {
     "data": {
      "text/html": [
       "<div><style>\n",
       ".dataframe > thead > tr > th,\n",
       ".dataframe > tbody > tr > td {\n",
       "  text-align: right;\n",
       "}\n",
       "</style>\n",
       "<small>shape: (5, 2)</small><table border=\"1\" class=\"dataframe\"><thead><tr><th>user</th><th>count</th></tr><tr><td>i64</td><td>u32</td></tr></thead><tbody><tr><td>305344</td><td>17653</td></tr><tr><td>387418</td><td>17436</td></tr><tr><td>2439493</td><td>16565</td></tr><tr><td>1664010</td><td>15813</td></tr><tr><td>2118461</td><td>14831</td></tr></tbody></table></div>"
      ],
      "text/plain": [
       "shape: (5, 2)\n",
       "┌─────────┬───────┐\n",
       "│ user    ┆ count │\n",
       "│ ---     ┆ ---   │\n",
       "│ i64     ┆ u32   │\n",
       "╞═════════╪═══════╡\n",
       "│ 305344  ┆ 17653 │\n",
       "│ 387418  ┆ 17436 │\n",
       "│ 2439493 ┆ 16565 │\n",
       "│ 1664010 ┆ 15813 │\n",
       "│ 2118461 ┆ 14831 │\n",
       "└─────────┴───────┘"
      ]
     },
     "execution_count": 52,
     "metadata": {},
     "output_type": "execute_result"
    }
   ],
   "source": [
    "#Finde User mit den meisten Bewertungen\n",
    "user_rating_counts = netflix_data.groupby(\"user\").count().sort(by=\"count\", descending=True)\n",
    "user_rating_counts.head(5)"
   ]
  }
 ],
 "metadata": {
  "kernelspec": {
   "display_name": "Python 3",
   "language": "python",
   "name": "python3"
  },
  "language_info": {
   "codemirror_mode": {
    "name": "ipython",
    "version": 3
   },
   "file_extension": ".py",
   "mimetype": "text/x-python",
   "name": "python",
   "nbconvert_exporter": "python",
   "pygments_lexer": "ipython3",
   "version": "3.10.4"
  },
  "orig_nbformat": 4
 },
 "nbformat": 4,
 "nbformat_minor": 2
}
