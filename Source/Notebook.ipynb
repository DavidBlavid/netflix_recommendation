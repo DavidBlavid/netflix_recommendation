{
 "cells": [
  {
   "cell_type": "code",
   "execution_count": 1,
   "metadata": {},
   "outputs": [
    {
     "name": "stderr",
     "output_type": "stream",
     "text": [
      "100%|██████████| 22605786/22605786 [00:40<00:00, 561613.40it/s]\n"
     ]
    },
    {
     "name": "stdout",
     "output_type": "stream",
     "text": [
      "Creating dataframe\n",
      "Saving to DB\n"
     ]
    },
    {
     "name": "stderr",
     "output_type": "stream",
     "text": [
      "100%|██████████| 26851926/26851926 [00:51<00:00, 526002.14it/s]\n"
     ]
    },
    {
     "name": "stdout",
     "output_type": "stream",
     "text": [
      "Creating dataframe\n",
      "Saving to DB\n"
     ]
    }
   ],
   "source": [
    "# import polars as pl\n",
    "import re\n",
    "from tqdm import tqdm\n",
    "import pandas as pd\n",
    "import sqlite3 as db\n",
    "\n",
    "combined_data_files = [\n",
    "    r\"data/combined_data_1.txt\",\n",
    "    r\"data/combined_data_2.txt\",\n",
    "    r\"data/combined_data_3.txt\",\n",
    "    r\"data/combined_data_4.txt\"\n",
    "\n",
    "]\n",
    "\n",
    "results = []\n",
    "current_film = None\n",
    "con = db.connect('netflix.db')\n",
    "\n",
    "for file in combined_data_files[2:]:\n",
    "\n",
    "    with open(file, \"r\") as file:\n",
    "        lines = file.readlines()\n",
    "        for line in tqdm(lines):\n",
    "            if re.match(r\"\\d*:\", line):\n",
    "                current_film = int(line.strip()[:-1])\n",
    "            else:\n",
    "                vals = line.split(\",\")\n",
    "                user = int(vals[0])\n",
    "                rating = int(vals[1])\n",
    "                date = vals[2]\n",
    "                results.append([current_film, user, rating, date])\n",
    "    print(\"Creating dataframe\")\n",
    "    data = pd.DataFrame(results, columns=[\"film\", \"user\", \"rating\", \"date\"])\n",
    "    print(\"Saving to DB\")\n",
    "    data.to_sql('netflix_data', con, if_exists='append', index=False)\n",
    "    results = []"
   ]
  },
  {
   "cell_type": "code",
   "execution_count": 4,
   "metadata": {},
   "outputs": [],
   "source": [
    "\n",
    "import sqlite3\n",
    "import pandas as pd\n",
    "import sqlite3 as db\n",
    "\n",
    "con = sqlite3.connect('netflix.db')\n",
    "# sql query that samples 1000 rows from the table\n",
    "data = pd.read_sql_query(\"SELECT * FROM netflix_data ORDER BY RANDOM() LIMIT 100000\", con)"
   ]
  },
  {
   "cell_type": "code",
   "execution_count": 5,
   "metadata": {},
   "outputs": [
    {
     "data": {
      "text/plain": [
       "100000"
      ]
     },
     "execution_count": 5,
     "metadata": {},
     "output_type": "execute_result"
    }
   ],
   "source": [
    "con = db.connect('netflix_dev.db')\n",
    "data.to_sql('netflix_data', con, if_exists='append', index=False)"
   ]
  },
  {
   "cell_type": "code",
   "execution_count": 9,
   "metadata": {},
   "outputs": [
    {
     "data": {
      "text/html": [
       "<div>\n",
       "<style scoped>\n",
       "    .dataframe tbody tr th:only-of-type {\n",
       "        vertical-align: middle;\n",
       "    }\n",
       "\n",
       "    .dataframe tbody tr th {\n",
       "        vertical-align: top;\n",
       "    }\n",
       "\n",
       "    .dataframe thead th {\n",
       "        text-align: right;\n",
       "    }\n",
       "</style>\n",
       "<table border=\"1\" class=\"dataframe\">\n",
       "  <thead>\n",
       "    <tr style=\"text-align: right;\">\n",
       "      <th></th>\n",
       "      <th>film</th>\n",
       "      <th>user</th>\n",
       "      <th>rating</th>\n",
       "      <th>date</th>\n",
       "    </tr>\n",
       "  </thead>\n",
       "  <tbody>\n",
       "    <tr>\n",
       "      <th>0</th>\n",
       "      <td>1</td>\n",
       "      <td>1488844</td>\n",
       "      <td>3</td>\n",
       "      <td>2005-09-06\\n</td>\n",
       "    </tr>\n",
       "    <tr>\n",
       "      <th>1</th>\n",
       "      <td>1</td>\n",
       "      <td>822109</td>\n",
       "      <td>5</td>\n",
       "      <td>2005-05-13\\n</td>\n",
       "    </tr>\n",
       "    <tr>\n",
       "      <th>2</th>\n",
       "      <td>1</td>\n",
       "      <td>885013</td>\n",
       "      <td>4</td>\n",
       "      <td>2005-10-19\\n</td>\n",
       "    </tr>\n",
       "    <tr>\n",
       "      <th>3</th>\n",
       "      <td>1</td>\n",
       "      <td>30878</td>\n",
       "      <td>4</td>\n",
       "      <td>2005-12-26\\n</td>\n",
       "    </tr>\n",
       "    <tr>\n",
       "      <th>4</th>\n",
       "      <td>1</td>\n",
       "      <td>823519</td>\n",
       "      <td>3</td>\n",
       "      <td>2004-05-03\\n</td>\n",
       "    </tr>\n",
       "    <tr>\n",
       "      <th>...</th>\n",
       "      <td>...</td>\n",
       "      <td>...</td>\n",
       "      <td>...</td>\n",
       "      <td>...</td>\n",
       "    </tr>\n",
       "    <tr>\n",
       "      <th>24053759</th>\n",
       "      <td>4499</td>\n",
       "      <td>2591364</td>\n",
       "      <td>2</td>\n",
       "      <td>2005-02-16\\n</td>\n",
       "    </tr>\n",
       "    <tr>\n",
       "      <th>24053760</th>\n",
       "      <td>4499</td>\n",
       "      <td>1791000</td>\n",
       "      <td>2</td>\n",
       "      <td>2005-02-10\\n</td>\n",
       "    </tr>\n",
       "    <tr>\n",
       "      <th>24053761</th>\n",
       "      <td>4499</td>\n",
       "      <td>512536</td>\n",
       "      <td>5</td>\n",
       "      <td>2005-07-27\\n</td>\n",
       "    </tr>\n",
       "    <tr>\n",
       "      <th>24053762</th>\n",
       "      <td>4499</td>\n",
       "      <td>988963</td>\n",
       "      <td>3</td>\n",
       "      <td>2005-12-20\\n</td>\n",
       "    </tr>\n",
       "    <tr>\n",
       "      <th>24053763</th>\n",
       "      <td>4499</td>\n",
       "      <td>1704416</td>\n",
       "      <td>3</td>\n",
       "      <td>2004-06-02\\n</td>\n",
       "    </tr>\n",
       "  </tbody>\n",
       "</table>\n",
       "<p>24053764 rows × 4 columns</p>\n",
       "</div>"
      ],
      "text/plain": [
       "          film     user  rating          date\n",
       "0            1  1488844       3  2005-09-06\\n\n",
       "1            1   822109       5  2005-05-13\\n\n",
       "2            1   885013       4  2005-10-19\\n\n",
       "3            1    30878       4  2005-12-26\\n\n",
       "4            1   823519       3  2004-05-03\\n\n",
       "...        ...      ...     ...           ...\n",
       "24053759  4499  2591364       2  2005-02-16\\n\n",
       "24053760  4499  1791000       2  2005-02-10\\n\n",
       "24053761  4499   512536       5  2005-07-27\\n\n",
       "24053762  4499   988963       3  2005-12-20\\n\n",
       "24053763  4499  1704416       3  2004-06-02\\n\n",
       "\n",
       "[24053764 rows x 4 columns]"
      ]
     },
     "execution_count": 9,
     "metadata": {},
     "output_type": "execute_result"
    }
   ],
   "source": [
    "file_movies = \"data/movie_titles.csv\"\n",
    "\n",
    "with open(file_movies, \"r\") as file:\n",
    "    \n",
    "\n",
    "print(\"Creating dataframe\")\n",
    "data = pd.DataFrame(results, columns=[\"film\", \"user\", \"rating\", \"date\"])\n",
    "print(\"Saving to DB\")\n",
    "data.to_sql('netflix_data', con, if_exists='append', index=False)\n",
    "results = []"
   ]
  },
  {
   "cell_type": "code",
   "execution_count": null,
   "metadata": {},
   "outputs": [],
   "source": []
  }
 ],
 "metadata": {
  "kernelspec": {
   "display_name": "Python 3",
   "language": "python",
   "name": "python3"
  },
  "language_info": {
   "codemirror_mode": {
    "name": "ipython",
    "version": 3
   },
   "file_extension": ".py",
   "mimetype": "text/x-python",
   "name": "python",
   "nbconvert_exporter": "python",
   "pygments_lexer": "ipython3",
   "version": "3.9.16"
  },
  "orig_nbformat": 4
 },
 "nbformat": 4,
 "nbformat_minor": 2
}
